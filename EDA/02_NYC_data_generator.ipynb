{
 "cells": [
  {
   "cell_type": "markdown",
   "metadata": {},
   "source": [
    "# 02_NYC_data_generator\n",
    "\n",
    "## NOTE: This notebook is currently incomplete. \n",
    "\n",
    "## An updated version will be pushed to the GitHub repo once it is complete\n",
    "\n",
    "Member of the team:\n",
    "- An Hoang\n",
    "- Michael Sedelmeyer\n",
    "- Mark McDonald\n",
    "\n",
    "\n",
    "### Inputs:\n",
    "\n",
    "**1. ../data/interim/Capital_Projects_clean.csv**\n",
    "\n",
    "A cleansed version of the Capital_Projects.csv file, wherein each record represents one project change.\n",
    "\n",
    "### Outputs:\n",
    "\n",
    "**1. ../data/interim/.csv**\n",
    "\n",
    "A version of the Capital_Projects.csv file, wherein each record represents one unique project with summary information regarding all associated project changes."
   ]
  },
  {
   "cell_type": "markdown",
   "metadata": {},
   "source": [
    "## Notebook Index\n",
    "\n",
    "<a name='index'></a>\n",
    "\n",
    "### 1) Notebook Setup \n",
    "&emsp; &emsp; <a href=#imports>Imports</a>  // <a href=#helpers>Helper Functions</a> // <a href=#read>Read Dataset</a>\n",
    "\n",
    "### 2) Analysis\n",
    "\n",
    "#### &emsp; &emsp; a) <a href=#cleanup>Data Cleanup</a>\n",
    "\n",
    "#### &emsp; &emsp; b) <a href=#counts>Counts</a>\n",
    "\n",
    "#### &emsp; &emsp; c) <a href=#trends>Trends</a>\n",
    "\n",
    "#### &emsp; &emsp; d) <a href=#budget>Budget Values</a>\n",
    "\n",
    "#### &emsp; &emsp; e) <a href=#missing>\"Missing-ness\"</a>\n",
    "\n",
    "#### &emsp; &emsp; f) <a href=#summary>Summary & Findings</a>\n",
    "\n",
    "#### &emsp; &emsp; g) <a href=#open>Open Items / Unanswered</a>\n",
    "\n",
    "### 3) Save dataframes to .csv\n",
    "&emsp; &emsp; <a href=#save>Save dataframes to CSV</a>"
   ]
  },
  {
   "cell_type": "markdown",
   "metadata": {},
   "source": [
    "<a name='imports'></a>\n",
    "\n",
    "## Imports\n",
    "Imports for function used in this notebook.\n",
    "\n",
    "<a href=#index>index</a>"
   ]
  },
  {
   "cell_type": "code",
   "execution_count": 39,
   "metadata": {},
   "outputs": [],
   "source": [
    "import os\n",
    "import math\n",
    "from datetime import datetime, timedelta\n",
    "\n",
    "import pandas as pd\n",
    "import numpy as np\n",
    "import matplotlib.pyplot as plt\n",
    "import seaborn as sns\n",
    "from tqdm.notebook import tqdm\n",
    "\n",
    "# Avoid scientific notation output in Pandas\n",
    "# pd.set_option('display.float_format', lambda x: '%.2f' % x)\n",
    "pd.options.display.float_format = '{:,.2f}'.format\n",
    "import logging\n",
    "\n",
    "# Improve resolution of output graphcis\n",
    "%config InlineBackend.figure_format ='retina'"
   ]
  },
  {
   "cell_type": "markdown",
   "metadata": {},
   "source": [
    "<a name='helpers'></a>\n",
    "## Helper Functions\n",
    "Functions used to accomplish repeated tasks in this notebook.\n",
    "\n",
    "<a href=#index>index</a>"
   ]
  },
  {
   "cell_type": "markdown",
   "metadata": {},
   "source": [
    "<a name='read'></a>\n",
    "## Read Dataset\n",
    "Read the dataset and perform basic manipulation of headers and some fields including formatting.\n",
    "\n",
    "<a href=#index>index</a>"
   ]
  },
  {
   "cell_type": "code",
   "execution_count": 42,
   "metadata": {},
   "outputs": [
    {
     "name": "stdout",
     "output_type": "stream",
     "text": [
      "OK - path points to file.\n"
     ]
    }
   ],
   "source": [
    "predict_interval = 3 # number of years, None if all changes\n",
    "\n",
    "file_path = '../data/interim/Capital_Projects_clean.csv'\n",
    "save_path = '../data/interim/NYC_capital_projects_{}yr.csv'.format(predict_interval)\n",
    "\n",
    "if os.path.isfile(file_path):\n",
    "    print(\"OK - path points to file.\")\n",
    "else:\n",
    "    print(\"ERROR - check the 'file_path' and ensure it points to the source file.\")"
   ]
  },
  {
   "cell_type": "code",
   "execution_count": 43,
   "metadata": {},
   "outputs": [],
   "source": [
    "data = pd.read_csv(file_path)"
   ]
  },
  {
   "cell_type": "code",
   "execution_count": 44,
   "metadata": {},
   "outputs": [
    {
     "name": "stdout",
     "output_type": "stream",
     "text": [
      "Number of dataset records: 2095\n",
      "Number of unique projects in dataset: 355\n"
     ]
    }
   ],
   "source": [
    "# entries\n",
    "print(f\"Number of dataset records: {len(data)}\")\n",
    "\n",
    "# num projects\n",
    "print(f\"Number of unique projects in dataset: {len(data['PID'].unique())}\")"
   ]
  },
  {
   "cell_type": "code",
   "execution_count": 45,
   "metadata": {},
   "outputs": [],
   "source": [
    "datetime_cols = [\n",
    "    'Date_Reported_As_Of',\n",
    "    'Design_Start',\n",
    "    'Original_Schedule',\n",
    "    'Forecast_Completion'\n",
    "]\n",
    "\n",
    "for col in datetime_cols:\n",
    "    data[col] = pd.to_datetime(data[col])\n",
    "    \n",
    "# make sure data is sorted properly\n",
    "data = data.sort_values(by=['PID', 'PID_Index'])"
   ]
  },
  {
   "cell_type": "code",
   "execution_count": 46,
   "metadata": {},
   "outputs": [
    {
     "name": "stdout",
     "output_type": "stream",
     "text": [
      "<class 'pandas.core.frame.DataFrame'>\n",
      "RangeIndex: 2095 entries, 0 to 2094\n",
      "Data columns (total 24 columns):\n",
      " #   Column                   Non-Null Count  Dtype         \n",
      "---  ------                   --------------  -----         \n",
      " 0   Record_ID                2095 non-null   object        \n",
      " 1   Date_Reported_As_Of      2095 non-null   datetime64[ns]\n",
      " 2   PID                      2095 non-null   int64         \n",
      " 3   Project_Name             2095 non-null   object        \n",
      " 4   Description              2095 non-null   object        \n",
      " 5   Category                 2095 non-null   object        \n",
      " 6   Borough                  2095 non-null   object        \n",
      " 7   Managing_Agency          2095 non-null   object        \n",
      " 8   Client_Agency            2095 non-null   object        \n",
      " 9   Current_Phase            2095 non-null   object        \n",
      " 10  Design_Start             2095 non-null   datetime64[ns]\n",
      " 11  Original_Budget          2095 non-null   float64       \n",
      " 12  Budget_Forecast          2095 non-null   float64       \n",
      " 13  Latest_Budget_Changes    2095 non-null   float64       \n",
      " 14  Total_Budget_Changes     2095 non-null   float64       \n",
      " 15  Original_Schedule        2095 non-null   datetime64[ns]\n",
      " 16  Forecast_Completion      2095 non-null   datetime64[ns]\n",
      " 17  Latest_Schedule_Changes  2095 non-null   float64       \n",
      " 18  Total_Schedule_Changes   2095 non-null   float64       \n",
      " 19  PID_Index                2095 non-null   int64         \n",
      " 20  Change_Years             2095 non-null   float64       \n",
      " 21  Change_Year              2095 non-null   int64         \n",
      " 22  Current_Project_Years    2095 non-null   float64       \n",
      " 23  Current_Project_Year     2095 non-null   int64         \n",
      "dtypes: datetime64[ns](4), float64(8), int64(4), object(8)\n",
      "memory usage: 392.9+ KB\n"
     ]
    },
    {
     "data": {
      "text/html": [
       "<div>\n",
       "<style scoped>\n",
       "    .dataframe tbody tr th:only-of-type {\n",
       "        vertical-align: middle;\n",
       "    }\n",
       "\n",
       "    .dataframe tbody tr th {\n",
       "        vertical-align: top;\n",
       "    }\n",
       "\n",
       "    .dataframe thead th {\n",
       "        text-align: right;\n",
       "    }\n",
       "</style>\n",
       "<table border=\"1\" class=\"dataframe\">\n",
       "  <thead>\n",
       "    <tr style=\"text-align: right;\">\n",
       "      <th></th>\n",
       "      <th>Record_ID</th>\n",
       "      <th>Date_Reported_As_Of</th>\n",
       "      <th>PID</th>\n",
       "      <th>Project_Name</th>\n",
       "      <th>Description</th>\n",
       "      <th>Category</th>\n",
       "      <th>Borough</th>\n",
       "      <th>Managing_Agency</th>\n",
       "      <th>Client_Agency</th>\n",
       "      <th>Current_Phase</th>\n",
       "      <th>...</th>\n",
       "      <th>Total_Budget_Changes</th>\n",
       "      <th>Original_Schedule</th>\n",
       "      <th>Forecast_Completion</th>\n",
       "      <th>Latest_Schedule_Changes</th>\n",
       "      <th>Total_Schedule_Changes</th>\n",
       "      <th>PID_Index</th>\n",
       "      <th>Change_Years</th>\n",
       "      <th>Change_Year</th>\n",
       "      <th>Current_Project_Years</th>\n",
       "      <th>Current_Project_Year</th>\n",
       "    </tr>\n",
       "  </thead>\n",
       "  <tbody>\n",
       "    <tr>\n",
       "      <th>0</th>\n",
       "      <td>3-0</td>\n",
       "      <td>2014-05-01</td>\n",
       "      <td>3</td>\n",
       "      <td>26th Ward Waste Water Treatment Plant Prelimin...</td>\n",
       "      <td>The 26th Ward WWTP is mandated to be upgraded ...</td>\n",
       "      <td>Wastewater Treatment</td>\n",
       "      <td>Brooklyn</td>\n",
       "      <td>DEP</td>\n",
       "      <td>DEP</td>\n",
       "      <td>2-Design</td>\n",
       "      <td>...</td>\n",
       "      <td>-4,318,643.37</td>\n",
       "      <td>2020-01-13</td>\n",
       "      <td>2020-01-14</td>\n",
       "      <td>1.00</td>\n",
       "      <td>270.00</td>\n",
       "      <td>0</td>\n",
       "      <td>0.60</td>\n",
       "      <td>1</td>\n",
       "      <td>5.94</td>\n",
       "      <td>6</td>\n",
       "    </tr>\n",
       "    <tr>\n",
       "      <th>1</th>\n",
       "      <td>3-1</td>\n",
       "      <td>2015-02-01</td>\n",
       "      <td>3</td>\n",
       "      <td>26th Ward Waste Water Treatment Plant Prelimin...</td>\n",
       "      <td>The 26th Ward WWTP is mandated to be upgraded ...</td>\n",
       "      <td>Wastewater Treatment</td>\n",
       "      <td>Brooklyn</td>\n",
       "      <td>DEP</td>\n",
       "      <td>DEP</td>\n",
       "      <td>3-Construction Procurement</td>\n",
       "      <td>...</td>\n",
       "      <td>-4,318,643.37</td>\n",
       "      <td>2020-01-13</td>\n",
       "      <td>2020-07-19</td>\n",
       "      <td>187.00</td>\n",
       "      <td>270.00</td>\n",
       "      <td>1</td>\n",
       "      <td>1.36</td>\n",
       "      <td>2</td>\n",
       "      <td>5.94</td>\n",
       "      <td>6</td>\n",
       "    </tr>\n",
       "    <tr>\n",
       "      <th>2</th>\n",
       "      <td>3-2</td>\n",
       "      <td>2015-08-01</td>\n",
       "      <td>3</td>\n",
       "      <td>26th Ward Waste Water Treatment Plant Prelimin...</td>\n",
       "      <td>The 26th Ward WWTP is mandated to be upgraded ...</td>\n",
       "      <td>Wastewater Treatment</td>\n",
       "      <td>Brooklyn</td>\n",
       "      <td>DEP</td>\n",
       "      <td>DEP</td>\n",
       "      <td>3-Construction Procurement</td>\n",
       "      <td>...</td>\n",
       "      <td>-4,318,643.37</td>\n",
       "      <td>2020-01-13</td>\n",
       "      <td>2020-08-08</td>\n",
       "      <td>20.00</td>\n",
       "      <td>270.00</td>\n",
       "      <td>2</td>\n",
       "      <td>1.85</td>\n",
       "      <td>2</td>\n",
       "      <td>5.94</td>\n",
       "      <td>6</td>\n",
       "    </tr>\n",
       "  </tbody>\n",
       "</table>\n",
       "<p>3 rows × 24 columns</p>\n",
       "</div>"
      ],
      "text/plain": [
       "  Record_ID Date_Reported_As_Of  PID  \\\n",
       "0       3-0          2014-05-01    3   \n",
       "1       3-1          2015-02-01    3   \n",
       "2       3-2          2015-08-01    3   \n",
       "\n",
       "                                        Project_Name  \\\n",
       "0  26th Ward Waste Water Treatment Plant Prelimin...   \n",
       "1  26th Ward Waste Water Treatment Plant Prelimin...   \n",
       "2  26th Ward Waste Water Treatment Plant Prelimin...   \n",
       "\n",
       "                                         Description              Category  \\\n",
       "0  The 26th Ward WWTP is mandated to be upgraded ...  Wastewater Treatment   \n",
       "1  The 26th Ward WWTP is mandated to be upgraded ...  Wastewater Treatment   \n",
       "2  The 26th Ward WWTP is mandated to be upgraded ...  Wastewater Treatment   \n",
       "\n",
       "    Borough Managing_Agency Client_Agency               Current_Phase  ...  \\\n",
       "0  Brooklyn             DEP           DEP                    2-Design  ...   \n",
       "1  Brooklyn             DEP           DEP  3-Construction Procurement  ...   \n",
       "2  Brooklyn             DEP           DEP  3-Construction Procurement  ...   \n",
       "\n",
       "  Total_Budget_Changes  Original_Schedule  Forecast_Completion  \\\n",
       "0        -4,318,643.37         2020-01-13           2020-01-14   \n",
       "1        -4,318,643.37         2020-01-13           2020-07-19   \n",
       "2        -4,318,643.37         2020-01-13           2020-08-08   \n",
       "\n",
       "   Latest_Schedule_Changes  Total_Schedule_Changes PID_Index Change_Years  \\\n",
       "0                     1.00                  270.00         0         0.60   \n",
       "1                   187.00                  270.00         1         1.36   \n",
       "2                    20.00                  270.00         2         1.85   \n",
       "\n",
       "   Change_Year  Current_Project_Years  Current_Project_Year  \n",
       "0            1                   5.94                     6  \n",
       "1            2                   5.94                     6  \n",
       "2            2                   5.94                     6  \n",
       "\n",
       "[3 rows x 24 columns]"
      ]
     },
     "execution_count": 46,
     "metadata": {},
     "output_type": "execute_result"
    }
   ],
   "source": [
    "data.info()\n",
    "data.head(3)"
   ]
  },
  {
   "cell_type": "markdown",
   "metadata": {},
   "source": [
    "# Define data generator functions and default parameters"
   ]
  },
  {
   "cell_type": "code",
   "execution_count": 138,
   "metadata": {},
   "outputs": [],
   "source": [
    "def extract_project_details(df, copy_columns, column_rename_dict=None,\n",
    "                            use_record=0, record_index='PID_Index'):\n",
    "    \"\"\"\n",
    "    \"\"\"\n",
    "    df_details = df.copy().loc[df[record_index]==use_record][copy_columns]\n",
    "    \n",
    "    if column_rename_dict:\n",
    "        df_details = df_details.copy().rename(columns=column_rename_dict) \n",
    "    \n",
    "    return df_details.set_index('PID')\n",
    "\n",
    "\n",
    "def subset_project_changes(df, change_year_interval=3, change_col='Change_Year',\n",
    "                           project_age_col='Current_Project_Year', inclusive_stop=True):\n",
    "    \"\"\"\n",
    "    \"\"\"\n",
    "    df_subset = df.copy().loc[\n",
    "        (df[change_col]<=change_year_interval) & (\n",
    "            df[project_age_col]>=change_year_interval if inclusive_stop\n",
    "            else df[project_age_col]>change_year_interval\n",
    "        )\n",
    "    ]\n",
    "    \n",
    "    return df_subset.set_index('Record_ID')\n",
    "\n",
    "\n",
    "def find_max_record_indices(df, record_index='PID_Index'):\n",
    "    \"\"\"\n",
    "    \"\"\"\n",
    "    df_group = df.groupby('PID').agg({record_index: max})\n",
    "    pid_dict = dict(zip(df_group.index, df_group.values.ravel()))\n",
    "    record_id_indices = [\n",
    "        str(pid) + '-' + str(pid_index)\n",
    "        for pid, pid_index in pid_dict.items()\n",
    "    ]\n",
    "    \n",
    "    return record_id_indices\n",
    "\n",
    "\n",
    "def project_interval_endstate(df, keep_columns, column_rename_dict=None,\n",
    "                              change_year_interval=None, record_index='PID_Index',\n",
    "                              change_col='Change_Year', project_age_col='Current_Project_Year',\n",
    "                              inclusive_stop=True):\n",
    "    \"\"\"\n",
    "    \"\"\"\n",
    "    if change_year_interval:\n",
    "        df = subset_project_changes(\n",
    "            df.copy(), change_year_interval, change_col, project_age_col, inclusive_stop)\n",
    "    else:\n",
    "        df = df.copy().set_index('Record_ID')\n",
    "    \n",
    "    max_record_list = find_max_record_indices(df, record_index)\n",
    "    \n",
    "    df_endstate = df.copy().loc[max_record_list][keep_columns]\n",
    "    \n",
    "    if column_rename_dict:\n",
    "            df_endstate = df_endstate.copy().rename(columns=column_rename_dict)\n",
    "    \n",
    "    return df_endstate.set_index('PID')\n",
    "\n",
    "\n",
    "def join_data_endstate(df_details, df_endstate, how='inner'):\n",
    "    \"\"\"\n",
    "    \"\"\"\n",
    "    df_join = pd.merge(df_details, df_endstate, how=how, left_index=True, right_index=True)\n",
    "    \n",
    "    return df_join\n",
    "\n",
    "\n",
    "def add_change_features(df):\n",
    "    \"\"\"\n",
    "    \"\"\"\n",
    "    # copy input for comparison of outputs\n",
    "    df_copy = df.copy()\n",
    "\n",
    "    # calculate interval change features\n",
    "    df_copy['Duration_Start'] = (df_copy['Schedule_Start'] - df_copy['Design_Start']).dt.days\n",
    "    df_copy['Duration_End'] = (df_copy['Schedule_End'] - df_copy['Design_Start']).dt.days\n",
    "    df_copy['Schedule_Change'] = df_copy['Duration_End'] - df_copy['Duration_Start']\n",
    "    df_copy['Budget_Change'] = df_copy['Budget_End'] - df_copy['Budget_Start']\n",
    "\n",
    "    # define schedule change ratio\n",
    "    df_copy['Schedule_Change_Ratio'] = df_copy['Schedule_Change']/df_copy['Duration_Start']\n",
    "    # define budget change ratio\n",
    "    df_copy['Budget_Change_Ratio'] = df_copy['Budget_Change']/df_copy['Budget_Start']\n",
    "    \n",
    "    # define project metrics\n",
    "    df_copy['Budget_Abs_Per_Error'] = (\n",
    "        df_copy['Budget_Start'] - df_copy['Budget_End']\n",
    "    ).abs() / df_copy['Budget_End']\n",
    "    \n",
    "    df_copy['Budget_Rel_Per_Error'] = (\n",
    "        df_copy['Budget_Start'] - df_copy['Budget_End']\n",
    "    ).abs() / df_copy['Budget_Start']\n",
    "   \n",
    "    df_copy['Duration_End_Ratio'] = df_copy['Duration_End']/df_copy['Duration_Start']\n",
    "    df_copy['Budget_End_Ratio'] = df_copy['Budget_End']/df_copy['Budget_Start']\n",
    "\n",
    "    # previously titled 'Mark Metric'\n",
    "    df_copy['Duration_Ratio_Inv'] = (df_copy['Duration_Start']/df_copy['Duration_End']) - 1\n",
    "    df_copy['Budget_Ratio_Inv'] = (df_copy['Budget_Start']/df_copy['Budget_End']) - 1\n",
    "    \n",
    "    return df_copy\n"
   ]
  },
  {
   "cell_type": "code",
   "execution_count": 141,
   "metadata": {},
   "outputs": [
    {
     "name": "stdout",
     "output_type": "stream",
     "text": [
      "<class 'pandas.core.frame.DataFrame'>\n",
      "Int64Index: 149 entries, 3 to 1004\n",
      "Data columns (total 6 columns):\n",
      " #   Column              Non-Null Count  Dtype         \n",
      "---  ------              --------------  -----         \n",
      " 0   Final_Change_Date   149 non-null    datetime64[ns]\n",
      " 1   Final_Change_Years  149 non-null    float64       \n",
      " 2   Phase_End           149 non-null    object        \n",
      " 3   Budget_End          149 non-null    float64       \n",
      " 4   Schedule_End        149 non-null    datetime64[ns]\n",
      " 5   Number_Changes      149 non-null    int64         \n",
      "dtypes: datetime64[ns](2), float64(2), int64(1), object(1)\n",
      "memory usage: 8.1+ KB\n"
     ]
    }
   ],
   "source": [
    "predict_interval = 3\n",
    "\n",
    "keep_columns = [\n",
    "    'Date_Reported_As_Of',\n",
    "    'Change_Years',\n",
    "    'PID',\n",
    "    'Current_Phase',\n",
    "    'Budget_Forecast',\n",
    "    'Forecast_Completion',\n",
    "    'PID_Index',\n",
    "]\n",
    "\n",
    "column_rename_dict = {\n",
    "    'Date_Reported_As_Of': 'Final_Change_Date',\n",
    "    'Current_Phase': 'Phase_End',\n",
    "    'Budget_Forecast': 'Budget_End',\n",
    "    'Forecast_Completion': 'Schedule_End',\n",
    "    'PID_Index': 'Number_Changes',\n",
    "    'Change_Years': 'Final_Change_Years'\n",
    "}\n",
    "\n",
    "df_endstate = project_interval_endstate(\n",
    "    data, keep_columns, column_rename_dict, change_year_interval=predict_interval\n",
    ")\n",
    "\n",
    "df_endstate.info()"
   ]
  },
  {
   "cell_type": "code",
   "execution_count": 142,
   "metadata": {},
   "outputs": [
    {
     "name": "stdout",
     "output_type": "stream",
     "text": [
      "<class 'pandas.core.frame.DataFrame'>\n",
      "Int64Index: 355 entries, 3 to 1014\n",
      "Data columns (total 12 columns):\n",
      " #   Column                 Non-Null Count  Dtype         \n",
      "---  ------                 --------------  -----         \n",
      " 0   Project_Name           355 non-null    object        \n",
      " 1   Description            355 non-null    object        \n",
      " 2   Category               355 non-null    object        \n",
      " 3   Borough                355 non-null    object        \n",
      " 4   Managing_Agency        355 non-null    object        \n",
      " 5   Client_Agency          355 non-null    object        \n",
      " 6   Phase_Start            355 non-null    object        \n",
      " 7   Current_Project_Years  355 non-null    float64       \n",
      " 8   Current_Project_Year   355 non-null    int64         \n",
      " 9   Design_Start           355 non-null    datetime64[ns]\n",
      " 10  Budget_Start           355 non-null    float64       \n",
      " 11  Schedule_Start         355 non-null    datetime64[ns]\n",
      "dtypes: datetime64[ns](2), float64(2), int64(1), object(7)\n",
      "memory usage: 36.1+ KB\n"
     ]
    }
   ],
   "source": [
    "copy_columns = [\n",
    "    'PID',\n",
    "    'Project_Name',\n",
    "    'Description',\n",
    "    'Category',\n",
    "    'Borough',\n",
    "    'Managing_Agency',\n",
    "    'Client_Agency',\n",
    "    'Current_Phase',\n",
    "    'Current_Project_Years',\n",
    "    'Current_Project_Year',\n",
    "    'Design_Start',\n",
    "    'Original_Budget',\n",
    "    'Original_Schedule',\n",
    "]\n",
    "\n",
    "column_rename_dict = {\n",
    "    'Current_Phase': 'Phase_Start',\n",
    "    'Original_Budget': 'Budget_Start',\n",
    "    'Original_Schedule': 'Schedule_Start',\n",
    "}\n",
    "\n",
    "df_details = extract_project_details(data, copy_columns, column_rename_dict)\n",
    "\n",
    "df_details.info()"
   ]
  },
  {
   "cell_type": "code",
   "execution_count": 143,
   "metadata": {},
   "outputs": [
    {
     "name": "stdout",
     "output_type": "stream",
     "text": [
      "<class 'pandas.core.frame.DataFrame'>\n",
      "Int64Index: 149 entries, 3 to 1004\n",
      "Data columns (total 18 columns):\n",
      " #   Column                 Non-Null Count  Dtype         \n",
      "---  ------                 --------------  -----         \n",
      " 0   Project_Name           149 non-null    object        \n",
      " 1   Description            149 non-null    object        \n",
      " 2   Category               149 non-null    object        \n",
      " 3   Borough                149 non-null    object        \n",
      " 4   Managing_Agency        149 non-null    object        \n",
      " 5   Client_Agency          149 non-null    object        \n",
      " 6   Phase_Start            149 non-null    object        \n",
      " 7   Current_Project_Years  149 non-null    float64       \n",
      " 8   Current_Project_Year   149 non-null    int64         \n",
      " 9   Design_Start           149 non-null    datetime64[ns]\n",
      " 10  Budget_Start           149 non-null    float64       \n",
      " 11  Schedule_Start         149 non-null    datetime64[ns]\n",
      " 12  Final_Change_Date      149 non-null    datetime64[ns]\n",
      " 13  Final_Change_Years     149 non-null    float64       \n",
      " 14  Phase_End              149 non-null    object        \n",
      " 15  Budget_End             149 non-null    float64       \n",
      " 16  Schedule_End           149 non-null    datetime64[ns]\n",
      " 17  Number_Changes         149 non-null    int64         \n",
      "dtypes: datetime64[ns](4), float64(4), int64(2), object(8)\n",
      "memory usage: 22.1+ KB\n"
     ]
    }
   ],
   "source": [
    "df_merged = join_data_endstate(df_details, df_endstate)\n",
    "\n",
    "df_merged.info()"
   ]
  },
  {
   "cell_type": "code",
   "execution_count": 153,
   "metadata": {},
   "outputs": [
    {
     "name": "stdout",
     "output_type": "stream",
     "text": [
      "<class 'pandas.core.frame.DataFrame'>\n",
      "Int64Index: 149 entries, 3 to 1004\n",
      "Data columns (total 30 columns):\n",
      " #   Column                 Non-Null Count  Dtype         \n",
      "---  ------                 --------------  -----         \n",
      " 0   Project_Name           149 non-null    object        \n",
      " 1   Description            149 non-null    object        \n",
      " 2   Category               149 non-null    object        \n",
      " 3   Borough                149 non-null    object        \n",
      " 4   Managing_Agency        149 non-null    object        \n",
      " 5   Client_Agency          149 non-null    object        \n",
      " 6   Phase_Start            149 non-null    object        \n",
      " 7   Current_Project_Years  149 non-null    float64       \n",
      " 8   Current_Project_Year   149 non-null    int64         \n",
      " 9   Design_Start           149 non-null    datetime64[ns]\n",
      " 10  Budget_Start           149 non-null    float64       \n",
      " 11  Schedule_Start         149 non-null    datetime64[ns]\n",
      " 12  Final_Change_Date      149 non-null    datetime64[ns]\n",
      " 13  Final_Change_Years     149 non-null    float64       \n",
      " 14  Phase_End              149 non-null    object        \n",
      " 15  Budget_End             149 non-null    float64       \n",
      " 16  Schedule_End           149 non-null    datetime64[ns]\n",
      " 17  Number_Changes         149 non-null    int64         \n",
      " 18  Duration_Start         149 non-null    int64         \n",
      " 19  Duration_End           149 non-null    int64         \n",
      " 20  Schedule_Change        149 non-null    int64         \n",
      " 21  Budget_Change          149 non-null    float64       \n",
      " 22  Schedule_Change_Ratio  149 non-null    float64       \n",
      " 23  Budget_Change_Ratio    149 non-null    float64       \n",
      " 24  Budget_Abs_Per_Error   149 non-null    float64       \n",
      " 25  Budget_Rel_Per_Error   149 non-null    float64       \n",
      " 26  Duration_End_Ratio     149 non-null    float64       \n",
      " 27  Budget_End_Ratio       149 non-null    float64       \n",
      " 28  Duration_Ratio_Inv     149 non-null    float64       \n",
      " 29  Budget_Ratio_Inv       149 non-null    float64       \n",
      "dtypes: datetime64[ns](4), float64(13), int64(5), object(8)\n",
      "memory usage: 36.1+ KB\n"
     ]
    }
   ],
   "source": [
    "df_features = add_change_features(df_merged)\n",
    "df_features.info()"
   ]
  },
  {
   "cell_type": "markdown",
   "metadata": {},
   "source": [
    "### Drop projects that are missing critical date and budget metrics"
   ]
  },
  {
   "cell_type": "markdown",
   "metadata": {},
   "source": [
    "**OBSERVATION:**\n",
    "\n",
    "IT projects don't seem to follow the patterns/rules of other projects"
   ]
  },
  {
   "cell_type": "markdown",
   "metadata": {},
   "source": [
    "### Examine relationships between metrics by project"
   ]
  },
  {
   "cell_type": "code",
   "execution_count": 61,
   "metadata": {},
   "outputs": [
    {
     "name": "stdout",
     "output_type": "stream",
     "text": [
      "The resulting dataframes will be saved to .csv at the following path locations:\n",
      "\n",
      "../data/interim/Capital_Projects_clean.csv\n",
      "../data/interim/Capital_Projects_pid.csv\n",
      "../data/interim/Capital_Projects_melted.csv\n"
     ]
    }
   ],
   "source": [
    "print(\n",
    "    'The resulting dataframes will be saved to .csv at the following path locations:\\n'\n",
    ")\n",
    "for save_path in [save_path_cleansed, save_path_pid, save_path_melted]:\n",
    "    print(save_path)"
   ]
  },
  {
   "cell_type": "code",
   "execution_count": 62,
   "metadata": {},
   "outputs": [],
   "source": [
    "data.to_csv(save_path_cleansed, index=False)\n",
    "df_pid.to_csv(save_path_pid, index=False)\n",
    "df_pid_melted.to_csv(save_path_melted, index=False)"
   ]
  },
  {
   "cell_type": "code",
   "execution_count": 65,
   "metadata": {},
   "outputs": [
    {
     "data": {
      "text/html": [
       "<div>\n",
       "<style scoped>\n",
       "    .dataframe tbody tr th:only-of-type {\n",
       "        vertical-align: middle;\n",
       "    }\n",
       "\n",
       "    .dataframe tbody tr th {\n",
       "        vertical-align: top;\n",
       "    }\n",
       "\n",
       "    .dataframe thead th {\n",
       "        text-align: right;\n",
       "    }\n",
       "</style>\n",
       "<table border=\"1\" class=\"dataframe\">\n",
       "  <thead>\n",
       "    <tr style=\"text-align: right;\">\n",
       "      <th></th>\n",
       "      <th>Date_Reported_As_Of</th>\n",
       "      <th>PID</th>\n",
       "      <th>Project_Name</th>\n",
       "      <th>Description</th>\n",
       "      <th>Category</th>\n",
       "      <th>Borough</th>\n",
       "      <th>Managing_Agency</th>\n",
       "      <th>Client_Agency</th>\n",
       "      <th>Current_Phase</th>\n",
       "      <th>Design_Start</th>\n",
       "      <th>Original_Budget</th>\n",
       "      <th>Budget_Forecast</th>\n",
       "      <th>Latest_Budget_Changes</th>\n",
       "      <th>Total_Budget_Changes</th>\n",
       "      <th>Original_Schedule</th>\n",
       "      <th>Forecast_Completion</th>\n",
       "      <th>Latest_Schedule_Changes</th>\n",
       "      <th>Total_Schedule_Changes</th>\n",
       "    </tr>\n",
       "  </thead>\n",
       "  <tbody>\n",
       "    <tr>\n",
       "      <th>0</th>\n",
       "      <td>2014-05-01</td>\n",
       "      <td>3</td>\n",
       "      <td>26th Ward Waste Water Treatment Plant Prelimin...</td>\n",
       "      <td>The 26th Ward WWTP is mandated to be upgraded ...</td>\n",
       "      <td>Wastewater Treatment</td>\n",
       "      <td>Brooklyn</td>\n",
       "      <td>DEP</td>\n",
       "      <td>DEP</td>\n",
       "      <td>2-Design</td>\n",
       "      <td>2013-09-23</td>\n",
       "      <td>184,896,360.00</td>\n",
       "      <td>182,980,960.00</td>\n",
       "      <td>-1,915,400.00</td>\n",
       "      <td>-4,318,643.37</td>\n",
       "      <td>2020-01-13</td>\n",
       "      <td>2020-01-14</td>\n",
       "      <td>1.00</td>\n",
       "      <td>270.00</td>\n",
       "    </tr>\n",
       "    <tr>\n",
       "      <th>1</th>\n",
       "      <td>2015-02-01</td>\n",
       "      <td>3</td>\n",
       "      <td>26th Ward Waste Water Treatment Plant Prelimin...</td>\n",
       "      <td>The 26th Ward WWTP is mandated to be upgraded ...</td>\n",
       "      <td>Wastewater Treatment</td>\n",
       "      <td>Brooklyn</td>\n",
       "      <td>DEP</td>\n",
       "      <td>DEP</td>\n",
       "      <td>3-Construction Procurement</td>\n",
       "      <td>2013-09-23</td>\n",
       "      <td>184,896,360.00</td>\n",
       "      <td>168,751,769.00</td>\n",
       "      <td>-14,229,191.00</td>\n",
       "      <td>-4,318,643.37</td>\n",
       "      <td>2020-01-13</td>\n",
       "      <td>2020-07-19</td>\n",
       "      <td>187.00</td>\n",
       "      <td>270.00</td>\n",
       "    </tr>\n",
       "    <tr>\n",
       "      <th>2</th>\n",
       "      <td>2015-08-01</td>\n",
       "      <td>3</td>\n",
       "      <td>26th Ward Waste Water Treatment Plant Prelimin...</td>\n",
       "      <td>The 26th Ward WWTP is mandated to be upgraded ...</td>\n",
       "      <td>Wastewater Treatment</td>\n",
       "      <td>Brooklyn</td>\n",
       "      <td>DEP</td>\n",
       "      <td>DEP</td>\n",
       "      <td>3-Construction Procurement</td>\n",
       "      <td>2013-09-23</td>\n",
       "      <td>184,896,360.00</td>\n",
       "      <td>165,532,447.00</td>\n",
       "      <td>-3,219,322.00</td>\n",
       "      <td>-4,318,643.37</td>\n",
       "      <td>2020-01-13</td>\n",
       "      <td>2020-08-08</td>\n",
       "      <td>20.00</td>\n",
       "      <td>270.00</td>\n",
       "    </tr>\n",
       "  </tbody>\n",
       "</table>\n",
       "</div>"
      ],
      "text/plain": [
       "  Date_Reported_As_Of  PID                                       Project_Name  \\\n",
       "0          2014-05-01    3  26th Ward Waste Water Treatment Plant Prelimin...   \n",
       "1          2015-02-01    3  26th Ward Waste Water Treatment Plant Prelimin...   \n",
       "2          2015-08-01    3  26th Ward Waste Water Treatment Plant Prelimin...   \n",
       "\n",
       "                                         Description              Category  \\\n",
       "0  The 26th Ward WWTP is mandated to be upgraded ...  Wastewater Treatment   \n",
       "1  The 26th Ward WWTP is mandated to be upgraded ...  Wastewater Treatment   \n",
       "2  The 26th Ward WWTP is mandated to be upgraded ...  Wastewater Treatment   \n",
       "\n",
       "    Borough Managing_Agency Client_Agency               Current_Phase  \\\n",
       "0  Brooklyn             DEP           DEP                    2-Design   \n",
       "1  Brooklyn             DEP           DEP  3-Construction Procurement   \n",
       "2  Brooklyn             DEP           DEP  3-Construction Procurement   \n",
       "\n",
       "  Design_Start  Original_Budget  Budget_Forecast  Latest_Budget_Changes  \\\n",
       "0   2013-09-23   184,896,360.00   182,980,960.00          -1,915,400.00   \n",
       "1   2013-09-23   184,896,360.00   168,751,769.00         -14,229,191.00   \n",
       "2   2013-09-23   184,896,360.00   165,532,447.00          -3,219,322.00   \n",
       "\n",
       "   Total_Budget_Changes Original_Schedule Forecast_Completion  \\\n",
       "0         -4,318,643.37        2020-01-13          2020-01-14   \n",
       "1         -4,318,643.37        2020-01-13          2020-07-19   \n",
       "2         -4,318,643.37        2020-01-13          2020-08-08   \n",
       "\n",
       "   Latest_Schedule_Changes  Total_Schedule_Changes  \n",
       "0                     1.00                  270.00  \n",
       "1                   187.00                  270.00  \n",
       "2                    20.00                  270.00  "
      ]
     },
     "execution_count": 65,
     "metadata": {},
     "output_type": "execute_result"
    }
   ],
   "source": [
    "data.head(3)"
   ]
  },
  {
   "cell_type": "code",
   "execution_count": 66,
   "metadata": {},
   "outputs": [
    {
     "data": {
      "text/plain": [
       "count                    2150\n",
       "unique                     15\n",
       "top       2019-05-01 00:00:00\n",
       "freq                      296\n",
       "first     2013-09-01 00:00:00\n",
       "last      2019-09-01 00:00:00\n",
       "Name: Date_Reported_As_Of, dtype: object"
      ]
     },
     "execution_count": 66,
     "metadata": {},
     "output_type": "execute_result"
    }
   ],
   "source": [
    "data['Date_Reported_As_Of'].describe()"
   ]
  },
  {
   "cell_type": "code",
   "execution_count": 68,
   "metadata": {},
   "outputs": [
    {
     "data": {
      "text/html": [
       "<div>\n",
       "<style scoped>\n",
       "    .dataframe tbody tr th:only-of-type {\n",
       "        vertical-align: middle;\n",
       "    }\n",
       "\n",
       "    .dataframe tbody tr th {\n",
       "        vertical-align: top;\n",
       "    }\n",
       "\n",
       "    .dataframe thead th {\n",
       "        text-align: right;\n",
       "    }\n",
       "</style>\n",
       "<table border=\"1\" class=\"dataframe\">\n",
       "  <thead>\n",
       "    <tr style=\"text-align: right;\">\n",
       "      <th></th>\n",
       "      <th>PID</th>\n",
       "      <th>Project_Name</th>\n",
       "      <th>Category</th>\n",
       "      <th>Borough</th>\n",
       "      <th>Managing_Agency</th>\n",
       "      <th>Client_Agency</th>\n",
       "      <th>Number_Changes</th>\n",
       "      <th>Original_Budget</th>\n",
       "      <th>Design_Start</th>\n",
       "      <th>Original_Schedule</th>\n",
       "      <th>...</th>\n",
       "      <th>Total_Schedule_Changes</th>\n",
       "      <th>Total_Budget_Changes</th>\n",
       "      <th>Original_Duration</th>\n",
       "      <th>Budget_Change_Ratio</th>\n",
       "      <th>Schedule_Change_Ratio</th>\n",
       "      <th>Budget_To_Date</th>\n",
       "      <th>Budget_Abs_Per_Error</th>\n",
       "      <th>Budget_Rel_Per_Error</th>\n",
       "      <th>Mark_Metric</th>\n",
       "      <th>Budget_Ratios</th>\n",
       "    </tr>\n",
       "  </thead>\n",
       "  <tbody>\n",
       "    <tr>\n",
       "      <th>0</th>\n",
       "      <td>3</td>\n",
       "      <td>26th Ward Waste Water Treatment Plant Prelimin...</td>\n",
       "      <td>Wastewater Treatment</td>\n",
       "      <td>Brooklyn</td>\n",
       "      <td>DEP</td>\n",
       "      <td>DEP</td>\n",
       "      <td>13</td>\n",
       "      <td>184,896,360.00</td>\n",
       "      <td>2013-09-23</td>\n",
       "      <td>2020-01-13</td>\n",
       "      <td>...</td>\n",
       "      <td>270.00</td>\n",
       "      <td>-4,318,643.37</td>\n",
       "      <td>2,303.00</td>\n",
       "      <td>-0.02</td>\n",
       "      <td>0.12</td>\n",
       "      <td>180,577,716.63</td>\n",
       "      <td>0.02</td>\n",
       "      <td>0.02</td>\n",
       "      <td>0.02</td>\n",
       "      <td>0.98</td>\n",
       "    </tr>\n",
       "    <tr>\n",
       "      <th>1</th>\n",
       "      <td>7</td>\n",
       "      <td>Bowery Bay Waste Water Treatment Plant Main Se...</td>\n",
       "      <td>Wastewater Treatment</td>\n",
       "      <td>Queens</td>\n",
       "      <td>DEP</td>\n",
       "      <td>DEP</td>\n",
       "      <td>15</td>\n",
       "      <td>53,493,000.00</td>\n",
       "      <td>2013-05-01</td>\n",
       "      <td>2018-03-31</td>\n",
       "      <td>...</td>\n",
       "      <td>685.00</td>\n",
       "      <td>15,305,457.00</td>\n",
       "      <td>1,795.00</td>\n",
       "      <td>0.29</td>\n",
       "      <td>0.38</td>\n",
       "      <td>68,798,457.00</td>\n",
       "      <td>0.22</td>\n",
       "      <td>0.29</td>\n",
       "      <td>-0.22</td>\n",
       "      <td>1.29</td>\n",
       "    </tr>\n",
       "    <tr>\n",
       "      <th>2</th>\n",
       "      <td>18</td>\n",
       "      <td>Croton Falls Pumping Station Construction</td>\n",
       "      <td>Water Supply</td>\n",
       "      <td>Carmel</td>\n",
       "      <td>DEP</td>\n",
       "      <td>DEP</td>\n",
       "      <td>15</td>\n",
       "      <td>66,616,435.00</td>\n",
       "      <td>2003-08-22</td>\n",
       "      <td>2017-05-31</td>\n",
       "      <td>...</td>\n",
       "      <td>1,014.00</td>\n",
       "      <td>1,255,175.02</td>\n",
       "      <td>5,031.00</td>\n",
       "      <td>0.02</td>\n",
       "      <td>0.20</td>\n",
       "      <td>67,871,610.02</td>\n",
       "      <td>0.02</td>\n",
       "      <td>0.02</td>\n",
       "      <td>-0.02</td>\n",
       "      <td>1.02</td>\n",
       "    </tr>\n",
       "  </tbody>\n",
       "</table>\n",
       "<p>3 rows × 21 columns</p>\n",
       "</div>"
      ],
      "text/plain": [
       "   PID                                       Project_Name  \\\n",
       "0    3  26th Ward Waste Water Treatment Plant Prelimin...   \n",
       "1    7  Bowery Bay Waste Water Treatment Plant Main Se...   \n",
       "2   18          Croton Falls Pumping Station Construction   \n",
       "\n",
       "               Category   Borough Managing_Agency Client_Agency  \\\n",
       "0  Wastewater Treatment  Brooklyn             DEP           DEP   \n",
       "1  Wastewater Treatment    Queens             DEP           DEP   \n",
       "2          Water Supply    Carmel             DEP           DEP   \n",
       "\n",
       "   Number_Changes  Original_Budget Design_Start Original_Schedule  ...  \\\n",
       "0              13   184,896,360.00   2013-09-23        2020-01-13  ...   \n",
       "1              15    53,493,000.00   2013-05-01        2018-03-31  ...   \n",
       "2              15    66,616,435.00   2003-08-22        2017-05-31  ...   \n",
       "\n",
       "  Total_Schedule_Changes  Total_Budget_Changes  Original_Duration  \\\n",
       "0                 270.00         -4,318,643.37           2,303.00   \n",
       "1                 685.00         15,305,457.00           1,795.00   \n",
       "2               1,014.00          1,255,175.02           5,031.00   \n",
       "\n",
       "   Budget_Change_Ratio  Schedule_Change_Ratio  Budget_To_Date  \\\n",
       "0                -0.02                   0.12  180,577,716.63   \n",
       "1                 0.29                   0.38   68,798,457.00   \n",
       "2                 0.02                   0.20   67,871,610.02   \n",
       "\n",
       "   Budget_Abs_Per_Error  Budget_Rel_Per_Error  Mark_Metric  Budget_Ratios  \n",
       "0                  0.02                  0.02         0.02           0.98  \n",
       "1                  0.22                  0.29        -0.22           1.29  \n",
       "2                  0.02                  0.02        -0.02           1.02  \n",
       "\n",
       "[3 rows x 21 columns]"
      ]
     },
     "execution_count": 68,
     "metadata": {},
     "output_type": "execute_result"
    }
   ],
   "source": [
    "df_pid.head(3)"
   ]
  },
  {
   "cell_type": "code",
   "execution_count": 96,
   "metadata": {},
   "outputs": [
    {
     "data": {
      "text/plain": [
       "0       0.60\n",
       "1       1.36\n",
       "2       1.85\n",
       "3       2.27\n",
       "4       2.69\n",
       "        ... \n",
       "2254    4.07\n",
       "2255    1.23\n",
       "2256    4.09\n",
       "2257   -0.04\n",
       "2258    0.03\n",
       "Length: 2150, dtype: float64"
      ]
     },
     "execution_count": 96,
     "metadata": {},
     "output_type": "execute_result"
    }
   ],
   "source": [
    "(data['Date_Reported_As_Of'] - data['Design_Start']).dt.days / 365.2425"
   ]
  },
  {
   "cell_type": "code",
   "execution_count": 112,
   "metadata": {},
   "outputs": [],
   "source": [
    "drop_pid_list = [pid[0] for pid in drop_pids]"
   ]
  },
  {
   "cell_type": "code",
   "execution_count": 113,
   "metadata": {},
   "outputs": [
    {
     "data": {
      "text/plain": [
       "[863, 910, 267, 403, 553, 723, 863, 910, 911, 1006]"
      ]
     },
     "execution_count": 113,
     "metadata": {},
     "output_type": "execute_result"
    }
   ],
   "source": [
    "drop_pid_list"
   ]
  },
  {
   "cell_type": "code",
   "execution_count": 101,
   "metadata": {},
   "outputs": [
    {
     "data": {
      "text/html": [
       "<div>\n",
       "<style scoped>\n",
       "    .dataframe tbody tr th:only-of-type {\n",
       "        vertical-align: middle;\n",
       "    }\n",
       "\n",
       "    .dataframe tbody tr th {\n",
       "        vertical-align: top;\n",
       "    }\n",
       "\n",
       "    .dataframe thead th {\n",
       "        text-align: right;\n",
       "    }\n",
       "</style>\n",
       "<table border=\"1\" class=\"dataframe\">\n",
       "  <thead>\n",
       "    <tr style=\"text-align: right;\">\n",
       "      <th></th>\n",
       "      <th>Date_Reported_As_Of</th>\n",
       "      <th>PID</th>\n",
       "      <th>Project_Name</th>\n",
       "      <th>Description</th>\n",
       "      <th>Category</th>\n",
       "      <th>Borough</th>\n",
       "      <th>Managing_Agency</th>\n",
       "      <th>Client_Agency</th>\n",
       "      <th>Current_Phase</th>\n",
       "      <th>Design_Start</th>\n",
       "      <th>Original_Budget</th>\n",
       "      <th>Budget_Forecast</th>\n",
       "      <th>Latest_Budget_Changes</th>\n",
       "      <th>Total_Budget_Changes</th>\n",
       "      <th>Original_Schedule</th>\n",
       "      <th>Forecast_Completion</th>\n",
       "      <th>Latest_Schedule_Changes</th>\n",
       "      <th>Total_Schedule_Changes</th>\n",
       "      <th>Current_Project_Year</th>\n",
       "    </tr>\n",
       "  </thead>\n",
       "  <tbody>\n",
       "  </tbody>\n",
       "</table>\n",
       "</div>"
      ],
      "text/plain": [
       "Empty DataFrame\n",
       "Columns: [Date_Reported_As_Of, PID, Project_Name, Description, Category, Borough, Managing_Agency, Client_Agency, Current_Phase, Design_Start, Original_Budget, Budget_Forecast, Latest_Budget_Changes, Total_Budget_Changes, Original_Schedule, Forecast_Completion, Latest_Schedule_Changes, Total_Schedule_Changes, Current_Project_Year]\n",
       "Index: []"
      ]
     },
     "execution_count": 101,
     "metadata": {},
     "output_type": "execute_result"
    }
   ],
   "source": [
    "data.copy().loc[data['Date_Reported_As_Of'].isnull()]"
   ]
  },
  {
   "cell_type": "code",
   "execution_count": 103,
   "metadata": {},
   "outputs": [
    {
     "data": {
      "text/plain": [
       "0      False\n",
       "1      False\n",
       "2      False\n",
       "3      False\n",
       "4      False\n",
       "       ...  \n",
       "358    False\n",
       "359    False\n",
       "360    False\n",
       "361    False\n",
       "362    False\n",
       "Name: PID, Length: 355, dtype: bool"
      ]
     },
     "execution_count": 103,
     "metadata": {},
     "output_type": "execute_result"
    }
   ],
   "source": [
    "df_pid['PID']==911"
   ]
  },
  {
   "cell_type": "code",
   "execution_count": 104,
   "metadata": {},
   "outputs": [
    {
     "data": {
      "text/plain": [
       "403    15\n",
       "267    15\n",
       "553     9\n",
       "723     5\n",
       "863     4\n",
       "911     3\n",
       "910     3\n",
       "569     1\n",
       "Name: PID, dtype: int64"
      ]
     },
     "execution_count": 104,
     "metadata": {},
     "output_type": "execute_result"
    }
   ],
   "source": [
    "data.copy().loc[data['Design_Start'].isnull()]['PID'].value_counts()"
   ]
  },
  {
   "cell_type": "code",
   "execution_count": 115,
   "metadata": {},
   "outputs": [],
   "source": [
    "data = data.copy().loc[~data['PID'].isin(drop_pid_list)]"
   ]
  },
  {
   "cell_type": "code",
   "execution_count": 116,
   "metadata": {},
   "outputs": [
    {
     "data": {
      "text/plain": [
       "569    1\n",
       "Name: PID, dtype: int64"
      ]
     },
     "execution_count": 116,
     "metadata": {},
     "output_type": "execute_result"
    }
   ],
   "source": [
    "data.copy().loc[data['Design_Start'].isnull()]['PID'].value_counts()"
   ]
  },
  {
   "cell_type": "code",
   "execution_count": 120,
   "metadata": {},
   "outputs": [
    {
     "data": {
      "text/html": [
       "<div>\n",
       "<style scoped>\n",
       "    .dataframe tbody tr th:only-of-type {\n",
       "        vertical-align: middle;\n",
       "    }\n",
       "\n",
       "    .dataframe tbody tr th {\n",
       "        vertical-align: top;\n",
       "    }\n",
       "\n",
       "    .dataframe thead th {\n",
       "        text-align: right;\n",
       "    }\n",
       "</style>\n",
       "<table border=\"1\" class=\"dataframe\">\n",
       "  <thead>\n",
       "    <tr style=\"text-align: right;\">\n",
       "      <th></th>\n",
       "      <th>PID</th>\n",
       "      <th>Design_Start</th>\n",
       "    </tr>\n",
       "  </thead>\n",
       "  <tbody>\n",
       "    <tr>\n",
       "      <th>0</th>\n",
       "      <td>3</td>\n",
       "      <td>2013-09-23</td>\n",
       "    </tr>\n",
       "    <tr>\n",
       "      <th>1</th>\n",
       "      <td>7</td>\n",
       "      <td>2013-05-01</td>\n",
       "    </tr>\n",
       "    <tr>\n",
       "      <th>2</th>\n",
       "      <td>18</td>\n",
       "      <td>2003-08-22</td>\n",
       "    </tr>\n",
       "    <tr>\n",
       "      <th>3</th>\n",
       "      <td>25</td>\n",
       "      <td>2001-11-01</td>\n",
       "    </tr>\n",
       "    <tr>\n",
       "      <th>4</th>\n",
       "      <td>34</td>\n",
       "      <td>1996-05-01</td>\n",
       "    </tr>\n",
       "    <tr>\n",
       "      <th>...</th>\n",
       "      <td>...</td>\n",
       "      <td>...</td>\n",
       "    </tr>\n",
       "    <tr>\n",
       "      <th>358</th>\n",
       "      <td>1010</td>\n",
       "      <td>2015-08-06</td>\n",
       "    </tr>\n",
       "    <tr>\n",
       "      <th>359</th>\n",
       "      <td>1011</td>\n",
       "      <td>2018-06-07</td>\n",
       "    </tr>\n",
       "    <tr>\n",
       "      <th>360</th>\n",
       "      <td>1012</td>\n",
       "      <td>2015-07-31</td>\n",
       "    </tr>\n",
       "    <tr>\n",
       "      <th>361</th>\n",
       "      <td>1013</td>\n",
       "      <td>2019-09-16</td>\n",
       "    </tr>\n",
       "    <tr>\n",
       "      <th>362</th>\n",
       "      <td>1014</td>\n",
       "      <td>2019-08-22</td>\n",
       "    </tr>\n",
       "  </tbody>\n",
       "</table>\n",
       "<p>355 rows × 2 columns</p>\n",
       "</div>"
      ],
      "text/plain": [
       "      PID Design_Start\n",
       "0       3   2013-09-23\n",
       "1       7   2013-05-01\n",
       "2      18   2003-08-22\n",
       "3      25   2001-11-01\n",
       "4      34   1996-05-01\n",
       "..    ...          ...\n",
       "358  1010   2015-08-06\n",
       "359  1011   2018-06-07\n",
       "360  1012   2015-07-31\n",
       "361  1013   2019-09-16\n",
       "362  1014   2019-08-22\n",
       "\n",
       "[355 rows x 2 columns]"
      ]
     },
     "execution_count": 120,
     "metadata": {},
     "output_type": "execute_result"
    }
   ],
   "source": []
  },
  {
   "cell_type": "code",
   "execution_count": 121,
   "metadata": {},
   "outputs": [],
   "source": [
    "design_start_dict = {\n",
    "    key: value for key, value in zip(df_pid['PID'], df_pid['Design_Start'].values)\n",
    "}"
   ]
  },
  {
   "cell_type": "code",
   "execution_count": 123,
   "metadata": {},
   "outputs": [],
   "source": [
    "data['Design_Start'] = data['PID'].copy().map(design_start_dict)"
   ]
  },
  {
   "cell_type": "code",
   "execution_count": 124,
   "metadata": {},
   "outputs": [
    {
     "data": {
      "text/plain": [
       "Series([], Name: PID, dtype: int64)"
      ]
     },
     "execution_count": 124,
     "metadata": {},
     "output_type": "execute_result"
    }
   ],
   "source": [
    "data.copy().loc[data['Design_Start'].isnull()]['PID'].value_counts()"
   ]
  },
  {
   "cell_type": "code",
   "execution_count": 125,
   "metadata": {},
   "outputs": [],
   "source": [
    "data['Current_Project_Year'] = (data['Date_Reported_As_Of'] - data['Design_Start']).dt.days / 365.2425\n",
    "data['Current_Project_Year_Rd'] = (\n",
    "    (data['Date_Reported_As_Of'] - data['Design_Start']).dt.days / 365.2425\n",
    ").astype(int)"
   ]
  },
  {
   "cell_type": "code",
   "execution_count": 85,
   "metadata": {},
   "outputs": [],
   "source": [
    "df_pid['Project_Years'] = (data['Date_Reported_As_Of'].max() - df_pid['Design_Start']).dt.days / 365.2425"
   ]
  },
  {
   "cell_type": "code",
   "execution_count": 86,
   "metadata": {},
   "outputs": [],
   "source": [
    "df_pid['Project_Years_Rd'] = ((data['Date_Reported_As_Of'].max() - df_pid['Design_Start']).dt.days / 365.2425).astype(int)"
   ]
  },
  {
   "cell_type": "code",
   "execution_count": 95,
   "metadata": {},
   "outputs": [
    {
     "data": {
      "image/png": "[encoded data removed]",
      "text/plain": [
       "<Figure size 576x432 with 1 Axes>"
      ]
     },
     "metadata": {
      "image/png": {
       "height": 386,
       "width": 494
      },
      "needs_background": "light"
     },
     "output_type": "display_data"
    },
    {
     "name": "stdout",
     "output_type": "stream",
     "text": [
      "0     48\n",
      "1     67\n",
      "2     49\n",
      "3     50\n",
      "4     44\n",
      "5     18\n",
      "6     19\n",
      "7     15\n",
      "8      6\n",
      "9      7\n",
      "10     1\n",
      "11     6\n",
      "12     2\n",
      "13     3\n",
      "14     4\n",
      "15     5\n",
      "16     3\n",
      "17     2\n",
      "18     1\n",
      "19     2\n",
      "23     1\n",
      "24     1\n",
      "26     1\n",
      "Name: Project_Years_Rd, dtype: int64\n"
     ]
    }
   ],
   "source": [
    "project_yrs = df_pid['Project_Years_Rd'].value_counts().sort_index()\n",
    "\n",
    "plt.figure(figsize=(8,6))\n",
    "plt.bar(project_yrs.index, project_yrs.values)\n",
    "plt.title('Current duration of projects in years')\n",
    "plt.grid(':', alpha=0.4)\n",
    "plt.xticks(project_yrs.index)\n",
    "plt.xlabel('current project year')\n",
    "plt.ylabel('number of projects')\n",
    "plt.show()\n",
    "\n",
    "print(project_yrs)"
   ]
  },
  {
   "cell_type": "code",
   "execution_count": 127,
   "metadata": {},
   "outputs": [
    {
     "data": {
      "image/png": "[encoded data removed]",
      "text/plain": [
       "<Figure size 576x432 with 1 Axes>"
      ]
     },
     "metadata": {
      "image/png": {
       "height": 386,
       "width": 500
      },
      "needs_background": "light"
     },
     "output_type": "display_data"
    },
    {
     "name": "stdout",
     "output_type": "stream",
     "text": [
      "0     339\n",
      "1     371\n",
      "2     277\n",
      "3     236\n",
      "4     181\n",
      "5     128\n",
      "6      96\n",
      "7      65\n",
      "8      39\n",
      "9      52\n",
      "10     48\n",
      "11     50\n",
      "12     44\n",
      "13     40\n",
      "14     35\n",
      "15     18\n",
      "16     13\n",
      "17     14\n",
      "18     11\n",
      "19      4\n",
      "20      9\n",
      "21      6\n",
      "22      7\n",
      "23      6\n",
      "24      4\n",
      "25      2\n",
      "Name: Current_Project_Year_Rd, dtype: int64\n"
     ]
    }
   ],
   "source": [
    "change_yr = data['Current_Project_Year_Rd'].value_counts().sort_index()\n",
    "\n",
    "plt.figure(figsize=(8,6))\n",
    "plt.bar(change_yr.index, change_yr.values)\n",
    "plt.title('Distribution of change records by year of project during change')\n",
    "plt.grid(':', alpha=0.4)\n",
    "plt.xticks(change_yr.index)\n",
    "plt.xlabel('Project year during change')\n",
    "plt.ylabel('number of changes')\n",
    "plt.show()\n",
    "\n",
    "print(change_yr)"
   ]
  },
  {
   "cell_type": "code",
   "execution_count": null,
   "metadata": {},
   "outputs": [],
   "source": []
  }
 ],
 "metadata": {
  "kernelspec": {
   "display_name": "Python 3",
   "language": "python",
   "name": "python3"
  },
  "language_info": {
   "codemirror_mode": {
    "name": "ipython",
    "version": 3
   },
   "file_extension": ".py",
   "mimetype": "text/x-python",
   "name": "python",
   "nbconvert_exporter": "python",
   "pygments_lexer": "ipython3",
   "version": "3.7.6"
  }
 },
 "nbformat": 4,
 "nbformat_minor": 4
}
