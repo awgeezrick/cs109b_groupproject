{
 "cells": [
  {
   "cell_type": "markdown",
   "metadata": {},
   "source": [
    "## EDA - Predicting Project Success\n",
    "\n",
    "This notebook is an exploratory analysis of the date for the \"Predicting Project Success\" project.\n",
    "\n",
    "Member of the team:\n",
    "- An Hoang\n",
    "- Michael Sedelmeyer\n",
    "- Mark McDonald"
   ]
  },
  {
   "cell_type": "markdown",
   "metadata": {},
   "source": [
    "## Notebook Index\n",
    "\n",
    "<a name='index'></a>\n",
    "\n",
    "### 1) Notebook Setup \n",
    "&emsp; &emsp; <a href=#imports>Imports</a>  // <a href=#helpers>Helper Functions</a> // <a href=#read>Read Dataset</a>\n",
    "\n",
    "### 2) Analysis\n",
    "\n",
    "#### &emsp; &emsp; a) <a href=#cleanup>Data Cleanup</a>\n",
    "\n",
    "#### &emsp; &emsp; b) <a href=#counts>Counts</a>\n",
    "\n",
    "#### &emsp; &emsp; c) <a href=#trends>Trends</a>\n",
    "\n",
    "#### &emsp; &emsp; d) <a href=#budget>Budget Values</a>\n",
    "\n",
    "#### &emsp; &emsp; e) <a href=#missing>\"Missing-ness\"</a>\n",
    "\n",
    "#### &emsp; &emsp; f) <a href=#summary>Summary & Findings</a>\n",
    "\n",
    "#### &emsp; &emsp; g) <a href=#open>Open Items / Unanswered</a>\n"
   ]
  },
  {
   "cell_type": "markdown",
   "metadata": {},
   "source": [
    "<a name='imoprts'></a>\n",
    "\n",
    "## Imports\n",
    "Imports for function used in this notebook.\n",
    "\n",
    "<a href=#index>index</a>"
   ]
  },
  {
   "cell_type": "code",
   "execution_count": 1,
   "metadata": {},
   "outputs": [
    {
     "data": {
      "text/html": [
       "\n",
       "    <div class=\"bk-root\">\n",
       "        <a href=\"https://bokeh.org\" target=\"_blank\" class=\"bk-logo bk-logo-small bk-logo-notebook\"></a>\n",
       "        <span id=\"1001\">Loading BokehJS ...</span>\n",
       "    </div>"
      ]
     },
     "metadata": {},
     "output_type": "display_data"
    },
    {
     "data": {
      "application/javascript": [
       "\n",
       "(function(root) {\n",
       "  function now() {\n",
       "    return new Date();\n",
       "  }\n",
       "\n",
       "  var force = true;\n",
       "\n",
       "  if (typeof root._bokeh_onload_callbacks === \"undefined\" || force === true) {\n",
       "    root._bokeh_onload_callbacks = [];\n",
       "    root._bokeh_is_loading = undefined;\n",
       "  }\n",
       "\n",
       "  var JS_MIME_TYPE = 'application/javascript';\n",
       "  var HTML_MIME_TYPE = 'text/html';\n",
       "  var EXEC_MIME_TYPE = 'application/vnd.bokehjs_exec.v0+json';\n",
       "  var CLASS_NAME = 'output_bokeh rendered_html';\n",
       "\n",
       "  /**\n",
       "   * Render data to the DOM node\n",
       "   */\n",
       "  function render(props, node) {\n",
       "    var script = document.createElement(\"script\");\n",
       "    node.appendChild(script);\n",
       "  }\n",
       "\n",
       "  /**\n",
       "   * Handle when an output is cleared or removed\n",
       "   */\n",
       "  function handleClearOutput(event, handle) {\n",
       "    var cell = handle.cell;\n",
       "\n",
       "    var id = cell.output_area._bokeh_element_id;\n",
       "    var server_id = cell.output_area._bokeh_server_id;\n",
       "    // Clean up Bokeh references\n",
       "    if (id != null && id in Bokeh.index) {\n",
       "      Bokeh.index[id].model.document.clear();\n",
       "      delete Bokeh.index[id];\n",
       "    }\n",
       "\n",
       "    if (server_id !== undefined) {\n",
       "      // Clean up Bokeh references\n",
       "      var cmd = \"from bokeh.io.state import curstate; print(curstate().uuid_to_server['\" + server_id + \"'].get_sessions()[0].document.roots[0]._id)\";\n",
       "      cell.notebook.kernel.execute(cmd, {\n",
       "        iopub: {\n",
       "          output: function(msg) {\n",
       "            var id = msg.content.text.trim();\n",
       "            if (id in Bokeh.index) {\n",
       "              Bokeh.index[id].model.document.clear();\n",
       "              delete Bokeh.index[id];\n",
       "            }\n",
       "          }\n",
       "        }\n",
       "      });\n",
       "      // Destroy server and session\n",
       "      var cmd = \"import bokeh.io.notebook as ion; ion.destroy_server('\" + server_id + \"')\";\n",
       "      cell.notebook.kernel.execute(cmd);\n",
       "    }\n",
       "  }\n",
       "\n",
       "  /**\n",
       "   * Handle when a new output is added\n",
       "   */\n",
       "  function handleAddOutput(event, handle) {\n",
       "    var output_area = handle.output_area;\n",
       "    var output = handle.output;\n",
       "\n",
       "    // limit handleAddOutput to display_data with EXEC_MIME_TYPE content only\n",
       "    if ((output.output_type != \"display_data\") || (!output.data.hasOwnProperty(EXEC_MIME_TYPE))) {\n",
       "      return\n",
       "    }\n",
       "\n",
       "    var toinsert = output_area.element.find(\".\" + CLASS_NAME.split(' ')[0]);\n",
       "\n",
       "    if (output.metadata[EXEC_MIME_TYPE][\"id\"] !== undefined) {\n",
       "      toinsert[toinsert.length - 1].firstChild.textContent = output.data[JS_MIME_TYPE];\n",
       "      // store reference to embed id on output_area\n",
       "      output_area._bokeh_element_id = output.metadata[EXEC_MIME_TYPE][\"id\"];\n",
       "    }\n",
       "    if (output.metadata[EXEC_MIME_TYPE][\"server_id\"] !== undefined) {\n",
       "      var bk_div = document.createElement(\"div\");\n",
       "      bk_div.innerHTML = output.data[HTML_MIME_TYPE];\n",
       "      var script_attrs = bk_div.children[0].attributes;\n",
       "      for (var i = 0; i < script_attrs.length; i++) {\n",
       "        toinsert[toinsert.length - 1].firstChild.setAttribute(script_attrs[i].name, script_attrs[i].value);\n",
       "      }\n",
       "      // store reference to server id on output_area\n",
       "      output_area._bokeh_server_id = output.metadata[EXEC_MIME_TYPE][\"server_id\"];\n",
       "    }\n",
       "  }\n",
       "\n",
       "  function register_renderer(events, OutputArea) {\n",
       "\n",
       "    function append_mime(data, metadata, element) {\n",
       "      // create a DOM node to render to\n",
       "      var toinsert = this.create_output_subarea(\n",
       "        metadata,\n",
       "        CLASS_NAME,\n",
       "        EXEC_MIME_TYPE\n",
       "      );\n",
       "      this.keyboard_manager.register_events(toinsert);\n",
       "      // Render to node\n",
       "      var props = {data: data, metadata: metadata[EXEC_MIME_TYPE]};\n",
       "      render(props, toinsert[toinsert.length - 1]);\n",
       "      element.append(toinsert);\n",
       "      return toinsert\n",
       "    }\n",
       "\n",
       "    /* Handle when an output is cleared or removed */\n",
       "    events.on('clear_output.CodeCell', handleClearOutput);\n",
       "    events.on('delete.Cell', handleClearOutput);\n",
       "\n",
       "    /* Handle when a new output is added */\n",
       "    events.on('output_added.OutputArea', handleAddOutput);\n",
       "\n",
       "    /**\n",
       "     * Register the mime type and append_mime function with output_area\n",
       "     */\n",
       "    OutputArea.prototype.register_mime_type(EXEC_MIME_TYPE, append_mime, {\n",
       "      /* Is output safe? */\n",
       "      safe: true,\n",
       "      /* Index of renderer in `output_area.display_order` */\n",
       "      index: 0\n",
       "    });\n",
       "  }\n",
       "\n",
       "  // register the mime type if in Jupyter Notebook environment and previously unregistered\n",
       "  if (root.Jupyter !== undefined) {\n",
       "    var events = require('base/js/events');\n",
       "    var OutputArea = require('notebook/js/outputarea').OutputArea;\n",
       "\n",
       "    if (OutputArea.prototype.mime_types().indexOf(EXEC_MIME_TYPE) == -1) {\n",
       "      register_renderer(events, OutputArea);\n",
       "    }\n",
       "  }\n",
       "\n",
       "  \n",
       "  if (typeof (root._bokeh_timeout) === \"undefined\" || force === true) {\n",
       "    root._bokeh_timeout = Date.now() + 5000;\n",
       "    root._bokeh_failed_load = false;\n",
       "  }\n",
       "\n",
       "  var NB_LOAD_WARNING = {'data': {'text/html':\n",
       "     \"<div style='background-color: #fdd'>\\n\"+\n",
       "     \"<p>\\n\"+\n",
       "     \"BokehJS does not appear to have successfully loaded. If loading BokehJS from CDN, this \\n\"+\n",
       "     \"may be due to a slow or bad network connection. Possible fixes:\\n\"+\n",
       "     \"</p>\\n\"+\n",
       "     \"<ul>\\n\"+\n",
       "     \"<li>re-rerun `output_notebook()` to attempt to load from CDN again, or</li>\\n\"+\n",
       "     \"<li>use INLINE resources instead, as so:</li>\\n\"+\n",
       "     \"</ul>\\n\"+\n",
       "     \"<code>\\n\"+\n",
       "     \"from bokeh.resources import INLINE\\n\"+\n",
       "     \"output_notebook(resources=INLINE)\\n\"+\n",
       "     \"</code>\\n\"+\n",
       "     \"</div>\"}};\n",
       "\n",
       "  function display_loaded() {\n",
       "    var el = document.getElementById(\"1001\");\n",
       "    if (el != null) {\n",
       "      el.textContent = \"BokehJS is loading...\";\n",
       "    }\n",
       "    if (root.Bokeh !== undefined) {\n",
       "      if (el != null) {\n",
       "        el.textContent = \"BokehJS \" + root.Bokeh.version + \" successfully loaded.\";\n",
       "      }\n",
       "    } else if (Date.now() < root._bokeh_timeout) {\n",
       "      setTimeout(display_loaded, 100)\n",
       "    }\n",
       "  }\n",
       "\n",
       "\n",
       "  function run_callbacks() {\n",
       "    try {\n",
       "      root._bokeh_onload_callbacks.forEach(function(callback) {\n",
       "        if (callback != null)\n",
       "          callback();\n",
       "      });\n",
       "    } finally {\n",
       "      delete root._bokeh_onload_callbacks\n",
       "    }\n",
       "    console.debug(\"Bokeh: all callbacks have finished\");\n",
       "  }\n",
       "\n",
       "  function load_libs(css_urls, js_urls, callback) {\n",
       "    if (css_urls == null) css_urls = [];\n",
       "    if (js_urls == null) js_urls = [];\n",
       "\n",
       "    root._bokeh_onload_callbacks.push(callback);\n",
       "    if (root._bokeh_is_loading > 0) {\n",
       "      console.debug(\"Bokeh: BokehJS is being loaded, scheduling callback at\", now());\n",
       "      return null;\n",
       "    }\n",
       "    if (js_urls == null || js_urls.length === 0) {\n",
       "      run_callbacks();\n",
       "      return null;\n",
       "    }\n",
       "    console.debug(\"Bokeh: BokehJS not loaded, scheduling load and callback at\", now());\n",
       "    root._bokeh_is_loading = css_urls.length + js_urls.length;\n",
       "\n",
       "    function on_load() {\n",
       "      root._bokeh_is_loading--;\n",
       "      if (root._bokeh_is_loading === 0) {\n",
       "        console.debug(\"Bokeh: all BokehJS libraries/stylesheets loaded\");\n",
       "        run_callbacks()\n",
       "      }\n",
       "    }\n",
       "\n",
       "    function on_error() {\n",
       "      console.error(\"failed to load \" + url);\n",
       "    }\n",
       "\n",
       "    for (var i = 0; i < css_urls.length; i++) {\n",
       "      var url = css_urls[i];\n",
       "      const element = document.createElement(\"link\");\n",
       "      element.onload = on_load;\n",
       "      element.onerror = on_error;\n",
       "      element.rel = \"stylesheet\";\n",
       "      element.type = \"text/css\";\n",
       "      element.href = url;\n",
       "      console.debug(\"Bokeh: injecting link tag for BokehJS stylesheet: \", url);\n",
       "      document.body.appendChild(element);\n",
       "    }\n",
       "\n",
       "    for (var i = 0; i < js_urls.length; i++) {\n",
       "      var url = js_urls[i];\n",
       "      var element = document.createElement('script');\n",
       "      element.onload = on_load;\n",
       "      element.onerror = on_error;\n",
       "      element.async = false;\n",
       "      element.src = url;\n",
       "      console.debug(\"Bokeh: injecting script tag for BokehJS library: \", url);\n",
       "      document.head.appendChild(element);\n",
       "    }\n",
       "  };var element = document.getElementById(\"1001\");\n",
       "  if (element == null) {\n",
       "    console.error(\"Bokeh: ERROR: autoload.js configured with elementid '1001' but no matching script tag was found. \")\n",
       "    return false;\n",
       "  }\n",
       "\n",
       "  function inject_raw_css(css) {\n",
       "    const element = document.createElement(\"style\");\n",
       "    element.appendChild(document.createTextNode(css));\n",
       "    document.body.appendChild(element);\n",
       "  }\n",
       "\n",
       "  \n",
       "  var js_urls = [\"https://cdn.pydata.org/bokeh/release/bokeh-1.4.0.min.js\", \"https://cdn.pydata.org/bokeh/release/bokeh-widgets-1.4.0.min.js\", \"https://cdn.pydata.org/bokeh/release/bokeh-tables-1.4.0.min.js\", \"https://cdn.pydata.org/bokeh/release/bokeh-gl-1.4.0.min.js\"];\n",
       "  var css_urls = [];\n",
       "  \n",
       "\n",
       "  var inline_js = [\n",
       "    function(Bokeh) {\n",
       "      Bokeh.set_log_level(\"info\");\n",
       "    },\n",
       "    function(Bokeh) {\n",
       "    \n",
       "    \n",
       "    }\n",
       "  ];\n",
       "\n",
       "  function run_inline_js() {\n",
       "    \n",
       "    if (root.Bokeh !== undefined || force === true) {\n",
       "      \n",
       "    for (var i = 0; i < inline_js.length; i++) {\n",
       "      inline_js[i].call(root, root.Bokeh);\n",
       "    }\n",
       "    if (force === true) {\n",
       "        display_loaded();\n",
       "      }} else if (Date.now() < root._bokeh_timeout) {\n",
       "      setTimeout(run_inline_js, 100);\n",
       "    } else if (!root._bokeh_failed_load) {\n",
       "      console.log(\"Bokeh: BokehJS failed to load within specified timeout.\");\n",
       "      root._bokeh_failed_load = true;\n",
       "    } else if (force !== true) {\n",
       "      var cell = $(document.getElementById(\"1001\")).parents('.cell').data().cell;\n",
       "      cell.output_area.append_execute_result(NB_LOAD_WARNING)\n",
       "    }\n",
       "\n",
       "  }\n",
       "\n",
       "  if (root._bokeh_is_loading === 0) {\n",
       "    console.debug(\"Bokeh: BokehJS loaded, going straight to plotting\");\n",
       "    run_inline_js();\n",
       "  } else {\n",
       "    load_libs(css_urls, js_urls, function() {\n",
       "      console.debug(\"Bokeh: BokehJS plotting callback run at\", now());\n",
       "      run_inline_js();\n",
       "    });\n",
       "  }\n",
       "}(window));"
      ],
      "application/vnd.bokehjs_load.v0+json": "\n(function(root) {\n  function now() {\n    return new Date();\n  }\n\n  var force = true;\n\n  if (typeof root._bokeh_onload_callbacks === \"undefined\" || force === true) {\n    root._bokeh_onload_callbacks = [];\n    root._bokeh_is_loading = undefined;\n  }\n\n  \n\n  \n  if (typeof (root._bokeh_timeout) === \"undefined\" || force === true) {\n    root._bokeh_timeout = Date.now() + 5000;\n    root._bokeh_failed_load = false;\n  }\n\n  var NB_LOAD_WARNING = {'data': {'text/html':\n     \"<div style='background-color: #fdd'>\\n\"+\n     \"<p>\\n\"+\n     \"BokehJS does not appear to have successfully loaded. If loading BokehJS from CDN, this \\n\"+\n     \"may be due to a slow or bad network connection. Possible fixes:\\n\"+\n     \"</p>\\n\"+\n     \"<ul>\\n\"+\n     \"<li>re-rerun `output_notebook()` to attempt to load from CDN again, or</li>\\n\"+\n     \"<li>use INLINE resources instead, as so:</li>\\n\"+\n     \"</ul>\\n\"+\n     \"<code>\\n\"+\n     \"from bokeh.resources import INLINE\\n\"+\n     \"output_notebook(resources=INLINE)\\n\"+\n     \"</code>\\n\"+\n     \"</div>\"}};\n\n  function display_loaded() {\n    var el = document.getElementById(\"1001\");\n    if (el != null) {\n      el.textContent = \"BokehJS is loading...\";\n    }\n    if (root.Bokeh !== undefined) {\n      if (el != null) {\n        el.textContent = \"BokehJS \" + root.Bokeh.version + \" successfully loaded.\";\n      }\n    } else if (Date.now() < root._bokeh_timeout) {\n      setTimeout(display_loaded, 100)\n    }\n  }\n\n\n  function run_callbacks() {\n    try {\n      root._bokeh_onload_callbacks.forEach(function(callback) {\n        if (callback != null)\n          callback();\n      });\n    } finally {\n      delete root._bokeh_onload_callbacks\n    }\n    console.debug(\"Bokeh: all callbacks have finished\");\n  }\n\n  function load_libs(css_urls, js_urls, callback) {\n    if (css_urls == null) css_urls = [];\n    if (js_urls == null) js_urls = [];\n\n    root._bokeh_onload_callbacks.push(callback);\n    if (root._bokeh_is_loading > 0) {\n      console.debug(\"Bokeh: BokehJS is being loaded, scheduling callback at\", now());\n      return null;\n    }\n    if (js_urls == null || js_urls.length === 0) {\n      run_callbacks();\n      return null;\n    }\n    console.debug(\"Bokeh: BokehJS not loaded, scheduling load and callback at\", now());\n    root._bokeh_is_loading = css_urls.length + js_urls.length;\n\n    function on_load() {\n      root._bokeh_is_loading--;\n      if (root._bokeh_is_loading === 0) {\n        console.debug(\"Bokeh: all BokehJS libraries/stylesheets loaded\");\n        run_callbacks()\n      }\n    }\n\n    function on_error() {\n      console.error(\"failed to load \" + url);\n    }\n\n    for (var i = 0; i < css_urls.length; i++) {\n      var url = css_urls[i];\n      const element = document.createElement(\"link\");\n      element.onload = on_load;\n      element.onerror = on_error;\n      element.rel = \"stylesheet\";\n      element.type = \"text/css\";\n      element.href = url;\n      console.debug(\"Bokeh: injecting link tag for BokehJS stylesheet: \", url);\n      document.body.appendChild(element);\n    }\n\n    for (var i = 0; i < js_urls.length; i++) {\n      var url = js_urls[i];\n      var element = document.createElement('script');\n      element.onload = on_load;\n      element.onerror = on_error;\n      element.async = false;\n      element.src = url;\n      console.debug(\"Bokeh: injecting script tag for BokehJS library: \", url);\n      document.head.appendChild(element);\n    }\n  };var element = document.getElementById(\"1001\");\n  if (element == null) {\n    console.error(\"Bokeh: ERROR: autoload.js configured with elementid '1001' but no matching script tag was found. \")\n    return false;\n  }\n\n  function inject_raw_css(css) {\n    const element = document.createElement(\"style\");\n    element.appendChild(document.createTextNode(css));\n    document.body.appendChild(element);\n  }\n\n  \n  var js_urls = [\"https://cdn.pydata.org/bokeh/release/bokeh-1.4.0.min.js\", \"https://cdn.pydata.org/bokeh/release/bokeh-widgets-1.4.0.min.js\", \"https://cdn.pydata.org/bokeh/release/bokeh-tables-1.4.0.min.js\", \"https://cdn.pydata.org/bokeh/release/bokeh-gl-1.4.0.min.js\"];\n  var css_urls = [];\n  \n\n  var inline_js = [\n    function(Bokeh) {\n      Bokeh.set_log_level(\"info\");\n    },\n    function(Bokeh) {\n    \n    \n    }\n  ];\n\n  function run_inline_js() {\n    \n    if (root.Bokeh !== undefined || force === true) {\n      \n    for (var i = 0; i < inline_js.length; i++) {\n      inline_js[i].call(root, root.Bokeh);\n    }\n    if (force === true) {\n        display_loaded();\n      }} else if (Date.now() < root._bokeh_timeout) {\n      setTimeout(run_inline_js, 100);\n    } else if (!root._bokeh_failed_load) {\n      console.log(\"Bokeh: BokehJS failed to load within specified timeout.\");\n      root._bokeh_failed_load = true;\n    } else if (force !== true) {\n      var cell = $(document.getElementById(\"1001\")).parents('.cell').data().cell;\n      cell.output_area.append_execute_result(NB_LOAD_WARNING)\n    }\n\n  }\n\n  if (root._bokeh_is_loading === 0) {\n    console.debug(\"Bokeh: BokehJS loaded, going straight to plotting\");\n    run_inline_js();\n  } else {\n    load_libs(css_urls, js_urls, function() {\n      console.debug(\"Bokeh: BokehJS plotting callback run at\", now());\n      run_inline_js();\n    });\n  }\n}(window));"
     },
     "metadata": {},
     "output_type": "display_data"
    }
   ],
   "source": [
    "import os\n",
    "import math\n",
    "from datetime import datetime, timedelta\n",
    "\n",
    "import pandas as pd\n",
    "import numpy as np\n",
    "import matplotlib.pyplot as plt\n",
    "from tqdm.notebook import tqdm\n",
    "\n",
    "# BOKEH IMPORTS\n",
    "from bokeh.layouts import gridplot\n",
    "from bokeh.plotting import figure, output_notebook, show\n",
    "from bokeh.models import HoverTool, ColumnDataSource\n",
    "output_notebook()\n",
    "\n",
    "\n",
    "# Avoid scientific notation output in Pandas\n",
    "# pd.set_option('display.float_format', lambda x: '%.2f' % x)\n",
    "pd.options.display.float_format = '{:,.2f}'.format\n",
    "\n",
    "\n",
    "# Improve resolution of output graphcis\n",
    "%config InlineBackend.figure_format ='retina'"
   ]
  },
  {
   "cell_type": "markdown",
   "metadata": {},
   "source": [
    "<a name='helpers'></a>\n",
    "## Helper Functions\n",
    "Functions used to accomplish repeated tasks in this notebook.\n",
    "\n",
    "<a href=#index>index</a>"
   ]
  },
  {
   "cell_type": "markdown",
   "metadata": {},
   "source": [
    "### Bokeh Helper Functions"
   ]
  },
  {
   "cell_type": "code",
   "execution_count": 2,
   "metadata": {},
   "outputs": [],
   "source": [
    "def count_chart(d, count_this, by_this, function='unique'):\n",
    "    \"\"\"\n",
    "    Plot counts by column\n",
    "    \"\"\"\n",
    "    \n",
    "    if function == 'unique':\n",
    "        grouping = d.groupby(by_this).nunique()\n",
    "    elif function == 'count':\n",
    "        grouping = d.groupby(by_this).count()\n",
    "    \n",
    "    grouping['left'] = range(0, len(grouping))\n",
    "    grouping['right'] = grouping['left'].values + 1 \n",
    "\n",
    "    tools = [HoverTool(\n",
    "                        tooltips=[\n",
    "                            (f\"{by_this}\", f\"@{by_this}\"),\n",
    "                            (f\"Num {count_this}'s\", f\"@{count_this}\"),]\n",
    "                      )\n",
    "            ]\n",
    "\n",
    "    p = figure(title=f\"Count of Number of {count_this}'s by {by_this}\", tools=tools, \n",
    "               plot_height=500, plot_width=700, background_fill_color=\"#fafafa\",\n",
    "              x_range=list(grouping.index))\n",
    "\n",
    "\n",
    "    p.quad(source=ColumnDataSource(grouping[[count_this, 'left', 'right']]), \n",
    "           top=count_this, bottom=0, left='left', right='right',\n",
    "           line_color=\"white\", alpha=0.7)\n",
    "    \n",
    "    p.y_range.start = 0\n",
    "    p.xaxis.axis_label = f'{by_this}'\n",
    "    p.yaxis.axis_label = f\"Num {count_this}'s\"\n",
    "    p.grid.grid_line_color=\"white\"\n",
    "    p.xaxis.major_label_orientation = math.pi/3\n",
    "    show(p)"
   ]
  },
  {
   "cell_type": "code",
   "execution_count": 3,
   "metadata": {},
   "outputs": [],
   "source": [
    "def hist_chart(d, count_this, for_each):\n",
    "    \n",
    "    num = d.groupby(by=for_each).nunique()[count_this]\n",
    "    \n",
    "    _left = [x for x in range(1, max(num))]\n",
    "    _right = list(np.array(_left) + 1)\n",
    "    \n",
    "    hist, _ = np.histogram(num, bins=len(_left))\n",
    "\n",
    "    tools = [HoverTool(\n",
    "                        tooltips=[\n",
    "                            (f\"This many '{for_each}'\", \"@top\"),\n",
    "                            (f\"Have this many '{count_this}'\", \"@left\"),\n",
    "                            ]\n",
    "                      )\n",
    "            ]\n",
    "    p = figure(title=f\"Count of Number of '{count_this}'\", tools=tools, \n",
    "               plot_height=300, plot_width=700, background_fill_color=\"#fafafa\")\n",
    "    p.quad(top=hist, bottom=0, left=_left, right=_right, line_color=\"white\", alpha=0.7) #, fill_color=\"navy\", )\n",
    "    p.y_range.start = 0\n",
    "    p.xaxis.axis_label = f\"Num '{count_this}'\"\n",
    "    p.yaxis.axis_label = f\"Num '{for_each}'\"\n",
    "    p.grid.grid_line_color=\"white\"\n",
    "    show(p)"
   ]
  },
  {
   "cell_type": "markdown",
   "metadata": {},
   "source": [
    "<a name='read'></a>\n",
    "## Read Dataset\n",
    "Read the dataset and perform basic manipulation of headers and some fields including formatting.\n",
    "\n",
    "<a href=#index>index</a>"
   ]
  },
  {
   "cell_type": "code",
   "execution_count": 4,
   "metadata": {},
   "outputs": [
    {
     "name": "stdout",
     "output_type": "stream",
     "text": [
      "OK - path points to file.\n"
     ]
    }
   ],
   "source": [
    "file_path = '../data/Capital_Projects.csv'\n",
    "if os.path.isfile(file_path):\n",
    "    print(\"OK - path points to file.\")\n",
    "else:\n",
    "    print(\"ERROR - check the 'file_path' and ensure it points to the source file.\")"
   ]
  },
  {
   "cell_type": "code",
   "execution_count": 5,
   "metadata": {},
   "outputs": [],
   "source": [
    "data = pd.read_csv(file_path)"
   ]
  },
  {
   "cell_type": "code",
   "execution_count": 6,
   "metadata": {},
   "outputs": [
    {
     "name": "stdout",
     "output_type": "stream",
     "text": [
      "Number of dataset records: 2259\n",
      "Number of unique projects in dataset: 378\n"
     ]
    }
   ],
   "source": [
    "# entries\n",
    "print(f\"Number of dataset records: {len(data)}\")\n",
    "\n",
    "# num projects\n",
    "print(f\"Number of unique projects in dataset: {len(data['PID'].unique())}\")"
   ]
  },
  {
   "cell_type": "markdown",
   "metadata": {},
   "source": [
    "<a name='cleanup'></a>\n",
    "## Data Cleanup\n",
    "The dataset includes a sizable number of NaN values.  The handling for each of them is different depending on the circumstances.  This section includes the steps necessary to clean the data and remove NaN values.\n",
    "\n",
    "<a href=#index>index</a>"
   ]
  },
  {
   "cell_type": "code",
   "execution_count": 7,
   "metadata": {},
   "outputs": [],
   "source": [
    "# Use 'underscores' in column headers instead of spaces\n",
    "old_cols = list(data.columns)\n",
    "new_cols = [s.replace(' ', '_') for s in old_cols]\n",
    "rename_dict = {k:v for k,v in zip(old_cols, new_cols)}\n",
    "data.rename(columns=rename_dict, inplace=True)\n",
    "\n",
    "# Change Date fields to date-type\n",
    "data['Date_Reported_As_Of'] = pd.to_datetime(data['Date_Reported_As_Of'])\n",
    "data['Design_Start'] = pd.to_datetime(data['Design_Start'])\n",
    "data['Forecast_Completion'] = pd.to_datetime(data['Forecast_Completion'])"
   ]
  },
  {
   "cell_type": "code",
   "execution_count": 8,
   "metadata": {},
   "outputs": [],
   "source": [
    "# make sure data is sorted properly\n",
    "data = data.sort_values(by=['PID', 'Date_Reported_As_Of'])"
   ]
  },
  {
   "cell_type": "code",
   "execution_count": 9,
   "metadata": {},
   "outputs": [],
   "source": [
    "# rename phases to indicate thier sequence\n",
    "rename_phases = {\n",
    "                 'IT':'0-IT',\n",
    "                 'Scoping/Planning':'1-Scoping/Planning',\n",
    "                 'Design':'2-Design',\n",
    "                 'Construction Procurement':'3-Construction Procurement',\n",
    "                 'Construction':'4-Construction',\n",
    "                 'Close-Out':'5-Close-Out'}\n",
    "data.Current_Phase = data.Current_Phase.map(rename_phases)"
   ]
  },
  {
   "cell_type": "code",
   "execution_count": 10,
   "metadata": {},
   "outputs": [],
   "source": [
    "# Create an original budget column\n",
    "# The first line in any project is the source of the original budget.\n",
    "# The original budget for the entire project can be calculated from the\n",
    "# first line of any project:\n",
    "# Original_Budget = Budget_Forecast - Latest_Budget_Changes\n",
    "\n",
    "# if 'Latest_Budget_Changes' is NaN, make it 0 (this is the best info we have)\n",
    "data['Latest_Budget_Changes'] = data['Latest_Budget_Changes'].fillna(0)\n",
    "\n",
    "# loop through projects - create dict of original_budget values\n",
    "orig_budgets_dict = {}\n",
    "for PID in data['PID'].unique():\n",
    "    df = data[data['PID']==PID].sort_values(by='Date_Reported_As_Of')\n",
    "    \n",
    "    original_budget = df.iloc[0]['Budget_Forecast']-df.iloc[0]['Latest_Budget_Changes']\n",
    "    orig_budgets_dict.update({PID: original_budget} )\n"
   ]
  },
  {
   "cell_type": "code",
   "execution_count": 11,
   "metadata": {},
   "outputs": [
    {
     "name": "stdout",
     "output_type": "stream",
     "text": [
      "569 nan\n",
      "595 nan\n",
      "598 nan\n",
      "600 nan\n",
      "696 nan\n",
      "697 nan\n",
      "707 nan\n",
      "800 nan\n",
      "810 nan\n",
      "870 nan\n",
      "898 nan\n",
      "899 nan\n",
      "900 nan\n",
      "901 nan\n",
      "932 nan\n",
      "934 nan\n"
     ]
    }
   ],
   "source": [
    "# Several Projects need manual updates because of poor data quality\n",
    "for k,v in orig_budgets_dict.items():\n",
    "    if math.isnan(v):\n",
    "        print(k, v)"
   ]
  },
  {
   "cell_type": "code",
   "execution_count": 12,
   "metadata": {},
   "outputs": [],
   "source": [
    "orig_budgets_dict.update({569: 28932000.00})\n",
    "orig_budgets_dict.update({595: 0})\n",
    "orig_budgets_dict.update({598: 0})\n",
    "orig_budgets_dict.update({600: 0})\n",
    "orig_budgets_dict.update({696: 0})\n",
    "orig_budgets_dict.update({697: 0})\n",
    "orig_budgets_dict.update({707: 0})\n",
    "orig_budgets_dict.update({800: 0})\n",
    "orig_budgets_dict.update({810: 0})\n",
    "orig_budgets_dict.update({870: 0})\n",
    "orig_budgets_dict.update({898: 27500000})\n",
    "orig_budgets_dict.update({899: 27500000})\n",
    "orig_budgets_dict.update({900: 27400000})\n",
    "orig_budgets_dict.update({901: 27500000})\n",
    "orig_budgets_dict.update({932: 0})\n",
    "orig_budgets_dict.update({934: 0})"
   ]
  },
  {
   "cell_type": "code",
   "execution_count": 13,
   "metadata": {},
   "outputs": [],
   "source": [
    "# apply the original budget values to each project\n",
    "# create columns series and add it to the dataframe\n",
    "def update_budget(s):\n",
    "    return orig_budgets_dict.get(s.PID)\n",
    "\n",
    "data.insert(10, 'Original_Budget', data.apply(update_budget, axis=1))"
   ]
  },
  {
   "cell_type": "code",
   "execution_count": 14,
   "metadata": {},
   "outputs": [
    {
     "data": {
      "text/html": [
       "<div>\n",
       "<style scoped>\n",
       "    .dataframe tbody tr th:only-of-type {\n",
       "        vertical-align: middle;\n",
       "    }\n",
       "\n",
       "    .dataframe tbody tr th {\n",
       "        vertical-align: top;\n",
       "    }\n",
       "\n",
       "    .dataframe thead th {\n",
       "        text-align: right;\n",
       "    }\n",
       "</style>\n",
       "<table border=\"1\" class=\"dataframe\">\n",
       "  <thead>\n",
       "    <tr style=\"text-align: right;\">\n",
       "      <th></th>\n",
       "      <th>Date_Reported_As_Of</th>\n",
       "      <th>PID</th>\n",
       "      <th>Project_Name</th>\n",
       "      <th>Description</th>\n",
       "      <th>Category</th>\n",
       "      <th>Borough</th>\n",
       "      <th>Managing_Agency</th>\n",
       "      <th>Client_Agency</th>\n",
       "      <th>Current_Phase</th>\n",
       "      <th>Design_Start</th>\n",
       "      <th>Original_Budget</th>\n",
       "      <th>Budget_Forecast</th>\n",
       "      <th>Latest_Budget_Changes</th>\n",
       "      <th>Total_Budget_Changes</th>\n",
       "      <th>Forecast_Completion</th>\n",
       "      <th>Latest_Schedule_Changes</th>\n",
       "      <th>Total_Schedule_Changes</th>\n",
       "    </tr>\n",
       "  </thead>\n",
       "  <tbody>\n",
       "  </tbody>\n",
       "</table>\n",
       "</div>"
      ],
      "text/plain": [
       "Empty DataFrame\n",
       "Columns: [Date_Reported_As_Of, PID, Project_Name, Description, Category, Borough, Managing_Agency, Client_Agency, Current_Phase, Design_Start, Original_Budget, Budget_Forecast, Latest_Budget_Changes, Total_Budget_Changes, Forecast_Completion, Latest_Schedule_Changes, Total_Schedule_Changes]\n",
       "Index: []"
      ]
     },
     "execution_count": 14,
     "metadata": {},
     "output_type": "execute_result"
    }
   ],
   "source": [
    "# Check that no values are NaN\n",
    "data[data['Original_Budget'].isna()]"
   ]
  },
  {
   "cell_type": "code",
   "execution_count": 15,
   "metadata": {},
   "outputs": [],
   "source": [
    "# Where text descriptions are missing use 'not_specified'\n",
    "data['Description'] = data['Description'].fillna('not_specified')\n",
    "data['Borough'] = data['Borough'].fillna('not_specified')\n",
    "data['Current_Phase'] = data['Current_Phase'].fillna('not_specified')\n",
    "data['Client_Agency'] = data['Client_Agency'].fillna('not_specified')"
   ]
  },
  {
   "cell_type": "code",
   "execution_count": 16,
   "metadata": {},
   "outputs": [],
   "source": [
    "# several projects have final lines that have no information - remove them\n",
    "drop_idxs = data[(data['Current_Phase']=='not_specified') & (data['Design_Start'].isna()) & (data['Latest_Schedule_Changes'].isna()) & (data['Budget_Forecast'].isna()) & (data['Latest_Budget_Changes']==0)].index\n",
    "data = data.drop(index=drop_idxs)"
   ]
  },
  {
   "cell_type": "code",
   "execution_count": 17,
   "metadata": {},
   "outputs": [
    {
     "data": {
      "text/plain": [
       "Date_Reported_As_Of          0\n",
       "PID                          0\n",
       "Project_Name                 0\n",
       "Description                  0\n",
       "Category                     0\n",
       "Borough                      0\n",
       "Managing_Agency              0\n",
       "Client_Agency                0\n",
       "Current_Phase                0\n",
       "Design_Start                59\n",
       "Original_Budget              0\n",
       "Budget_Forecast              1\n",
       "Latest_Budget_Changes        0\n",
       "Total_Budget_Changes        53\n",
       "Forecast_Completion         17\n",
       "Latest_Schedule_Changes    288\n",
       "Total_Schedule_Changes      61\n",
       "dtype: int64"
      ]
     },
     "execution_count": 17,
     "metadata": {},
     "output_type": "execute_result"
    }
   ],
   "source": [
    "# NaN values per column\n",
    "data.isna().sum()"
   ]
  },
  {
   "cell_type": "markdown",
   "metadata": {},
   "source": [
    "### Calculate Missing NA's where Possible"
   ]
  },
  {
   "cell_type": "code",
   "execution_count": 18,
   "metadata": {},
   "outputs": [],
   "source": [
    "# Fix entries where Total_Budget_Changes is nan\n",
    "\n",
    "# Can be calculated as the sum of all 'Latest_Budget_Changes'\n",
    "\n",
    "# loop through projects - create dict of 'Total_Budget_Changes' values\n",
    "ttl_budget_changes_dict = {}\n",
    "for PID in data['PID'].unique():\n",
    "    df = data[data['PID']==PID].sort_values(by='Date_Reported_As_Of')\n",
    "    \n",
    "    # if no nan's, just take the last ttl value\n",
    "    if len(df['Total_Budget_Changes'].isna()) == 0:\n",
    "        ttl_budget_changes_dict.update({PID: df.iloc[-1]['Total_Budget_Changes']})\n",
    "    else: # there is at least one nan\n",
    "        # if they are all nan - calc as the sum of 'Latest_Budget_Changes'\n",
    "        if data[data['PID']==PID]['Total_Budget_Changes'].isna().all():\n",
    "            ttl_budget_changes_dict.update({PID: df['Latest_Budget_Changes'].sum()})\n",
    "        \n",
    "        else: # not all are nan, take the max of 'Total_Budget_Changes'\n",
    "            ttl_budget_changes_dict.update({PID: df['Total_Budget_Changes'].max()})\n",
    "\n",
    "# apply the total budget changes values to each project\n",
    "# create columns series and add it to the dataframe\n",
    "def update_changes(s):\n",
    "    return ttl_budget_changes_dict.get(s.PID)\n",
    "\n",
    "data['Total_Budget_Changes'] = data.apply(update_changes, axis=1)"
   ]
  },
  {
   "cell_type": "code",
   "execution_count": 19,
   "metadata": {},
   "outputs": [],
   "source": [
    "# Update/Correct Latest_Schedule_Changes that have nan values\n",
    "\n",
    "# if the first entry has a nan, make it 0\n",
    "\n",
    "# loop through projects - create dict of 'Total_Budget_Changes' values\n",
    "latest_schedule_changes_list = []\n",
    "\n",
    "new_PID = False\n",
    "prev_row = None\n",
    "for i, row in data.iterrows():\n",
    "    \n",
    "    # see if this is the first entry for a project\n",
    "    try:\n",
    "        if row.PID != prev_row.PID:\n",
    "            new_PID = True\n",
    "    except:\n",
    "        new_PID = True\n",
    "    \n",
    "    x = row['Latest_Schedule_Changes']\n",
    "    \n",
    "    # if nan and first entry, make 0\n",
    "    if pd.isna(row['Latest_Schedule_Changes']) and new_PID:\n",
    "        x = 0\n",
    "        \n",
    "    # if nan and not first row, calculate \n",
    "    elif pd.isna(row['Latest_Schedule_Changes']) and not new_PID:\n",
    "        \n",
    "        # if forecast_completion is nan, we can back into the value\n",
    "        if pd.isna(row['Forecast_Completion']) or pd.isna(prev_row['Forecast_Completion']):\n",
    "            \n",
    "            \n",
    "            # if the changes are all accounted for, make the entry 0\n",
    "            if row['Total_Schedule_Changes'] - data[data.PID == row.PID]['Latest_Schedule_Changes'].sum() == 0:\n",
    "                x = 0\n",
    "            \n",
    "            # see if this is the only NA row, we can back into the value\n",
    "            elif data[data.PID == row.PID]['Latest_Schedule_Changes'].isna().sum() == 1:\n",
    "                x = row['Total_Schedule_Changes'] - data[data.PID == row.PID]['Latest_Schedule_Changes'].sum()\n",
    "            \n",
    "            # othewise, can't calculate\n",
    "                \n",
    "        else: # there is a forecast_completion date and we can easily calculte the change\n",
    "            x = row['Forecast_Completion'] - prev_row['Forecast_Completion']\n",
    "\n",
    "    latest_schedule_changes_list.append(x)\n",
    "    \n",
    "    new_PID = False\n",
    "    prev_row = row.copy()\n",
    "\n",
    "data['Latest_Schedule_Changes'] = latest_schedule_changes_list\n",
    "    "
   ]
  },
  {
   "cell_type": "code",
   "execution_count": 20,
   "metadata": {},
   "outputs": [
    {
     "data": {
      "text/html": [
       "<div>\n",
       "<style scoped>\n",
       "    .dataframe tbody tr th:only-of-type {\n",
       "        vertical-align: middle;\n",
       "    }\n",
       "\n",
       "    .dataframe tbody tr th {\n",
       "        vertical-align: top;\n",
       "    }\n",
       "\n",
       "    .dataframe thead th {\n",
       "        text-align: right;\n",
       "    }\n",
       "</style>\n",
       "<table border=\"1\" class=\"dataframe\">\n",
       "  <thead>\n",
       "    <tr style=\"text-align: right;\">\n",
       "      <th></th>\n",
       "      <th>Date_Reported_As_Of</th>\n",
       "      <th>PID</th>\n",
       "      <th>Project_Name</th>\n",
       "      <th>Description</th>\n",
       "      <th>Category</th>\n",
       "      <th>Borough</th>\n",
       "      <th>Managing_Agency</th>\n",
       "      <th>Client_Agency</th>\n",
       "      <th>Current_Phase</th>\n",
       "      <th>Design_Start</th>\n",
       "      <th>Original_Budget</th>\n",
       "      <th>Budget_Forecast</th>\n",
       "      <th>Latest_Budget_Changes</th>\n",
       "      <th>Total_Budget_Changes</th>\n",
       "      <th>Forecast_Completion</th>\n",
       "      <th>Latest_Schedule_Changes</th>\n",
       "      <th>Total_Schedule_Changes</th>\n",
       "    </tr>\n",
       "  </thead>\n",
       "  <tbody>\n",
       "    <tr>\n",
       "      <th>2084</th>\n",
       "      <td>2019-01-01</td>\n",
       "      <td>863</td>\n",
       "      <td>Network Infrastructure Refresh Program</td>\n",
       "      <td>This project has a two-fold basis: 1) The ongo...</td>\n",
       "      <td>Health and Hospitals, IT</td>\n",
       "      <td>not_specified</td>\n",
       "      <td>HHC</td>\n",
       "      <td>H+H</td>\n",
       "      <td>0-IT</td>\n",
       "      <td>NaT</td>\n",
       "      <td>0.00</td>\n",
       "      <td>0.00</td>\n",
       "      <td>0.00</td>\n",
       "      <td>160,090,000.00</td>\n",
       "      <td>NaT</td>\n",
       "      <td>nan</td>\n",
       "      <td>nan</td>\n",
       "    </tr>\n",
       "    <tr>\n",
       "      <th>2085</th>\n",
       "      <td>2019-05-01</td>\n",
       "      <td>863</td>\n",
       "      <td>Network Infrastructure Refresh Program</td>\n",
       "      <td>This project has a two-fold basis: 1) The ongo...</td>\n",
       "      <td>Health and Hospitals, IT</td>\n",
       "      <td>not_specified</td>\n",
       "      <td>HHC</td>\n",
       "      <td>H+H</td>\n",
       "      <td>0-IT</td>\n",
       "      <td>NaT</td>\n",
       "      <td>0.00</td>\n",
       "      <td>160,090,000.00</td>\n",
       "      <td>160,090,000.00</td>\n",
       "      <td>160,090,000.00</td>\n",
       "      <td>NaT</td>\n",
       "      <td>nan</td>\n",
       "      <td>nan</td>\n",
       "    </tr>\n",
       "    <tr>\n",
       "      <th>2086</th>\n",
       "      <td>2019-09-01</td>\n",
       "      <td>863</td>\n",
       "      <td>Network Infrastructure Refresh Program</td>\n",
       "      <td>This project has a two-fold basis: 1) The ongo...</td>\n",
       "      <td>Health and Hospitals, IT</td>\n",
       "      <td>not_specified</td>\n",
       "      <td>HHC</td>\n",
       "      <td>H+H</td>\n",
       "      <td>0-IT</td>\n",
       "      <td>NaT</td>\n",
       "      <td>0.00</td>\n",
       "      <td>160,090,000.00</td>\n",
       "      <td>0.00</td>\n",
       "      <td>160,090,000.00</td>\n",
       "      <td>2023-12-31</td>\n",
       "      <td>nan</td>\n",
       "      <td>nan</td>\n",
       "    </tr>\n",
       "  </tbody>\n",
       "</table>\n",
       "</div>"
      ],
      "text/plain": [
       "     Date_Reported_As_Of  PID                            Project_Name  \\\n",
       "2084          2019-01-01  863  Network Infrastructure Refresh Program   \n",
       "2085          2019-05-01  863  Network Infrastructure Refresh Program   \n",
       "2086          2019-09-01  863  Network Infrastructure Refresh Program   \n",
       "\n",
       "                                            Description  \\\n",
       "2084  This project has a two-fold basis: 1) The ongo...   \n",
       "2085  This project has a two-fold basis: 1) The ongo...   \n",
       "2086  This project has a two-fold basis: 1) The ongo...   \n",
       "\n",
       "                      Category        Borough Managing_Agency Client_Agency  \\\n",
       "2084  Health and Hospitals, IT  not_specified             HHC           H+H   \n",
       "2085  Health and Hospitals, IT  not_specified             HHC           H+H   \n",
       "2086  Health and Hospitals, IT  not_specified             HHC           H+H   \n",
       "\n",
       "     Current_Phase Design_Start  Original_Budget  Budget_Forecast  \\\n",
       "2084          0-IT          NaT             0.00             0.00   \n",
       "2085          0-IT          NaT             0.00   160,090,000.00   \n",
       "2086          0-IT          NaT             0.00   160,090,000.00   \n",
       "\n",
       "      Latest_Budget_Changes  Total_Budget_Changes Forecast_Completion  \\\n",
       "2084                   0.00        160,090,000.00                 NaT   \n",
       "2085         160,090,000.00        160,090,000.00                 NaT   \n",
       "2086                   0.00        160,090,000.00          2023-12-31   \n",
       "\n",
       "      Latest_Schedule_Changes  Total_Schedule_Changes  \n",
       "2084                      nan                     nan  \n",
       "2085                      nan                     nan  \n",
       "2086                      nan                     nan  "
      ]
     },
     "execution_count": 20,
     "metadata": {},
     "output_type": "execute_result"
    }
   ],
   "source": [
    "# this project is a lost cause\n",
    "data[data['Latest_Schedule_Changes'].isna()]\n"
   ]
  },
  {
   "cell_type": "code",
   "execution_count": 21,
   "metadata": {},
   "outputs": [],
   "source": [
    "# Now, calculate any missing Forecast_Completion values\n",
    "\n",
    "fc_completion_list = []\n",
    "\n",
    "new_PID = False\n",
    "prev_row = None\n",
    "for i, row in data.iterrows():\n",
    "    \n",
    "    # see if this is the first entry for a project\n",
    "    try:\n",
    "        if row.PID != prev_row.PID:\n",
    "            new_PID = True\n",
    "    except:\n",
    "        new_PID = True\n",
    "        \n",
    "    x = row['Forecast_Completion']\n",
    "    \n",
    "    if pd.isna(x) and not new_PID:\n",
    "        # we can back into the date\n",
    "        x = prev_row['Forecast_Completion'] + timedelta(int(row['Latest_Schedule_Changes']))\n",
    "        \n",
    "    fc_completion_list.append(x)\n",
    "        \n",
    "    \n",
    "data['Forecast_Completion'] = fc_completion_list"
   ]
  },
  {
   "cell_type": "code",
   "execution_count": 22,
   "metadata": {},
   "outputs": [],
   "source": [
    "# now calculate any missing Total_Schedule_Changes\n",
    "\n",
    "ttl_fc_changes_dict = {}\n",
    "for PID in data['PID'].unique():\n",
    "    df = data[data['PID']==PID].sort_values(by='Date_Reported_As_Of')\n",
    "    \n",
    "    # if no nan's, just take the last ttl value\n",
    "    if len(df['Total_Schedule_Changes'].isna()) == 0:\n",
    "        ttl_fc_changes_dict.update({PID: df.iloc[-1]['Total_Schedule_Changes']})\n",
    "    else: # there is at least one nan\n",
    "        # if they are all nan - calc as the sum of 'Latest_Budget_Changes'\n",
    "        if data[data['PID']==PID]['Total_Schedule_Changes'].isna().all():\n",
    "            ttl_fc_changes_dict.update({PID: df['Latest_Schedule_Changes'].sum()})\n",
    "        \n",
    "        else: # not all are nan, take the max of 'Total_Budget_Changes'\n",
    "            ttl_fc_changes_dict.update({PID: df['Total_Schedule_Changes'].max()})\n",
    "\n",
    "\n",
    "def update_changes(s):\n",
    "    return ttl_fc_changes_dict.get(s.PID)\n",
    "\n",
    "data['Total_Schedule_Changes'] = data.apply(update_changes, axis=1)\n"
   ]
  },
  {
   "cell_type": "code",
   "execution_count": 23,
   "metadata": {},
   "outputs": [],
   "source": [
    "# Create an original schedule column\n",
    "\n",
    "# in the first line of a project, back into the origonal date\n",
    "# this is the best that we can do\n",
    "\n",
    "try:\n",
    "    data.drop(columns=['Original_Schedule'], inplace=True)\n",
    "except:\n",
    "    pass\n",
    "\n",
    "orig_sched_dict = {}\n",
    "\n",
    "for PID in data['PID'].unique():\n",
    "    df = data[data['PID']==PID]\n",
    "    \n",
    "    x = df.iloc[0]['Forecast_Completion'] - timedelta(days=int(df.iloc[0]['Latest_Schedule_Changes']))\n",
    "    \n",
    "    # if the first record couldn't be used, use the last record\n",
    "    if pd.isna(x):\n",
    "        x = df.iloc[-1]['Forecast_Completion']- timedelta(days=int(df.iloc[-1]['Total_Schedule_Changes']))\n",
    "        \n",
    "    \n",
    "    orig_sched_dict.update({PID: x})\n",
    "    \n",
    "\n",
    "def update_schedule(s):\n",
    "    return orig_sched_dict.get(s.PID)\n",
    "\n",
    "data.insert(14, 'Original_Schedule', data.apply(update_schedule, axis=1))\n",
    "    \n",
    "    "
   ]
  },
  {
   "cell_type": "code",
   "execution_count": 24,
   "metadata": {},
   "outputs": [
    {
     "data": {
      "text/plain": [
       "Date_Reported_As_Of         0\n",
       "PID                         0\n",
       "Project_Name                0\n",
       "Description                 0\n",
       "Category                    0\n",
       "Borough                     0\n",
       "Managing_Agency             0\n",
       "Client_Agency               0\n",
       "Current_Phase               0\n",
       "Design_Start               59\n",
       "Original_Budget             0\n",
       "Budget_Forecast             1\n",
       "Latest_Budget_Changes       0\n",
       "Total_Budget_Changes        0\n",
       "Original_Schedule           5\n",
       "Forecast_Completion        17\n",
       "Latest_Schedule_Changes     3\n",
       "Total_Schedule_Changes      0\n",
       "dtype: int64"
      ]
     },
     "execution_count": 24,
     "metadata": {},
     "output_type": "execute_result"
    }
   ],
   "source": [
    "data.isna().sum()"
   ]
  },
  {
   "cell_type": "code",
   "execution_count": 25,
   "metadata": {},
   "outputs": [],
   "source": [
    "# All projects in 'Scoping/Planning' phase have no scheduled date yet. Make themm = 0.\n",
    "x_idx = data[data['Current_Phase']=='1-Scoping/Planning'].index\n",
    "for i in x_idx:\n",
    "    data.loc[i] = data.loc[i].fillna(0)"
   ]
  },
  {
   "cell_type": "code",
   "execution_count": 26,
   "metadata": {},
   "outputs": [
    {
     "data": {
      "text/plain": [
       "Date_Reported_As_Of         0\n",
       "PID                         0\n",
       "Project_Name                0\n",
       "Description                 0\n",
       "Category                    0\n",
       "Borough                     0\n",
       "Managing_Agency             0\n",
       "Client_Agency               0\n",
       "Current_Phase               0\n",
       "Design_Start               55\n",
       "Original_Budget             0\n",
       "Budget_Forecast             1\n",
       "Latest_Budget_Changes       0\n",
       "Total_Budget_Changes        0\n",
       "Original_Schedule           1\n",
       "Forecast_Completion        13\n",
       "Latest_Schedule_Changes     3\n",
       "Total_Schedule_Changes      0\n",
       "dtype: int64"
      ]
     },
     "execution_count": 26,
     "metadata": {},
     "output_type": "execute_result"
    }
   ],
   "source": [
    "data.isna().sum()"
   ]
  },
  {
   "cell_type": "markdown",
   "metadata": {},
   "source": [
    "### Cleanup is Complete!"
   ]
  },
  {
   "cell_type": "markdown",
   "metadata": {},
   "source": [
    "<a name='counts'></a>\n",
    "## Counts\n",
    "\n",
    "<a href=#index>index</a>"
   ]
  },
  {
   "cell_type": "code",
   "execution_count": 27,
   "metadata": {},
   "outputs": [
    {
     "data": {
      "text/html": [
       "\n",
       "\n",
       "\n",
       "\n",
       "\n",
       "\n",
       "  <div class=\"bk-root\" id=\"875591d8-66eb-4837-8f79-888ac3a72707\" data-root-id=\"1003\"></div>\n"
      ]
     },
     "metadata": {},
     "output_type": "display_data"
    },
    {
     "data": {
      "application/javascript": [
       "(function(root) {\n",
       "  function embed_document(root) {\n",
       "    \n",
       "  var docs_json = {\"54528ee8-cb00-4153-8fe5-5e57a7512cc5\":{\"roots\":{\"references\":[{\"attributes\":{\"background_fill_color\":{\"value\":\"#fafafa\"},\"below\":[{\"id\":\"1014\",\"type\":\"LinearAxis\"}],\"center\":[{\"id\":\"1018\",\"type\":\"Grid\"},{\"id\":\"1023\",\"type\":\"Grid\"}],\"left\":[{\"id\":\"1019\",\"type\":\"LinearAxis\"}],\"plot_height\":300,\"plot_width\":700,\"renderers\":[{\"id\":\"1029\",\"type\":\"GlyphRenderer\"}],\"title\":{\"id\":\"1004\",\"type\":\"Title\"},\"toolbar\":{\"id\":\"1024\",\"type\":\"Toolbar\"},\"x_range\":{\"id\":\"1006\",\"type\":\"DataRange1d\"},\"x_scale\":{\"id\":\"1010\",\"type\":\"LinearScale\"},\"y_range\":{\"id\":\"1008\",\"type\":\"DataRange1d\"},\"y_scale\":{\"id\":\"1012\",\"type\":\"LinearScale\"}},\"id\":\"1003\",\"subtype\":\"Figure\",\"type\":\"Plot\"},{\"attributes\":{},\"id\":\"1035\",\"type\":\"BasicTickFormatter\"},{\"attributes\":{\"callback\":null,\"tooltips\":[[\"This many 'PID'\",\"@top\"],[\"Have this many 'Date_Reported_As_Of'\",\"@left\"]]},\"id\":\"1002\",\"type\":\"HoverTool\"},{\"attributes\":{},\"id\":\"1020\",\"type\":\"BasicTicker\"},{\"attributes\":{},\"id\":\"1033\",\"type\":\"BasicTickFormatter\"},{\"attributes\":{\"callback\":null,\"start\":0},\"id\":\"1008\",\"type\":\"DataRange1d\"},{\"attributes\":{\"source\":{\"id\":\"1026\",\"type\":\"ColumnDataSource\"}},\"id\":\"1030\",\"type\":\"CDSView\"},{\"attributes\":{\"active_drag\":\"auto\",\"active_inspect\":\"auto\",\"active_multi\":null,\"active_scroll\":\"auto\",\"active_tap\":\"auto\",\"tools\":[{\"id\":\"1002\",\"type\":\"HoverTool\"}]},\"id\":\"1024\",\"type\":\"Toolbar\"},{\"attributes\":{\"callback\":null},\"id\":\"1006\",\"type\":\"DataRange1d\"},{\"attributes\":{},\"id\":\"1010\",\"type\":\"LinearScale\"},{\"attributes\":{},\"id\":\"1012\",\"type\":\"LinearScale\"},{\"attributes\":{\"dimension\":1,\"grid_line_color\":\"white\",\"ticker\":{\"id\":\"1020\",\"type\":\"BasicTicker\"}},\"id\":\"1023\",\"type\":\"Grid\"},{\"attributes\":{\"axis_label\":\"Num 'PID'\",\"formatter\":{\"id\":\"1033\",\"type\":\"BasicTickFormatter\"},\"ticker\":{\"id\":\"1020\",\"type\":\"BasicTicker\"}},\"id\":\"1019\",\"type\":\"LinearAxis\"},{\"attributes\":{\"text\":\"Count of Number of 'Date_Reported_As_Of'\"},\"id\":\"1004\",\"type\":\"Title\"},{\"attributes\":{\"callback\":null,\"data\":{\"left\":[1,2,3,4,5,6,7,8,9,10,11,12,13,14],\"right\":[2,3,4,5,6,7,8,9,10,11,12,13,14,15],\"top\":[69,29,31,35,49,43,9,16,15,5,9,3,6,48]},\"selected\":{\"id\":\"1036\",\"type\":\"Selection\"},\"selection_policy\":{\"id\":\"1037\",\"type\":\"UnionRenderers\"}},\"id\":\"1026\",\"type\":\"ColumnDataSource\"},{\"attributes\":{},\"id\":\"1037\",\"type\":\"UnionRenderers\"},{\"attributes\":{},\"id\":\"1015\",\"type\":\"BasicTicker\"},{\"attributes\":{\"axis_label\":\"Num 'Date_Reported_As_Of'\",\"formatter\":{\"id\":\"1035\",\"type\":\"BasicTickFormatter\"},\"ticker\":{\"id\":\"1015\",\"type\":\"BasicTicker\"}},\"id\":\"1014\",\"type\":\"LinearAxis\"},{\"attributes\":{\"data_source\":{\"id\":\"1026\",\"type\":\"ColumnDataSource\"},\"glyph\":{\"id\":\"1027\",\"type\":\"Quad\"},\"hover_glyph\":null,\"muted_glyph\":null,\"nonselection_glyph\":{\"id\":\"1028\",\"type\":\"Quad\"},\"selection_glyph\":null,\"view\":{\"id\":\"1030\",\"type\":\"CDSView\"}},\"id\":\"1029\",\"type\":\"GlyphRenderer\"},{\"attributes\":{},\"id\":\"1036\",\"type\":\"Selection\"},{\"attributes\":{\"bottom\":{\"value\":0},\"fill_alpha\":{\"value\":0.7},\"fill_color\":{\"value\":\"#1f77b4\"},\"left\":{\"field\":\"left\"},\"line_alpha\":{\"value\":0.7},\"line_color\":{\"value\":\"white\"},\"right\":{\"field\":\"right\"},\"top\":{\"field\":\"top\"}},\"id\":\"1027\",\"type\":\"Quad\"},{\"attributes\":{\"grid_line_color\":\"white\",\"ticker\":{\"id\":\"1015\",\"type\":\"BasicTicker\"}},\"id\":\"1018\",\"type\":\"Grid\"},{\"attributes\":{\"bottom\":{\"value\":0},\"fill_alpha\":{\"value\":0.1},\"fill_color\":{\"value\":\"#1f77b4\"},\"left\":{\"field\":\"left\"},\"line_alpha\":{\"value\":0.1},\"line_color\":{\"value\":\"#1f77b4\"},\"right\":{\"field\":\"right\"},\"top\":{\"field\":\"top\"}},\"id\":\"1028\",\"type\":\"Quad\"}],\"root_ids\":[\"1003\"]},\"title\":\"Bokeh Application\",\"version\":\"1.4.0\"}};\n",
       "  var render_items = [{\"docid\":\"54528ee8-cb00-4153-8fe5-5e57a7512cc5\",\"roots\":{\"1003\":\"875591d8-66eb-4837-8f79-888ac3a72707\"}}];\n",
       "  root.Bokeh.embed.embed_items_notebook(docs_json, render_items);\n",
       "\n",
       "  }\n",
       "  if (root.Bokeh !== undefined) {\n",
       "    embed_document(root);\n",
       "  } else {\n",
       "    var attempts = 0;\n",
       "    var timer = setInterval(function(root) {\n",
       "      if (root.Bokeh !== undefined) {\n",
       "        clearInterval(timer);\n",
       "        embed_document(root);\n",
       "      } else {\n",
       "        attempts++;\n",
       "        if (attempts > 100) {\n",
       "          clearInterval(timer);\n",
       "          console.log(\"Bokeh: ERROR: Unable to run BokehJS code because BokehJS library is missing\");\n",
       "        }\n",
       "      }\n",
       "    }, 10, root)\n",
       "  }\n",
       "})(window);"
      ],
      "application/vnd.bokehjs_exec.v0+json": ""
     },
     "metadata": {
      "application/vnd.bokehjs_exec.v0+json": {
       "id": "1003"
      }
     },
     "output_type": "display_data"
    }
   ],
   "source": [
    "hist_chart(d=data, count_this='Date_Reported_As_Of', for_each='PID')"
   ]
  },
  {
   "cell_type": "code",
   "execution_count": 28,
   "metadata": {},
   "outputs": [
    {
     "data": {
      "text/html": [
       "\n",
       "\n",
       "\n",
       "\n",
       "\n",
       "\n",
       "  <div class=\"bk-root\" id=\"51c7c996-9718-4422-803a-6a840baee5d6\" data-root-id=\"1081\"></div>\n"
      ]
     },
     "metadata": {},
     "output_type": "display_data"
    },
    {
     "data": {
      "application/javascript": [
       "(function(root) {\n",
       "  function embed_document(root) {\n",
       "    \n",
       "  var docs_json = {\"15002c13-16b0-43db-9ec4-a2e5dafbfec5\":{\"roots\":{\"references\":[{\"attributes\":{\"background_fill_color\":{\"value\":\"#fafafa\"},\"below\":[{\"id\":\"1092\",\"type\":\"CategoricalAxis\"}],\"center\":[{\"id\":\"1095\",\"type\":\"Grid\"},{\"id\":\"1100\",\"type\":\"Grid\"}],\"left\":[{\"id\":\"1096\",\"type\":\"LinearAxis\"}],\"plot_height\":500,\"plot_width\":700,\"renderers\":[{\"id\":\"1107\",\"type\":\"GlyphRenderer\"}],\"title\":{\"id\":\"1082\",\"type\":\"Title\"},\"toolbar\":{\"id\":\"1101\",\"type\":\"Toolbar\"},\"x_range\":{\"id\":\"1084\",\"type\":\"FactorRange\"},\"x_scale\":{\"id\":\"1088\",\"type\":\"CategoricalScale\"},\"y_range\":{\"id\":\"1086\",\"type\":\"DataRange1d\"},\"y_scale\":{\"id\":\"1090\",\"type\":\"LinearScale\"}},\"id\":\"1081\",\"subtype\":\"Figure\",\"type\":\"Plot\"},{\"attributes\":{},\"id\":\"1090\",\"type\":\"LinearScale\"},{\"attributes\":{\"callback\":null,\"start\":0},\"id\":\"1086\",\"type\":\"DataRange1d\"},{\"attributes\":{},\"id\":\"1093\",\"type\":\"CategoricalTicker\"},{\"attributes\":{\"data_source\":{\"id\":\"1103\",\"type\":\"ColumnDataSource\"},\"glyph\":{\"id\":\"1105\",\"type\":\"Quad\"},\"hover_glyph\":null,\"muted_glyph\":null,\"nonselection_glyph\":{\"id\":\"1106\",\"type\":\"Quad\"},\"selection_glyph\":null,\"view\":{\"id\":\"1108\",\"type\":\"CDSView\"}},\"id\":\"1107\",\"type\":\"GlyphRenderer\"},{\"attributes\":{},\"id\":\"1122\",\"type\":\"UnionRenderers\"},{\"attributes\":{\"axis_label\":\"Category\",\"formatter\":{\"id\":\"1120\",\"type\":\"CategoricalTickFormatter\"},\"major_label_orientation\":1.0471975511965976,\"ticker\":{\"id\":\"1093\",\"type\":\"CategoricalTicker\"}},\"id\":\"1092\",\"type\":\"CategoricalAxis\"},{\"attributes\":{\"bottom\":{\"value\":0},\"fill_alpha\":{\"value\":0.1},\"fill_color\":{\"value\":\"#1f77b4\"},\"left\":{\"field\":\"left\"},\"line_alpha\":{\"value\":0.1},\"line_color\":{\"value\":\"#1f77b4\"},\"right\":{\"field\":\"right\"},\"top\":{\"field\":\"PID\"}},\"id\":\"1106\",\"type\":\"Quad\"},{\"attributes\":{},\"id\":\"1088\",\"type\":\"CategoricalScale\"},{\"attributes\":{\"text\":\"Count of Number of PID's by Category\"},\"id\":\"1082\",\"type\":\"Title\"},{\"attributes\":{},\"id\":\"1118\",\"type\":\"BasicTickFormatter\"},{\"attributes\":{\"callback\":null,\"tooltips\":[[\"Category\",\"@Category\"],[\"Num PID's\",\"@PID\"]]},\"id\":\"1080\",\"type\":\"HoverTool\"},{\"attributes\":{\"callback\":null,\"data\":{\"Category\":[\"Arts and Culture\",\"Bridges\",\"Bridges, Streets and Roadways\",\"Ferries\",\"Health and Hospitals\",\"Health and Hospitals, IT\",\"IT\",\"Industrial Development\",\"Industrial Development, Parks\",\"Industrial Development, Streets and Roadways\",\"Libraries\",\"Other Government Facilities\",\"Parks\",\"Parks, Streets and Roadways\",\"Public Safety and Criminal Justice\",\"Sanitation\",\"Schools\",\"Sewers\",\"Social Services\",\"Streets and Roadways\",\"Wastewater Treatment\",\"Water Supply\"],\"PID\":[4,21,18,4,5,3,3,37,1,1,5,12,12,2,15,9,31,43,1,81,29,30],\"left\":[0,1,2,3,4,5,6,7,8,9,10,11,12,13,14,15,16,17,18,19,20,21],\"right\":[1,2,3,4,5,6,7,8,9,10,11,12,13,14,15,16,17,18,19,20,21,22]},\"selected\":{\"id\":\"1121\",\"type\":\"Selection\"},\"selection_policy\":{\"id\":\"1122\",\"type\":\"UnionRenderers\"}},\"id\":\"1103\",\"type\":\"ColumnDataSource\"},{\"attributes\":{},\"id\":\"1121\",\"type\":\"Selection\"},{\"attributes\":{\"source\":{\"id\":\"1103\",\"type\":\"ColumnDataSource\"}},\"id\":\"1108\",\"type\":\"CDSView\"},{\"attributes\":{\"dimension\":1,\"grid_line_color\":\"white\",\"ticker\":{\"id\":\"1097\",\"type\":\"BasicTicker\"}},\"id\":\"1100\",\"type\":\"Grid\"},{\"attributes\":{},\"id\":\"1120\",\"type\":\"CategoricalTickFormatter\"},{\"attributes\":{\"grid_line_color\":\"white\",\"ticker\":{\"id\":\"1093\",\"type\":\"CategoricalTicker\"}},\"id\":\"1095\",\"type\":\"Grid\"},{\"attributes\":{},\"id\":\"1097\",\"type\":\"BasicTicker\"},{\"attributes\":{\"bottom\":{\"value\":0},\"fill_alpha\":{\"value\":0.7},\"fill_color\":{\"value\":\"#1f77b4\"},\"left\":{\"field\":\"left\"},\"line_alpha\":{\"value\":0.7},\"line_color\":{\"value\":\"white\"},\"right\":{\"field\":\"right\"},\"top\":{\"field\":\"PID\"}},\"id\":\"1105\",\"type\":\"Quad\"},{\"attributes\":{\"axis_label\":\"Num PID's\",\"formatter\":{\"id\":\"1118\",\"type\":\"BasicTickFormatter\"},\"ticker\":{\"id\":\"1097\",\"type\":\"BasicTicker\"}},\"id\":\"1096\",\"type\":\"LinearAxis\"},{\"attributes\":{\"active_drag\":\"auto\",\"active_inspect\":\"auto\",\"active_multi\":null,\"active_scroll\":\"auto\",\"active_tap\":\"auto\",\"tools\":[{\"id\":\"1080\",\"type\":\"HoverTool\"}]},\"id\":\"1101\",\"type\":\"Toolbar\"},{\"attributes\":{\"callback\":null,\"factors\":[\"Arts and Culture\",\"Bridges\",\"Bridges, Streets and Roadways\",\"Ferries\",\"Health and Hospitals\",\"Health and Hospitals, IT\",\"IT\",\"Industrial Development\",\"Industrial Development, Parks\",\"Industrial Development, Streets and Roadways\",\"Libraries\",\"Other Government Facilities\",\"Parks\",\"Parks, Streets and Roadways\",\"Public Safety and Criminal Justice\",\"Sanitation\",\"Schools\",\"Sewers\",\"Social Services\",\"Streets and Roadways\",\"Wastewater Treatment\",\"Water Supply\"]},\"id\":\"1084\",\"type\":\"FactorRange\"}],\"root_ids\":[\"1081\"]},\"title\":\"Bokeh Application\",\"version\":\"1.4.0\"}};\n",
       "  var render_items = [{\"docid\":\"15002c13-16b0-43db-9ec4-a2e5dafbfec5\",\"roots\":{\"1081\":\"51c7c996-9718-4422-803a-6a840baee5d6\"}}];\n",
       "  root.Bokeh.embed.embed_items_notebook(docs_json, render_items);\n",
       "\n",
       "  }\n",
       "  if (root.Bokeh !== undefined) {\n",
       "    embed_document(root);\n",
       "  } else {\n",
       "    var attempts = 0;\n",
       "    var timer = setInterval(function(root) {\n",
       "      if (root.Bokeh !== undefined) {\n",
       "        clearInterval(timer);\n",
       "        embed_document(root);\n",
       "      } else {\n",
       "        attempts++;\n",
       "        if (attempts > 100) {\n",
       "          clearInterval(timer);\n",
       "          console.log(\"Bokeh: ERROR: Unable to run BokehJS code because BokehJS library is missing\");\n",
       "        }\n",
       "      }\n",
       "    }, 10, root)\n",
       "  }\n",
       "})(window);"
      ],
      "application/vnd.bokehjs_exec.v0+json": ""
     },
     "metadata": {
      "application/vnd.bokehjs_exec.v0+json": {
       "id": "1081"
      }
     },
     "output_type": "display_data"
    }
   ],
   "source": [
    "count_chart(d=data, count_this='PID', by_this='Category')"
   ]
  },
  {
   "cell_type": "code",
   "execution_count": 29,
   "metadata": {},
   "outputs": [
    {
     "data": {
      "text/html": [
       "\n",
       "\n",
       "\n",
       "\n",
       "\n",
       "\n",
       "  <div class=\"bk-root\" id=\"a92e2f7b-dad9-4c42-b063-195f297e7bc5\" data-root-id=\"1166\"></div>\n"
      ]
     },
     "metadata": {},
     "output_type": "display_data"
    },
    {
     "data": {
      "application/javascript": [
       "(function(root) {\n",
       "  function embed_document(root) {\n",
       "    \n",
       "  var docs_json = {\"256653cc-3b83-4d80-8cb6-46cf518f6c1d\":{\"roots\":{\"references\":[{\"attributes\":{\"background_fill_color\":{\"value\":\"#fafafa\"},\"below\":[{\"id\":\"1177\",\"type\":\"CategoricalAxis\"}],\"center\":[{\"id\":\"1180\",\"type\":\"Grid\"},{\"id\":\"1185\",\"type\":\"Grid\"}],\"left\":[{\"id\":\"1181\",\"type\":\"LinearAxis\"}],\"plot_height\":500,\"plot_width\":700,\"renderers\":[{\"id\":\"1192\",\"type\":\"GlyphRenderer\"}],\"title\":{\"id\":\"1167\",\"type\":\"Title\"},\"toolbar\":{\"id\":\"1186\",\"type\":\"Toolbar\"},\"x_range\":{\"id\":\"1169\",\"type\":\"FactorRange\"},\"x_scale\":{\"id\":\"1173\",\"type\":\"CategoricalScale\"},\"y_range\":{\"id\":\"1171\",\"type\":\"DataRange1d\"},\"y_scale\":{\"id\":\"1175\",\"type\":\"LinearScale\"}},\"id\":\"1166\",\"subtype\":\"Figure\",\"type\":\"Plot\"},{\"attributes\":{\"dimension\":1,\"grid_line_color\":\"white\",\"ticker\":{\"id\":\"1182\",\"type\":\"BasicTicker\"}},\"id\":\"1185\",\"type\":\"Grid\"},{\"attributes\":{\"data_source\":{\"id\":\"1188\",\"type\":\"ColumnDataSource\"},\"glyph\":{\"id\":\"1190\",\"type\":\"Quad\"},\"hover_glyph\":null,\"muted_glyph\":null,\"nonselection_glyph\":{\"id\":\"1191\",\"type\":\"Quad\"},\"selection_glyph\":null,\"view\":{\"id\":\"1193\",\"type\":\"CDSView\"}},\"id\":\"1192\",\"type\":\"GlyphRenderer\"},{\"attributes\":{\"bottom\":{\"value\":0},\"fill_alpha\":{\"value\":0.7},\"fill_color\":{\"value\":\"#1f77b4\"},\"left\":{\"field\":\"left\"},\"line_alpha\":{\"value\":0.7},\"line_color\":{\"value\":\"white\"},\"right\":{\"field\":\"right\"},\"top\":{\"field\":\"PID\"}},\"id\":\"1190\",\"type\":\"Quad\"},{\"attributes\":{},\"id\":\"1175\",\"type\":\"LinearScale\"},{\"attributes\":{},\"id\":\"1173\",\"type\":\"CategoricalScale\"},{\"attributes\":{\"callback\":null,\"start\":0},\"id\":\"1171\",\"type\":\"DataRange1d\"},{\"attributes\":{},\"id\":\"1182\",\"type\":\"BasicTicker\"},{\"attributes\":{\"source\":{\"id\":\"1188\",\"type\":\"ColumnDataSource\"}},\"id\":\"1193\",\"type\":\"CDSView\"},{\"attributes\":{\"active_drag\":\"auto\",\"active_inspect\":\"auto\",\"active_multi\":null,\"active_scroll\":\"auto\",\"active_tap\":\"auto\",\"tools\":[{\"id\":\"1165\",\"type\":\"HoverTool\"}]},\"id\":\"1186\",\"type\":\"Toolbar\"},{\"attributes\":{},\"id\":\"1213\",\"type\":\"Selection\"},{\"attributes\":{\"axis_label\":\"Borough\",\"formatter\":{\"id\":\"1212\",\"type\":\"CategoricalTickFormatter\"},\"major_label_orientation\":1.0471975511965976,\"ticker\":{\"id\":\"1178\",\"type\":\"CategoricalTicker\"}},\"id\":\"1177\",\"type\":\"CategoricalAxis\"},{\"attributes\":{\"text\":\"Count of Number of PID's by Borough\"},\"id\":\"1167\",\"type\":\"Title\"},{\"attributes\":{\"callback\":null,\"factors\":[\"Bronx\",\"Bronx, Manhattan\",\"Brooklyn\",\"Brooklyn, Queens\",\"Carmel\",\"Citywide\",\"Manhattan\",\"Manhattan, Bronx\",\"Manhattan, Staten Island\",\"Manhattan, Staten Island, Bronx\",\"Manhatten\",\"Marlboro\",\"New York\",\"Olive\",\"Port Jervis\",\"Queens\",\"Staten Island\",\"Upstate\",\"Valhalla\",\"not_specified\"]},\"id\":\"1169\",\"type\":\"FactorRange\"},{\"attributes\":{\"bottom\":{\"value\":0},\"fill_alpha\":{\"value\":0.1},\"fill_color\":{\"value\":\"#1f77b4\"},\"left\":{\"field\":\"left\"},\"line_alpha\":{\"value\":0.1},\"line_color\":{\"value\":\"#1f77b4\"},\"right\":{\"field\":\"right\"},\"top\":{\"field\":\"PID\"}},\"id\":\"1191\",\"type\":\"Quad\"},{\"attributes\":{\"axis_label\":\"Num PID's\",\"formatter\":{\"id\":\"1210\",\"type\":\"BasicTickFormatter\"},\"ticker\":{\"id\":\"1182\",\"type\":\"BasicTicker\"}},\"id\":\"1181\",\"type\":\"LinearAxis\"},{\"attributes\":{\"callback\":null,\"data\":{\"Borough\":[\"Bronx\",\"Bronx, Manhattan\",\"Brooklyn\",\"Brooklyn, Queens\",\"Carmel\",\"Citywide\",\"Manhattan\",\"Manhattan, Bronx\",\"Manhattan, Staten Island\",\"Manhattan, Staten Island, Bronx\",\"Manhatten\",\"Marlboro\",\"New York\",\"Olive\",\"Port Jervis\",\"Queens\",\"Staten Island\",\"Upstate\",\"Valhalla\",\"not_specified\"],\"PID\":[26,1,50,1,1,11,29,2,1,1,1,1,2,1,1,34,14,2,2,186],\"left\":[0,1,2,3,4,5,6,7,8,9,10,11,12,13,14,15,16,17,18,19],\"right\":[1,2,3,4,5,6,7,8,9,10,11,12,13,14,15,16,17,18,19,20]},\"selected\":{\"id\":\"1213\",\"type\":\"Selection\"},\"selection_policy\":{\"id\":\"1214\",\"type\":\"UnionRenderers\"}},\"id\":\"1188\",\"type\":\"ColumnDataSource\"},{\"attributes\":{\"callback\":null,\"tooltips\":[[\"Borough\",\"@Borough\"],[\"Num PID's\",\"@PID\"]]},\"id\":\"1165\",\"type\":\"HoverTool\"},{\"attributes\":{},\"id\":\"1212\",\"type\":\"CategoricalTickFormatter\"},{\"attributes\":{},\"id\":\"1210\",\"type\":\"BasicTickFormatter\"},{\"attributes\":{},\"id\":\"1178\",\"type\":\"CategoricalTicker\"},{\"attributes\":{\"grid_line_color\":\"white\",\"ticker\":{\"id\":\"1178\",\"type\":\"CategoricalTicker\"}},\"id\":\"1180\",\"type\":\"Grid\"},{\"attributes\":{},\"id\":\"1214\",\"type\":\"UnionRenderers\"}],\"root_ids\":[\"1166\"]},\"title\":\"Bokeh Application\",\"version\":\"1.4.0\"}};\n",
       "  var render_items = [{\"docid\":\"256653cc-3b83-4d80-8cb6-46cf518f6c1d\",\"roots\":{\"1166\":\"a92e2f7b-dad9-4c42-b063-195f297e7bc5\"}}];\n",
       "  root.Bokeh.embed.embed_items_notebook(docs_json, render_items);\n",
       "\n",
       "  }\n",
       "  if (root.Bokeh !== undefined) {\n",
       "    embed_document(root);\n",
       "  } else {\n",
       "    var attempts = 0;\n",
       "    var timer = setInterval(function(root) {\n",
       "      if (root.Bokeh !== undefined) {\n",
       "        clearInterval(timer);\n",
       "        embed_document(root);\n",
       "      } else {\n",
       "        attempts++;\n",
       "        if (attempts > 100) {\n",
       "          clearInterval(timer);\n",
       "          console.log(\"Bokeh: ERROR: Unable to run BokehJS code because BokehJS library is missing\");\n",
       "        }\n",
       "      }\n",
       "    }, 10, root)\n",
       "  }\n",
       "})(window);"
      ],
      "application/vnd.bokehjs_exec.v0+json": ""
     },
     "metadata": {
      "application/vnd.bokehjs_exec.v0+json": {
       "id": "1166"
      }
     },
     "output_type": "display_data"
    }
   ],
   "source": [
    "count_chart(d=data, count_this='PID', by_this='Borough')"
   ]
  },
  {
   "cell_type": "code",
   "execution_count": 30,
   "metadata": {},
   "outputs": [
    {
     "data": {
      "text/html": [
       "\n",
       "\n",
       "\n",
       "\n",
       "\n",
       "\n",
       "  <div class=\"bk-root\" id=\"123dcdee-7746-4e3f-85c2-94324afb8f0d\" data-root-id=\"1258\"></div>\n"
      ]
     },
     "metadata": {},
     "output_type": "display_data"
    },
    {
     "data": {
      "application/javascript": [
       "(function(root) {\n",
       "  function embed_document(root) {\n",
       "    \n",
       "  var docs_json = {\"cf221c7d-d4d0-442b-89cd-abf78607215a\":{\"roots\":{\"references\":[{\"attributes\":{\"background_fill_color\":{\"value\":\"#fafafa\"},\"below\":[{\"id\":\"1269\",\"type\":\"CategoricalAxis\"}],\"center\":[{\"id\":\"1272\",\"type\":\"Grid\"},{\"id\":\"1277\",\"type\":\"Grid\"}],\"left\":[{\"id\":\"1273\",\"type\":\"LinearAxis\"}],\"plot_height\":500,\"plot_width\":700,\"renderers\":[{\"id\":\"1284\",\"type\":\"GlyphRenderer\"}],\"title\":{\"id\":\"1259\",\"type\":\"Title\"},\"toolbar\":{\"id\":\"1278\",\"type\":\"Toolbar\"},\"x_range\":{\"id\":\"1261\",\"type\":\"FactorRange\"},\"x_scale\":{\"id\":\"1265\",\"type\":\"CategoricalScale\"},\"y_range\":{\"id\":\"1263\",\"type\":\"DataRange1d\"},\"y_scale\":{\"id\":\"1267\",\"type\":\"LinearScale\"}},\"id\":\"1258\",\"subtype\":\"Figure\",\"type\":\"Plot\"},{\"attributes\":{\"active_drag\":\"auto\",\"active_inspect\":\"auto\",\"active_multi\":null,\"active_scroll\":\"auto\",\"active_tap\":\"auto\",\"tools\":[{\"id\":\"1257\",\"type\":\"HoverTool\"}]},\"id\":\"1278\",\"type\":\"Toolbar\"},{\"attributes\":{\"callback\":null,\"tooltips\":[[\"Managing_Agency\",\"@Managing_Agency\"],[\"Num PID's\",\"@PID\"]]},\"id\":\"1257\",\"type\":\"HoverTool\"},{\"attributes\":{},\"id\":\"1270\",\"type\":\"CategoricalTicker\"},{\"attributes\":{},\"id\":\"1313\",\"type\":\"UnionRenderers\"},{\"attributes\":{},\"id\":\"1265\",\"type\":\"CategoricalScale\"},{\"attributes\":{},\"id\":\"1274\",\"type\":\"BasicTicker\"},{\"attributes\":{\"grid_line_color\":\"white\",\"ticker\":{\"id\":\"1270\",\"type\":\"CategoricalTicker\"}},\"id\":\"1272\",\"type\":\"Grid\"},{\"attributes\":{\"axis_label\":\"Managing_Agency\",\"formatter\":{\"id\":\"1311\",\"type\":\"CategoricalTickFormatter\"},\"major_label_orientation\":1.0471975511965976,\"ticker\":{\"id\":\"1270\",\"type\":\"CategoricalTicker\"}},\"id\":\"1269\",\"type\":\"CategoricalAxis\"},{\"attributes\":{\"bottom\":{\"value\":0},\"fill_alpha\":{\"value\":0.1},\"fill_color\":{\"value\":\"#1f77b4\"},\"left\":{\"field\":\"left\"},\"line_alpha\":{\"value\":0.1},\"line_color\":{\"value\":\"#1f77b4\"},\"right\":{\"field\":\"right\"},\"top\":{\"field\":\"PID\"}},\"id\":\"1283\",\"type\":\"Quad\"},{\"attributes\":{\"callback\":null,\"start\":0},\"id\":\"1263\",\"type\":\"DataRange1d\"},{\"attributes\":{\"dimension\":1,\"grid_line_color\":\"white\",\"ticker\":{\"id\":\"1274\",\"type\":\"BasicTicker\"}},\"id\":\"1277\",\"type\":\"Grid\"},{\"attributes\":{},\"id\":\"1311\",\"type\":\"CategoricalTickFormatter\"},{\"attributes\":{},\"id\":\"1309\",\"type\":\"BasicTickFormatter\"},{\"attributes\":{\"source\":{\"id\":\"1280\",\"type\":\"ColumnDataSource\"}},\"id\":\"1285\",\"type\":\"CDSView\"},{\"attributes\":{},\"id\":\"1312\",\"type\":\"Selection\"},{\"attributes\":{},\"id\":\"1267\",\"type\":\"LinearScale\"},{\"attributes\":{\"callback\":null,\"factors\":[\"DCAS\",\"DDC\",\"DEP\",\"DOC\",\"DOITT\",\"DOT\",\"DPR\",\"DSNY\",\"EDC\",\"FDNY\",\"HHC\",\"SCA\"]},\"id\":\"1261\",\"type\":\"FactorRange\"},{\"attributes\":{\"axis_label\":\"Num PID's\",\"formatter\":{\"id\":\"1309\",\"type\":\"BasicTickFormatter\"},\"ticker\":{\"id\":\"1274\",\"type\":\"BasicTicker\"}},\"id\":\"1273\",\"type\":\"LinearAxis\"},{\"attributes\":{\"data_source\":{\"id\":\"1280\",\"type\":\"ColumnDataSource\"},\"glyph\":{\"id\":\"1282\",\"type\":\"Quad\"},\"hover_glyph\":null,\"muted_glyph\":null,\"nonselection_glyph\":{\"id\":\"1283\",\"type\":\"Quad\"},\"selection_glyph\":null,\"view\":{\"id\":\"1285\",\"type\":\"CDSView\"}},\"id\":\"1284\",\"type\":\"GlyphRenderer\"},{\"attributes\":{\"callback\":null,\"data\":{\"Managing_Agency\":[\"DCAS\",\"DDC\",\"DEP\",\"DOC\",\"DOITT\",\"DOT\",\"DPR\",\"DSNY\",\"EDC\",\"FDNY\",\"HHC\",\"SCA\"],\"PID\":[3,168,38,2,2,83,3,5,27,2,3,31],\"left\":[0,1,2,3,4,5,6,7,8,9,10,11],\"right\":[1,2,3,4,5,6,7,8,9,10,11,12]},\"selected\":{\"id\":\"1312\",\"type\":\"Selection\"},\"selection_policy\":{\"id\":\"1313\",\"type\":\"UnionRenderers\"}},\"id\":\"1280\",\"type\":\"ColumnDataSource\"},{\"attributes\":{\"bottom\":{\"value\":0},\"fill_alpha\":{\"value\":0.7},\"fill_color\":{\"value\":\"#1f77b4\"},\"left\":{\"field\":\"left\"},\"line_alpha\":{\"value\":0.7},\"line_color\":{\"value\":\"white\"},\"right\":{\"field\":\"right\"},\"top\":{\"field\":\"PID\"}},\"id\":\"1282\",\"type\":\"Quad\"},{\"attributes\":{\"text\":\"Count of Number of PID's by Managing_Agency\"},\"id\":\"1259\",\"type\":\"Title\"}],\"root_ids\":[\"1258\"]},\"title\":\"Bokeh Application\",\"version\":\"1.4.0\"}};\n",
       "  var render_items = [{\"docid\":\"cf221c7d-d4d0-442b-89cd-abf78607215a\",\"roots\":{\"1258\":\"123dcdee-7746-4e3f-85c2-94324afb8f0d\"}}];\n",
       "  root.Bokeh.embed.embed_items_notebook(docs_json, render_items);\n",
       "\n",
       "  }\n",
       "  if (root.Bokeh !== undefined) {\n",
       "    embed_document(root);\n",
       "  } else {\n",
       "    var attempts = 0;\n",
       "    var timer = setInterval(function(root) {\n",
       "      if (root.Bokeh !== undefined) {\n",
       "        clearInterval(timer);\n",
       "        embed_document(root);\n",
       "      } else {\n",
       "        attempts++;\n",
       "        if (attempts > 100) {\n",
       "          clearInterval(timer);\n",
       "          console.log(\"Bokeh: ERROR: Unable to run BokehJS code because BokehJS library is missing\");\n",
       "        }\n",
       "      }\n",
       "    }, 10, root)\n",
       "  }\n",
       "})(window);"
      ],
      "application/vnd.bokehjs_exec.v0+json": ""
     },
     "metadata": {
      "application/vnd.bokehjs_exec.v0+json": {
       "id": "1258"
      }
     },
     "output_type": "display_data"
    }
   ],
   "source": [
    "count_chart(d=data, count_this='PID', by_this='Managing_Agency')"
   ]
  },
  {
   "cell_type": "code",
   "execution_count": 31,
   "metadata": {},
   "outputs": [
    {
     "data": {
      "text/html": [
       "\n",
       "\n",
       "\n",
       "\n",
       "\n",
       "\n",
       "  <div class=\"bk-root\" id=\"5facabeb-79f6-47d8-913e-6e6b44eb48e6\" data-root-id=\"1357\"></div>\n"
      ]
     },
     "metadata": {},
     "output_type": "display_data"
    },
    {
     "data": {
      "application/javascript": [
       "(function(root) {\n",
       "  function embed_document(root) {\n",
       "    \n",
       "  var docs_json = {\"0b55f6dc-b4ce-41d8-babd-dac66ed242ee\":{\"roots\":{\"references\":[{\"attributes\":{\"background_fill_color\":{\"value\":\"#fafafa\"},\"below\":[{\"id\":\"1368\",\"type\":\"CategoricalAxis\"}],\"center\":[{\"id\":\"1371\",\"type\":\"Grid\"},{\"id\":\"1376\",\"type\":\"Grid\"}],\"left\":[{\"id\":\"1372\",\"type\":\"LinearAxis\"}],\"plot_height\":500,\"plot_width\":700,\"renderers\":[{\"id\":\"1383\",\"type\":\"GlyphRenderer\"}],\"title\":{\"id\":\"1358\",\"type\":\"Title\"},\"toolbar\":{\"id\":\"1377\",\"type\":\"Toolbar\"},\"x_range\":{\"id\":\"1360\",\"type\":\"FactorRange\"},\"x_scale\":{\"id\":\"1364\",\"type\":\"CategoricalScale\"},\"y_range\":{\"id\":\"1362\",\"type\":\"DataRange1d\"},\"y_scale\":{\"id\":\"1366\",\"type\":\"LinearScale\"}},\"id\":\"1357\",\"subtype\":\"Figure\",\"type\":\"Plot\"},{\"attributes\":{\"grid_line_color\":\"white\",\"ticker\":{\"id\":\"1369\",\"type\":\"CategoricalTicker\"}},\"id\":\"1371\",\"type\":\"Grid\"},{\"attributes\":{\"bottom\":{\"value\":0},\"fill_alpha\":{\"value\":0.7},\"fill_color\":{\"value\":\"#1f77b4\"},\"left\":{\"field\":\"left\"},\"line_alpha\":{\"value\":0.7},\"line_color\":{\"value\":\"white\"},\"right\":{\"field\":\"right\"},\"top\":{\"field\":\"PID\"}},\"id\":\"1381\",\"type\":\"Quad\"},{\"attributes\":{},\"id\":\"1419\",\"type\":\"UnionRenderers\"},{\"attributes\":{\"callback\":null,\"factors\":[\"ACS\",\"BPL\",\"BTDS\",\"BWS\",\"BWT\",\"DCAS\",\"DCLA\",\"DEP\",\"DEP, DOT\",\"DEP, DOT, EDC\",\"DEP, EDC\",\"DHS\",\"DOC\",\"DOE\",\"DOHMH\",\"DOHMH, HHC\",\"DOT\",\"DOT, Mayor's Office\",\"DPR\",\"DSBS\",\"DSNY\",\"EDC\",\"FDNY\",\"FDNY, NYPD\",\"H+H\",\"Mayor's Office\",\"NYPD\",\"ORR\",\"QL\",\"WWC\",\"not_specified\"]},\"id\":\"1360\",\"type\":\"FactorRange\"},{\"attributes\":{\"dimension\":1,\"grid_line_color\":\"white\",\"ticker\":{\"id\":\"1373\",\"type\":\"BasicTicker\"}},\"id\":\"1376\",\"type\":\"Grid\"},{\"attributes\":{\"text\":\"Count of Number of PID's by Client_Agency\"},\"id\":\"1358\",\"type\":\"Title\"},{\"attributes\":{},\"id\":\"1364\",\"type\":\"CategoricalScale\"},{\"attributes\":{\"bottom\":{\"value\":0},\"fill_alpha\":{\"value\":0.1},\"fill_color\":{\"value\":\"#1f77b4\"},\"left\":{\"field\":\"left\"},\"line_alpha\":{\"value\":0.1},\"line_color\":{\"value\":\"#1f77b4\"},\"right\":{\"field\":\"right\"},\"top\":{\"field\":\"PID\"}},\"id\":\"1382\",\"type\":\"Quad\"},{\"attributes\":{\"source\":{\"id\":\"1379\",\"type\":\"ColumnDataSource\"}},\"id\":\"1384\",\"type\":\"CDSView\"},{\"attributes\":{\"axis_label\":\"Num PID's\",\"formatter\":{\"id\":\"1415\",\"type\":\"BasicTickFormatter\"},\"ticker\":{\"id\":\"1373\",\"type\":\"BasicTicker\"}},\"id\":\"1372\",\"type\":\"LinearAxis\"},{\"attributes\":{\"callback\":null,\"start\":0},\"id\":\"1362\",\"type\":\"DataRange1d\"},{\"attributes\":{\"data_source\":{\"id\":\"1379\",\"type\":\"ColumnDataSource\"},\"glyph\":{\"id\":\"1381\",\"type\":\"Quad\"},\"hover_glyph\":null,\"muted_glyph\":null,\"nonselection_glyph\":{\"id\":\"1382\",\"type\":\"Quad\"},\"selection_glyph\":null,\"view\":{\"id\":\"1384\",\"type\":\"CDSView\"}},\"id\":\"1383\",\"type\":\"GlyphRenderer\"},{\"attributes\":{},\"id\":\"1369\",\"type\":\"CategoricalTicker\"},{\"attributes\":{},\"id\":\"1366\",\"type\":\"LinearScale\"},{\"attributes\":{\"callback\":null,\"tooltips\":[[\"Client_Agency\",\"@Client_Agency\"],[\"Num PID's\",\"@PID\"]]},\"id\":\"1356\",\"type\":\"HoverTool\"},{\"attributes\":{},\"id\":\"1373\",\"type\":\"BasicTicker\"},{\"attributes\":{},\"id\":\"1417\",\"type\":\"CategoricalTickFormatter\"},{\"attributes\":{\"axis_label\":\"Client_Agency\",\"formatter\":{\"id\":\"1417\",\"type\":\"CategoricalTickFormatter\"},\"major_label_orientation\":1.0471975511965976,\"ticker\":{\"id\":\"1369\",\"type\":\"CategoricalTicker\"}},\"id\":\"1368\",\"type\":\"CategoricalAxis\"},{\"attributes\":{},\"id\":\"1415\",\"type\":\"BasicTickFormatter\"},{\"attributes\":{\"active_drag\":\"auto\",\"active_inspect\":\"auto\",\"active_multi\":null,\"active_scroll\":\"auto\",\"active_tap\":\"auto\",\"tools\":[{\"id\":\"1356\",\"type\":\"HoverTool\"}]},\"id\":\"1377\",\"type\":\"Toolbar\"},{\"attributes\":{\"callback\":null,\"data\":{\"Client_Agency\":[\"ACS\",\"BPL\",\"BTDS\",\"BWS\",\"BWT\",\"DCAS\",\"DCLA\",\"DEP\",\"DEP, DOT\",\"DEP, DOT, EDC\",\"DEP, EDC\",\"DHS\",\"DOC\",\"DOE\",\"DOHMH\",\"DOHMH, HHC\",\"DOT\",\"DOT, Mayor's Office\",\"DPR\",\"DSBS\",\"DSNY\",\"EDC\",\"FDNY\",\"FDNY, NYPD\",\"H+H\",\"Mayor's Office\",\"NYPD\",\"ORR\",\"QL\",\"WWC\",\"not_specified\"],\"PID\":[1,3,1,1,1,19,4,113,3,1,1,3,2,31,1,2,50,1,10,1,10,4,3,1,6,1,2,1,3,3,84],\"left\":[0,1,2,3,4,5,6,7,8,9,10,11,12,13,14,15,16,17,18,19,20,21,22,23,24,25,26,27,28,29,30],\"right\":[1,2,3,4,5,6,7,8,9,10,11,12,13,14,15,16,17,18,19,20,21,22,23,24,25,26,27,28,29,30,31]},\"selected\":{\"id\":\"1418\",\"type\":\"Selection\"},\"selection_policy\":{\"id\":\"1419\",\"type\":\"UnionRenderers\"}},\"id\":\"1379\",\"type\":\"ColumnDataSource\"},{\"attributes\":{},\"id\":\"1418\",\"type\":\"Selection\"}],\"root_ids\":[\"1357\"]},\"title\":\"Bokeh Application\",\"version\":\"1.4.0\"}};\n",
       "  var render_items = [{\"docid\":\"0b55f6dc-b4ce-41d8-babd-dac66ed242ee\",\"roots\":{\"1357\":\"5facabeb-79f6-47d8-913e-6e6b44eb48e6\"}}];\n",
       "  root.Bokeh.embed.embed_items_notebook(docs_json, render_items);\n",
       "\n",
       "  }\n",
       "  if (root.Bokeh !== undefined) {\n",
       "    embed_document(root);\n",
       "  } else {\n",
       "    var attempts = 0;\n",
       "    var timer = setInterval(function(root) {\n",
       "      if (root.Bokeh !== undefined) {\n",
       "        clearInterval(timer);\n",
       "        embed_document(root);\n",
       "      } else {\n",
       "        attempts++;\n",
       "        if (attempts > 100) {\n",
       "          clearInterval(timer);\n",
       "          console.log(\"Bokeh: ERROR: Unable to run BokehJS code because BokehJS library is missing\");\n",
       "        }\n",
       "      }\n",
       "    }, 10, root)\n",
       "  }\n",
       "})(window);"
      ],
      "application/vnd.bokehjs_exec.v0+json": ""
     },
     "metadata": {
      "application/vnd.bokehjs_exec.v0+json": {
       "id": "1357"
      }
     },
     "output_type": "display_data"
    }
   ],
   "source": [
    "count_chart(d=data, count_this='PID', by_this='Client_Agency')"
   ]
  },
  {
   "cell_type": "code",
   "execution_count": 32,
   "metadata": {},
   "outputs": [
    {
     "data": {
      "text/html": [
       "\n",
       "\n",
       "\n",
       "\n",
       "\n",
       "\n",
       "  <div class=\"bk-root\" id=\"cae76b29-6478-4344-bf4f-e6e8d8c48bd1\" data-root-id=\"1463\"></div>\n"
      ]
     },
     "metadata": {},
     "output_type": "display_data"
    },
    {
     "data": {
      "application/javascript": [
       "(function(root) {\n",
       "  function embed_document(root) {\n",
       "    \n",
       "  var docs_json = {\"58ee2de3-3147-4037-8b26-ac355759862a\":{\"roots\":{\"references\":[{\"attributes\":{\"background_fill_color\":{\"value\":\"#fafafa\"},\"below\":[{\"id\":\"1474\",\"type\":\"CategoricalAxis\"}],\"center\":[{\"id\":\"1477\",\"type\":\"Grid\"},{\"id\":\"1482\",\"type\":\"Grid\"}],\"left\":[{\"id\":\"1478\",\"type\":\"LinearAxis\"}],\"plot_height\":500,\"plot_width\":700,\"renderers\":[{\"id\":\"1489\",\"type\":\"GlyphRenderer\"}],\"title\":{\"id\":\"1464\",\"type\":\"Title\"},\"toolbar\":{\"id\":\"1483\",\"type\":\"Toolbar\"},\"x_range\":{\"id\":\"1466\",\"type\":\"FactorRange\"},\"x_scale\":{\"id\":\"1470\",\"type\":\"CategoricalScale\"},\"y_range\":{\"id\":\"1468\",\"type\":\"DataRange1d\"},\"y_scale\":{\"id\":\"1472\",\"type\":\"LinearScale\"}},\"id\":\"1463\",\"subtype\":\"Figure\",\"type\":\"Plot\"},{\"attributes\":{\"active_drag\":\"auto\",\"active_inspect\":\"auto\",\"active_multi\":null,\"active_scroll\":\"auto\",\"active_tap\":\"auto\",\"tools\":[{\"id\":\"1462\",\"type\":\"HoverTool\"}]},\"id\":\"1483\",\"type\":\"Toolbar\"},{\"attributes\":{},\"id\":\"1531\",\"type\":\"Selection\"},{\"attributes\":{\"data_source\":{\"id\":\"1485\",\"type\":\"ColumnDataSource\"},\"glyph\":{\"id\":\"1487\",\"type\":\"Quad\"},\"hover_glyph\":null,\"muted_glyph\":null,\"nonselection_glyph\":{\"id\":\"1488\",\"type\":\"Quad\"},\"selection_glyph\":null,\"view\":{\"id\":\"1490\",\"type\":\"CDSView\"}},\"id\":\"1489\",\"type\":\"GlyphRenderer\"},{\"attributes\":{},\"id\":\"1532\",\"type\":\"UnionRenderers\"},{\"attributes\":{\"callback\":null,\"factors\":[\"0-IT\",\"1-Scoping/Planning\",\"2-Design\",\"3-Construction Procurement\",\"4-Construction\",\"5-Close-Out\"]},\"id\":\"1466\",\"type\":\"FactorRange\"},{\"attributes\":{},\"id\":\"1470\",\"type\":\"CategoricalScale\"},{\"attributes\":{},\"id\":\"1528\",\"type\":\"BasicTickFormatter\"},{\"attributes\":{\"callback\":null,\"data\":{\"Current_Phase\":[\"0-IT\",\"1-Scoping/Planning\",\"2-Design\",\"3-Construction Procurement\",\"4-Construction\",\"5-Close-Out\"],\"PID\":[7,4,233,137,172,1],\"left\":[0,1,2,3,4,5],\"right\":[1,2,3,4,5,6]},\"selected\":{\"id\":\"1531\",\"type\":\"Selection\"},\"selection_policy\":{\"id\":\"1532\",\"type\":\"UnionRenderers\"}},\"id\":\"1485\",\"type\":\"ColumnDataSource\"},{\"attributes\":{\"text\":\"Count of Number of PID's by Current_Phase\"},\"id\":\"1464\",\"type\":\"Title\"},{\"attributes\":{},\"id\":\"1472\",\"type\":\"LinearScale\"},{\"attributes\":{},\"id\":\"1530\",\"type\":\"CategoricalTickFormatter\"},{\"attributes\":{\"bottom\":{\"value\":0},\"fill_alpha\":{\"value\":0.1},\"fill_color\":{\"value\":\"#1f77b4\"},\"left\":{\"field\":\"left\"},\"line_alpha\":{\"value\":0.1},\"line_color\":{\"value\":\"#1f77b4\"},\"right\":{\"field\":\"right\"},\"top\":{\"field\":\"PID\"}},\"id\":\"1488\",\"type\":\"Quad\"},{\"attributes\":{\"callback\":null,\"tooltips\":[[\"Current_Phase\",\"@Current_Phase\"],[\"Num PID's\",\"@PID\"]]},\"id\":\"1462\",\"type\":\"HoverTool\"},{\"attributes\":{\"axis_label\":\"Num PID's\",\"formatter\":{\"id\":\"1528\",\"type\":\"BasicTickFormatter\"},\"ticker\":{\"id\":\"1479\",\"type\":\"BasicTicker\"}},\"id\":\"1478\",\"type\":\"LinearAxis\"},{\"attributes\":{\"bottom\":{\"value\":0},\"fill_alpha\":{\"value\":0.7},\"fill_color\":{\"value\":\"#1f77b4\"},\"left\":{\"field\":\"left\"},\"line_alpha\":{\"value\":0.7},\"line_color\":{\"value\":\"white\"},\"right\":{\"field\":\"right\"},\"top\":{\"field\":\"PID\"}},\"id\":\"1487\",\"type\":\"Quad\"},{\"attributes\":{},\"id\":\"1475\",\"type\":\"CategoricalTicker\"},{\"attributes\":{\"dimension\":1,\"grid_line_color\":\"white\",\"ticker\":{\"id\":\"1479\",\"type\":\"BasicTicker\"}},\"id\":\"1482\",\"type\":\"Grid\"},{\"attributes\":{},\"id\":\"1479\",\"type\":\"BasicTicker\"},{\"attributes\":{\"grid_line_color\":\"white\",\"ticker\":{\"id\":\"1475\",\"type\":\"CategoricalTicker\"}},\"id\":\"1477\",\"type\":\"Grid\"},{\"attributes\":{\"axis_label\":\"Current_Phase\",\"formatter\":{\"id\":\"1530\",\"type\":\"CategoricalTickFormatter\"},\"major_label_orientation\":1.0471975511965976,\"ticker\":{\"id\":\"1475\",\"type\":\"CategoricalTicker\"}},\"id\":\"1474\",\"type\":\"CategoricalAxis\"},{\"attributes\":{\"source\":{\"id\":\"1485\",\"type\":\"ColumnDataSource\"}},\"id\":\"1490\",\"type\":\"CDSView\"},{\"attributes\":{\"callback\":null,\"start\":0},\"id\":\"1468\",\"type\":\"DataRange1d\"}],\"root_ids\":[\"1463\"]},\"title\":\"Bokeh Application\",\"version\":\"1.4.0\"}};\n",
       "  var render_items = [{\"docid\":\"58ee2de3-3147-4037-8b26-ac355759862a\",\"roots\":{\"1463\":\"cae76b29-6478-4344-bf4f-e6e8d8c48bd1\"}}];\n",
       "  root.Bokeh.embed.embed_items_notebook(docs_json, render_items);\n",
       "\n",
       "  }\n",
       "  if (root.Bokeh !== undefined) {\n",
       "    embed_document(root);\n",
       "  } else {\n",
       "    var attempts = 0;\n",
       "    var timer = setInterval(function(root) {\n",
       "      if (root.Bokeh !== undefined) {\n",
       "        clearInterval(timer);\n",
       "        embed_document(root);\n",
       "      } else {\n",
       "        attempts++;\n",
       "        if (attempts > 100) {\n",
       "          clearInterval(timer);\n",
       "          console.log(\"Bokeh: ERROR: Unable to run BokehJS code because BokehJS library is missing\");\n",
       "        }\n",
       "      }\n",
       "    }, 10, root)\n",
       "  }\n",
       "})(window);"
      ],
      "application/vnd.bokehjs_exec.v0+json": ""
     },
     "metadata": {
      "application/vnd.bokehjs_exec.v0+json": {
       "id": "1463"
      }
     },
     "output_type": "display_data"
    }
   ],
   "source": [
    "count_chart(d=data, count_this='PID', by_this='Current_Phase')"
   ]
  },
  {
   "cell_type": "code",
   "execution_count": 33,
   "metadata": {},
   "outputs": [
    {
     "data": {
      "text/html": [
       "\n",
       "\n",
       "\n",
       "\n",
       "\n",
       "\n",
       "  <div class=\"bk-root\" id=\"e0dbeca0-8153-401a-a91e-8ba611f79d06\" data-root-id=\"1576\"></div>\n"
      ]
     },
     "metadata": {},
     "output_type": "display_data"
    },
    {
     "data": {
      "application/javascript": [
       "(function(root) {\n",
       "  function embed_document(root) {\n",
       "    \n",
       "  var docs_json = {\"ce89ef6d-fc05-459d-a882-8b83428f77ce\":{\"roots\":{\"references\":[{\"attributes\":{\"background_fill_color\":{\"value\":\"#fafafa\"},\"below\":[{\"id\":\"1587\",\"type\":\"CategoricalAxis\"}],\"center\":[{\"id\":\"1590\",\"type\":\"Grid\"},{\"id\":\"1595\",\"type\":\"Grid\"}],\"left\":[{\"id\":\"1591\",\"type\":\"LinearAxis\"}],\"plot_height\":500,\"plot_width\":700,\"renderers\":[{\"id\":\"1602\",\"type\":\"GlyphRenderer\"}],\"title\":{\"id\":\"1577\",\"type\":\"Title\"},\"toolbar\":{\"id\":\"1596\",\"type\":\"Toolbar\"},\"x_range\":{\"id\":\"1579\",\"type\":\"FactorRange\"},\"x_scale\":{\"id\":\"1583\",\"type\":\"CategoricalScale\"},\"y_range\":{\"id\":\"1581\",\"type\":\"DataRange1d\"},\"y_scale\":{\"id\":\"1585\",\"type\":\"LinearScale\"}},\"id\":\"1576\",\"subtype\":\"Figure\",\"type\":\"Plot\"},{\"attributes\":{\"source\":{\"id\":\"1598\",\"type\":\"ColumnDataSource\"}},\"id\":\"1603\",\"type\":\"CDSView\"},{\"attributes\":{\"axis_label\":\"Current_Phase\",\"formatter\":{\"id\":\"1650\",\"type\":\"CategoricalTickFormatter\"},\"major_label_orientation\":1.0471975511965976,\"ticker\":{\"id\":\"1588\",\"type\":\"CategoricalTicker\"}},\"id\":\"1587\",\"type\":\"CategoricalAxis\"},{\"attributes\":{},\"id\":\"1592\",\"type\":\"BasicTicker\"},{\"attributes\":{\"callback\":null,\"tooltips\":[[\"Current_Phase\",\"@Current_Phase\"],[\"Num Date_Reported_As_Of's\",\"@Date_Reported_As_Of\"]]},\"id\":\"1575\",\"type\":\"HoverTool\"},{\"attributes\":{},\"id\":\"1588\",\"type\":\"CategoricalTicker\"},{\"attributes\":{\"callback\":null,\"data\":{\"Current_Phase\":[\"0-IT\",\"1-Scoping/Planning\",\"2-Design\",\"3-Construction Procurement\",\"4-Construction\",\"5-Close-Out\"],\"Date_Reported_As_Of\":[54,4,932,263,900,1],\"left\":[0,1,2,3,4,5],\"right\":[1,2,3,4,5,6]},\"selected\":{\"id\":\"1651\",\"type\":\"Selection\"},\"selection_policy\":{\"id\":\"1652\",\"type\":\"UnionRenderers\"}},\"id\":\"1598\",\"type\":\"ColumnDataSource\"},{\"attributes\":{\"grid_line_color\":\"white\",\"ticker\":{\"id\":\"1588\",\"type\":\"CategoricalTicker\"}},\"id\":\"1590\",\"type\":\"Grid\"},{\"attributes\":{\"dimension\":1,\"grid_line_color\":\"white\",\"ticker\":{\"id\":\"1592\",\"type\":\"BasicTicker\"}},\"id\":\"1595\",\"type\":\"Grid\"},{\"attributes\":{},\"id\":\"1651\",\"type\":\"Selection\"},{\"attributes\":{\"axis_label\":\"Num Date_Reported_As_Of's\",\"formatter\":{\"id\":\"1648\",\"type\":\"BasicTickFormatter\"},\"ticker\":{\"id\":\"1592\",\"type\":\"BasicTicker\"}},\"id\":\"1591\",\"type\":\"LinearAxis\"},{\"attributes\":{\"text\":\"Count of Number of Date_Reported_As_Of's by Current_Phase\"},\"id\":\"1577\",\"type\":\"Title\"},{\"attributes\":{\"data_source\":{\"id\":\"1598\",\"type\":\"ColumnDataSource\"},\"glyph\":{\"id\":\"1600\",\"type\":\"Quad\"},\"hover_glyph\":null,\"muted_glyph\":null,\"nonselection_glyph\":{\"id\":\"1601\",\"type\":\"Quad\"},\"selection_glyph\":null,\"view\":{\"id\":\"1603\",\"type\":\"CDSView\"}},\"id\":\"1602\",\"type\":\"GlyphRenderer\"},{\"attributes\":{\"bottom\":{\"value\":0},\"fill_alpha\":{\"value\":0.7},\"fill_color\":{\"value\":\"#1f77b4\"},\"left\":{\"field\":\"left\"},\"line_alpha\":{\"value\":0.7},\"line_color\":{\"value\":\"white\"},\"right\":{\"field\":\"right\"},\"top\":{\"field\":\"Date_Reported_As_Of\"}},\"id\":\"1600\",\"type\":\"Quad\"},{\"attributes\":{\"callback\":null,\"factors\":[\"0-IT\",\"1-Scoping/Planning\",\"2-Design\",\"3-Construction Procurement\",\"4-Construction\",\"5-Close-Out\"]},\"id\":\"1579\",\"type\":\"FactorRange\"},{\"attributes\":{},\"id\":\"1648\",\"type\":\"BasicTickFormatter\"},{\"attributes\":{\"bottom\":{\"value\":0},\"fill_alpha\":{\"value\":0.1},\"fill_color\":{\"value\":\"#1f77b4\"},\"left\":{\"field\":\"left\"},\"line_alpha\":{\"value\":0.1},\"line_color\":{\"value\":\"#1f77b4\"},\"right\":{\"field\":\"right\"},\"top\":{\"field\":\"Date_Reported_As_Of\"}},\"id\":\"1601\",\"type\":\"Quad\"},{\"attributes\":{},\"id\":\"1650\",\"type\":\"CategoricalTickFormatter\"},{\"attributes\":{\"active_drag\":\"auto\",\"active_inspect\":\"auto\",\"active_multi\":null,\"active_scroll\":\"auto\",\"active_tap\":\"auto\",\"tools\":[{\"id\":\"1575\",\"type\":\"HoverTool\"}]},\"id\":\"1596\",\"type\":\"Toolbar\"},{\"attributes\":{\"callback\":null,\"start\":0},\"id\":\"1581\",\"type\":\"DataRange1d\"},{\"attributes\":{},\"id\":\"1583\",\"type\":\"CategoricalScale\"},{\"attributes\":{},\"id\":\"1652\",\"type\":\"UnionRenderers\"},{\"attributes\":{},\"id\":\"1585\",\"type\":\"LinearScale\"}],\"root_ids\":[\"1576\"]},\"title\":\"Bokeh Application\",\"version\":\"1.4.0\"}};\n",
       "  var render_items = [{\"docid\":\"ce89ef6d-fc05-459d-a882-8b83428f77ce\",\"roots\":{\"1576\":\"e0dbeca0-8153-401a-a91e-8ba611f79d06\"}}];\n",
       "  root.Bokeh.embed.embed_items_notebook(docs_json, render_items);\n",
       "\n",
       "  }\n",
       "  if (root.Bokeh !== undefined) {\n",
       "    embed_document(root);\n",
       "  } else {\n",
       "    var attempts = 0;\n",
       "    var timer = setInterval(function(root) {\n",
       "      if (root.Bokeh !== undefined) {\n",
       "        clearInterval(timer);\n",
       "        embed_document(root);\n",
       "      } else {\n",
       "        attempts++;\n",
       "        if (attempts > 100) {\n",
       "          clearInterval(timer);\n",
       "          console.log(\"Bokeh: ERROR: Unable to run BokehJS code because BokehJS library is missing\");\n",
       "        }\n",
       "      }\n",
       "    }, 10, root)\n",
       "  }\n",
       "})(window);"
      ],
      "application/vnd.bokehjs_exec.v0+json": ""
     },
     "metadata": {
      "application/vnd.bokehjs_exec.v0+json": {
       "id": "1576"
      }
     },
     "output_type": "display_data"
    }
   ],
   "source": [
    "# updates per phase\n",
    "count_chart(d=data, count_this='Date_Reported_As_Of', by_this='Current_Phase', function='count')"
   ]
  },
  {
   "cell_type": "code",
   "execution_count": null,
   "metadata": {},
   "outputs": [],
   "source": []
  },
  {
   "cell_type": "code",
   "execution_count": null,
   "metadata": {},
   "outputs": [],
   "source": []
  },
  {
   "cell_type": "code",
   "execution_count": null,
   "metadata": {},
   "outputs": [],
   "source": []
  },
  {
   "cell_type": "code",
   "execution_count": null,
   "metadata": {},
   "outputs": [],
   "source": []
  },
  {
   "cell_type": "markdown",
   "metadata": {},
   "source": [
    "<a name='trends'></a>\n",
    "## Trends\n",
    "\n",
    "<a href=#index>index</a>"
   ]
  },
  {
   "cell_type": "markdown",
   "metadata": {},
   "source": [
    "<a name='budget'></a>\n",
    "## Budget Values\n",
    "\n",
    "<a href=#index>index</a>"
   ]
  },
  {
   "cell_type": "markdown",
   "metadata": {},
   "source": [
    "<a name='missing'></a>\n",
    "## \"Missing-ness\"\n",
    "\n",
    "<a href=#index>index</a>"
   ]
  },
  {
   "cell_type": "markdown",
   "metadata": {},
   "source": [
    "<a name='summary'></a>\n",
    "## Summary & Findings\n",
    "\n",
    "<a href=#index>index</a>"
   ]
  },
  {
   "cell_type": "markdown",
   "metadata": {},
   "source": [
    "Poor data quality.\n",
    "\n",
    "Data is inconsistent in quality. Human-entered data will always have inconsistencies. We will need to work around or with that.\n",
    "Any model will need more data. We will need to source more project data from other regions and types of projects to increase the variety\n",
    "Lots of missing data.\n",
    "To feed a model, some data engineering will be necessary. The types of dat that need to be created are not yet understood.\n",
    "Any efforts to normalize data will need to consider normalization within the project as well as within the entire dataset."
   ]
  },
  {
   "cell_type": "markdown",
   "metadata": {},
   "source": [
    "<a name='open'></a>\n",
    "## Open Items / Unanswered\n",
    "\n",
    "<a href=#index>index</a>"
   ]
  },
  {
   "cell_type": "code",
   "execution_count": null,
   "metadata": {},
   "outputs": [],
   "source": []
  },
  {
   "cell_type": "code",
   "execution_count": null,
   "metadata": {},
   "outputs": [],
   "source": []
  }
 ],
 "metadata": {
  "kernelspec": {
   "display_name": "Python 3",
   "language": "python",
   "name": "python3"
  },
  "language_info": {
   "codemirror_mode": {
    "name": "ipython",
    "version": 3
   },
   "file_extension": ".py",
   "mimetype": "text/x-python",
   "name": "python",
   "nbconvert_exporter": "python",
   "pygments_lexer": "ipython3",
   "version": "3.7.6"
  }
 },
 "nbformat": 4,
 "nbformat_minor": 4
}
