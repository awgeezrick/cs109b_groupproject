{
 "cells": [
  {
   "cell_type": "raw",
   "metadata": {},
   "source": [
    "---\n",
    "title: This is a Knowledge Template Header\n",
    "authors:\n",
    "- sally_smarts \n",
    "- wesley_wisdom\n",
    "tags:\n",
    "- knowledge\n",
    "- example\n",
    "created_at: 2016-06-29\n",
    "updated_at: 2016-06-30\n",
    "tldr: This is short description of the content and findings of the post.\n",
    "---"
   ]
  },
  {
   "cell_type": "markdown",
   "metadata": {
    "nteract": {
     "transient": {
      "deleting": false
     }
    }
   },
   "source": [
    "## Instructions:\n",
    "\n",
    "## Todo:\n",
    "\n",
    "### Inputs:\n",
    "\n",
    "### Outputs:\n"
   ]
  },
  {
   "cell_type": "markdown",
   "metadata": {
    "nteract": {
     "transient": {
      "deleting": false
     }
    }
   },
   "source": [
    "<a name='index'></a>\n",
    "\n",
    "## Notebook Index\n",
    "\n",
    "1. <a href=#imports>Imports</a>\n",
    "\n",
    "\n",
    "2. <a href=#read>Read Dataset</a>\n",
    "\n",
    "\n",
    "3. <a href=#functions>Define data generator functions and default parameters</a>\n",
    "\n",
    "\n",
    "4. <a href=#analyses>Analyses</a>"
   ]
  },
  {
   "cell_type": "code",
   "execution_count": 12,
   "metadata": {},
   "outputs": [
    {
     "data": {
      "text/html": [
       "<script>\n",
       "code_show=true; \n",
       "function code_toggle() {\n",
       " if (code_show){\n",
       " $('div.input').show();\n",
       " } else {\n",
       " $('div.input').hide();\n",
       " }\n",
       " code_show = !code_show\n",
       "} \n",
       "$( document ).ready(code_toggle);\n",
       "</script>\n",
       "<form action=\"javascript:code_toggle()\"><input type=\"submit\" value=\"Click here to toggle on/off the raw code.\"></form>"
      ],
      "text/plain": [
       "<IPython.core.display.HTML object>"
      ]
     },
     "execution_count": 12,
     "metadata": {},
     "output_type": "execute_result"
    }
   ],
   "source": [
    "from IPython.display import HTML, Image, IFrame, Markdown\n",
    "\n",
    "HTML('''<script>\n",
    "code_show=true; \n",
    "function code_toggle() {\n",
    " if (code_show){\n",
    " $('div.input').show();\n",
    " } else {\n",
    " $('div.input').hide();\n",
    " }\n",
    " code_show = !code_show\n",
    "} \n",
    "$( document ).ready(code_toggle);\n",
    "</script>\n",
    "<form action=\"javascript:code_toggle()\"><input type=\"submit\" value=\"Click here to toggle on/off the raw code.\"></form>''')"
   ]
  },
  {
   "cell_type": "markdown",
   "metadata": {},
   "source": [
    "---"
   ]
  },
  {
   "cell_type": "markdown",
   "metadata": {},
   "source": [
    "<a name='imports'></a>\n",
    "## Imports\n",
    "Imports for function used in this notebook.\n",
    "\n",
    "<a href=#index>index</a>"
   ]
  },
  {
   "cell_type": "markdown",
   "metadata": {},
   "source": [
    "### Data Wrangling"
   ]
  },
  {
   "cell_type": "code",
   "execution_count": 13,
   "metadata": {},
   "outputs": [],
   "source": [
    "import pandas as pd\n",
    "import numpy as np"
   ]
  },
  {
   "cell_type": "markdown",
   "metadata": {},
   "source": [
    "### Utils"
   ]
  },
  {
   "cell_type": "code",
   "execution_count": 14,
   "metadata": {},
   "outputs": [],
   "source": [
    "from pickle import dump, load\n",
    "from tqdm.auto import tqdm\n",
    "import glob\n",
    "from functools import reduce"
   ]
  },
  {
   "cell_type": "markdown",
   "metadata": {},
   "source": [
    "---"
   ]
  },
  {
   "cell_type": "markdown",
   "metadata": {},
   "source": [
    "<a name='read'></a>\n",
    "## Data Loading\n",
    "All the data loaded from disk and used in this notebook\n",
    "\n",
    "<a href=#index>index</a>"
   ]
  },
  {
   "cell_type": "code",
   "execution_count": 15,
   "metadata": {},
   "outputs": [
    {
     "name": "stdout",
     "output_type": "stream",
     "text": [
      "NYC_capital_projects_3yr_test\n",
      "NYC_capital_projects_3yr_train\n",
      "UMAP_embeddings_NYC_capital_projects_3yr_test\n",
      "UMAP_embeddings_NYC_capital_projects_3yr_train\n",
      "ae_pca_encoded_embed_test\n",
      "ae_pca_encoded_embed_train\n"
     ]
    }
   ],
   "source": [
    "data_dict = {\"train\":{}, \"test\":{}}\n",
    "files_needed = set(['NYC_capital_projects_3yr_test', 'NYC_capital_projects_3yr_train', 'ae_pca_encoded_embed_test', 'ae_pca_encoded_embed_train', 'UMAP_embeddings_NYC_capital_projects_3yr_test', 'UMAP_embeddings_NYC_capital_projects_3yr_train'])\n",
    "files_needed_paths = [f\"../data/processed/{file}.csv\" for file in files_needed]\n",
    "                   \n",
    "for file in sorted(files_needed_paths):\n",
    "    file_name, extension = file.split(\"/\")[-1].split(\".\")\n",
    "    print(file_name)\n",
    "    if file_name.startswith(\"NYC\"):\n",
    "        date_cols = [\n",
    "    'Design_Start',\n",
    "    'Final_Change_Date',\n",
    "    'Schedule_Start',\n",
    "    'Schedule_End',\n",
    "]\n",
    "        drop_col = \"Unnamed: 0\"\n",
    "    \n",
    "    #umap \n",
    "    else:\n",
    "        date_cols = []\n",
    "        drop_col = []\n",
    "    \n",
    "    df = pd.read_csv(file, parse_dates=date_cols).drop(columns=drop_col)\n",
    "    \n",
    "    if file_name.split(\"_\")[-1] == \"train\":\n",
    "        data_dict[\"train\"][file_name] = df\n",
    "    elif file_name.split(\"_\")[-1] == \"test\":\n",
    "        data_dict[\"test\"][file_name] = df\n",
    "    else:\n",
    "        data_dict[file_name] = df\n",
    "data_dict.keys()\n",
    "\n",
    "#could also do great expectations to check file format/content\n",
    "\n",
    "is_missing_file = files_needed\\\n",
    "                - (set(data_dict[\"train\"].keys()) | set(data_dict[\"test\"].keys()) )\n",
    "\n",
    "if is_missing_file:\n",
    "    display(Markdown(\"[Click here to go to Google Drive folder](https://drive.google.com/drive/folders/1I2EJtiYyLfK5DNrtIGBA2n8pTStr5lWG)\"))\n",
    "    display(Markdown(f\"You seem to be missing the files {[f'{name}.csv' for name in is_missing_file]}. Please download them from the Google drive.\"))\n",
    "    raise FileNotFoundError()"
   ]
  },
  {
   "cell_type": "code",
   "execution_count": 16,
   "metadata": {},
   "outputs": [
    {
     "data": {
      "text/plain": [
       "dict_keys(['NYC_capital_projects_3yr_train', 'UMAP_embeddings_NYC_capital_projects_3yr_train', 'ae_pca_encoded_embed_train'])"
      ]
     },
     "execution_count": 16,
     "metadata": {},
     "output_type": "execute_result"
    }
   ],
   "source": [
    "data_dict[\"train\"].keys()"
   ]
  },
  {
   "cell_type": "code",
   "execution_count": 17,
   "metadata": {},
   "outputs": [
    {
     "data": {
      "text/plain": [
       "dict_keys(['NYC_capital_projects_3yr_test', 'UMAP_embeddings_NYC_capital_projects_3yr_test', 'ae_pca_encoded_embed_test'])"
      ]
     },
     "execution_count": 17,
     "metadata": {},
     "output_type": "execute_result"
    }
   ],
   "source": [
    "data_dict[\"test\"].keys()"
   ]
  },
  {
   "cell_type": "code",
   "execution_count": 18,
   "metadata": {},
   "outputs": [
    {
     "data": {
      "text/plain": [
       "Index(['attribute_clustering_label'], dtype='object')"
      ]
     },
     "execution_count": 18,
     "metadata": {},
     "output_type": "execute_result"
    }
   ],
   "source": [
    "data_dict[\"train\"]['UMAP_embeddings_NYC_capital_projects_3yr_train'].columns[data_dict[\"train\"]['UMAP_embeddings_NYC_capital_projects_3yr_train'].columns.str.contains(\"label\")]"
   ]
  },
  {
   "cell_type": "code",
   "execution_count": 19,
   "metadata": {},
   "outputs": [],
   "source": [
    "# filters so only keep the 2D features\n",
    "umap_df_train = data_dict[\"train\"]['UMAP_embeddings_NYC_capital_projects_3yr_train']\n",
    "umap_df_train['attribute_clustering_label'] = umap_df_train['attribute_clustering_label'].astype(\"str\") \n",
    "data_dict[\"train\"]['UMAP_embeddings_NYC_capital_projects_3yr_train'] = umap_df_train[[\"PID\"] + list(umap_df_train.columns[umap_df_train.columns.str.startswith(\"umap_attributes_2D\") | umap_df_train.columns.str.startswith(\"umap_descr_2D\") ] ) + ['attribute_clustering_label']]\n",
    "\n",
    "# filters so only keep the 2D features\n",
    "umap_df_test = data_dict[\"test\"]['UMAP_embeddings_NYC_capital_projects_3yr_test']\n",
    "umap_df_test['attribute_clustering_label'] = umap_df_test['attribute_clustering_label'].astype(\"str\") \n",
    "data_dict[\"test\"]['UMAP_embeddings_NYC_capital_projects_3yr_test'] = umap_df_test[[\"PID\"]  + list(umap_df_test.columns[umap_df_test.columns.str.startswith(\"umap_attributes_2D\") | umap_df_test.columns.str.startswith(\"umap_descr_2D\")] ) + ['attribute_clustering_label']]\n"
   ]
  },
  {
   "cell_type": "code",
   "execution_count": 20,
   "metadata": {},
   "outputs": [],
   "source": [
    "df_train_merged = reduce(lambda  left,right: pd.merge(left.copy(),right.copy(),on='PID',\n",
    "                                            how='left'), data_dict[\"train\"].values())\n",
    "\n",
    "assert df_train_merged.isnull().sum().sum() == 0\n",
    "assert df_train_merged.shape == (134,52)\n",
    "\n"
   ]
  },
  {
   "cell_type": "code",
   "execution_count": 21,
   "metadata": {},
   "outputs": [],
   "source": [
    "df_test_merged = reduce(lambda  left,right: pd.merge(left.copy(),right.copy(),on='PID',\n",
    "                                            how='left'), data_dict[\"test\"].values())\n",
    "\n",
    "assert df_test_merged.isnull().sum().sum() == 0\n",
    "assert df_test_merged.shape == (15,52)\n",
    "\n"
   ]
  },
  {
   "cell_type": "code",
   "execution_count": 22,
   "metadata": {},
   "outputs": [
    {
     "name": "stdout",
     "output_type": "stream",
     "text": [
      "<class 'pandas.core.frame.DataFrame'>\n",
      "Int64Index: 134 entries, 0 to 133\n",
      "Data columns (total 52 columns):\n",
      "PID                           134 non-null int64\n",
      "Project_Name                  134 non-null object\n",
      "Description                   134 non-null object\n",
      "Category                      134 non-null object\n",
      "Borough                       134 non-null object\n",
      "Managing_Agency               134 non-null object\n",
      "Client_Agency                 134 non-null object\n",
      "Phase_Start                   134 non-null object\n",
      "Current_Project_Years         134 non-null float64\n",
      "Current_Project_Year          134 non-null int64\n",
      "Design_Start                  134 non-null datetime64[ns]\n",
      "Budget_Start                  134 non-null float64\n",
      "Schedule_Start                134 non-null datetime64[ns]\n",
      "Final_Change_Date             134 non-null datetime64[ns]\n",
      "Final_Change_Years            134 non-null float64\n",
      "Phase_End                     134 non-null object\n",
      "Budget_End                    134 non-null float64\n",
      "Schedule_End                  134 non-null datetime64[ns]\n",
      "Number_Changes                134 non-null int64\n",
      "Duration_Start                134 non-null int64\n",
      "Duration_End                  134 non-null int64\n",
      "Schedule_Change               134 non-null int64\n",
      "Budget_Change                 134 non-null float64\n",
      "Schedule_Change_Ratio         134 non-null float64\n",
      "Budget_Change_Ratio           134 non-null float64\n",
      "Budget_Abs_Per_Error          134 non-null float64\n",
      "Budget_Rel_Per_Error          134 non-null float64\n",
      "Duration_End_Ratio            134 non-null float64\n",
      "Budget_End_Ratio              134 non-null float64\n",
      "Duration_Ratio_Inv            134 non-null float64\n",
      "Budget_Ratio_Inv              134 non-null float64\n",
      "Category_Old                  134 non-null object\n",
      "Bridges                       134 non-null int64\n",
      "Ferries                       134 non-null int64\n",
      "Industrial_Development        134 non-null int64\n",
      "Parks                         134 non-null int64\n",
      "Sanitation                    134 non-null int64\n",
      "Schools                       134 non-null int64\n",
      "Sewers                        134 non-null int64\n",
      "Streets_and_Roadways          134 non-null int64\n",
      "Wastewater_Treatment          134 non-null int64\n",
      "Water_Supply                  134 non-null int64\n",
      "Category_Code                 134 non-null int64\n",
      "umap_descr_2D_embed_1         134 non-null float64\n",
      "umap_descr_2D_embed_2         134 non-null float64\n",
      "umap_attributes_2D_embed_1    134 non-null float64\n",
      "umap_attributes_2D_embed_2    134 non-null float64\n",
      "attribute_clustering_label    134 non-null object\n",
      "ae_descr_embed_1              134 non-null float64\n",
      "ae_descr_embed_2              134 non-null float64\n",
      "pca_descr_embed_1             134 non-null float64\n",
      "pca_descr_embed_2             134 non-null float64\n",
      "dtypes: datetime64[ns](4), float64(21), int64(17), object(10)\n",
      "memory usage: 55.5+ KB\n"
     ]
    }
   ],
   "source": [
    "df_train_merged.info()"
   ]
  },
  {
   "cell_type": "code",
   "execution_count": 23,
   "metadata": {},
   "outputs": [
    {
     "name": "stdout",
     "output_type": "stream",
     "text": [
      "<class 'pandas.core.frame.DataFrame'>\n",
      "Int64Index: 15 entries, 0 to 14\n",
      "Data columns (total 52 columns):\n",
      "PID                           15 non-null int64\n",
      "Project_Name                  15 non-null object\n",
      "Description                   15 non-null object\n",
      "Category                      15 non-null object\n",
      "Borough                       15 non-null object\n",
      "Managing_Agency               15 non-null object\n",
      "Client_Agency                 15 non-null object\n",
      "Phase_Start                   15 non-null object\n",
      "Current_Project_Years         15 non-null float64\n",
      "Current_Project_Year          15 non-null int64\n",
      "Design_Start                  15 non-null datetime64[ns]\n",
      "Budget_Start                  15 non-null float64\n",
      "Schedule_Start                15 non-null datetime64[ns]\n",
      "Final_Change_Date             15 non-null datetime64[ns]\n",
      "Final_Change_Years            15 non-null float64\n",
      "Phase_End                     15 non-null object\n",
      "Budget_End                    15 non-null float64\n",
      "Schedule_End                  15 non-null datetime64[ns]\n",
      "Number_Changes                15 non-null int64\n",
      "Duration_Start                15 non-null int64\n",
      "Duration_End                  15 non-null int64\n",
      "Schedule_Change               15 non-null int64\n",
      "Budget_Change                 15 non-null float64\n",
      "Schedule_Change_Ratio         15 non-null float64\n",
      "Budget_Change_Ratio           15 non-null float64\n",
      "Budget_Abs_Per_Error          15 non-null float64\n",
      "Budget_Rel_Per_Error          15 non-null float64\n",
      "Duration_End_Ratio            15 non-null float64\n",
      "Budget_End_Ratio              15 non-null float64\n",
      "Duration_Ratio_Inv            15 non-null float64\n",
      "Budget_Ratio_Inv              15 non-null float64\n",
      "Category_Old                  15 non-null object\n",
      "Bridges                       15 non-null int64\n",
      "Ferries                       15 non-null int64\n",
      "Industrial_Development        15 non-null int64\n",
      "Parks                         15 non-null int64\n",
      "Sanitation                    15 non-null int64\n",
      "Schools                       15 non-null int64\n",
      "Sewers                        15 non-null int64\n",
      "Streets_and_Roadways          15 non-null int64\n",
      "Wastewater_Treatment          15 non-null int64\n",
      "Water_Supply                  15 non-null int64\n",
      "Category_Code                 15 non-null int64\n",
      "umap_descr_2D_embed_1         15 non-null float64\n",
      "umap_descr_2D_embed_2         15 non-null float64\n",
      "umap_attributes_2D_embed_1    15 non-null float64\n",
      "umap_attributes_2D_embed_2    15 non-null float64\n",
      "attribute_clustering_label    15 non-null object\n",
      "ae_descr_embed_1              15 non-null float64\n",
      "ae_descr_embed_2              15 non-null float64\n",
      "pca_descr_embed_1             15 non-null float64\n",
      "pca_descr_embed_2             15 non-null float64\n",
      "dtypes: datetime64[ns](4), float64(21), int64(17), object(10)\n",
      "memory usage: 6.2+ KB\n"
     ]
    }
   ],
   "source": [
    "df_test_merged.info()"
   ]
  },
  {
   "cell_type": "code",
   "execution_count": 24,
   "metadata": {},
   "outputs": [],
   "source": [
    "df_train_merged.to_csv(\"../data/processed/NYC_capital_projects_3yr_final_train.csv\")\n",
    "df_test_merged.to_csv(\"../data/processed/NYC_capital_projects_3yr_final_test.csv\")"
   ]
  }
 ],
 "metadata": {
  "kernelspec": {
   "display_name": "cs109b-project",
   "language": "python",
   "name": "cs109b-project"
  },
  "language_info": {
   "codemirror_mode": {
    "name": "ipython",
    "version": 3
   },
   "file_extension": ".py",
   "mimetype": "text/x-python",
   "name": "python",
   "nbconvert_exporter": "python",
   "pygments_lexer": "ipython3",
   "version": "3.8.2"
  },
  "nteract": {
   "version": "0.21.0"
  }
 },
 "nbformat": 4,
 "nbformat_minor": 4
}
