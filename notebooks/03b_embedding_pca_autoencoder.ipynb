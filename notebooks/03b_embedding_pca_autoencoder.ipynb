{
 "cells": [
  {
   "cell_type": "markdown",
   "metadata": {},
   "source": [
    "# 02b_embedding_pca_autoencoder\n",
    "\n",
    "In this notebook, an autoencoder and PCA decomposition are trained on our training data textual description embeddings, reducing the embeddings to a bottlenecked 2-dimenstion latent space.\n",
    "\n",
    "The purpose of this will be to convert the 512 dimension Bert embeddings of our textual project descriptions to an encoded 2-dimensional feature we can use while training and testing our models. PCA decomposition and autoencoder latent space encoding are being used as two competing methods to accomplish this task. During modeling, we will determine which method of encoding yields better predictive power for our finished models and use that method.\n",
    "\n",
    "## Inputs\n",
    "\n",
    "- `'../data/processed/embeddings_uncased_L-2_H-128_A-2.csv'`\n",
    "\n",
    "\n",
    "- `'../data/interim/NYC_capital_projects_3yr_train.csv'`\n",
    "\n",
    "\n",
    "- `'../data/interim/NYC_capital_projects_3yr_test.csv'`\n",
    "\n",
    "## Outputs\n",
    "\n",
    "**Data files**\n",
    "- `'../data/interim/ae_pca_encoded_embed_train.csv'`\n",
    "\n",
    "\n",
    "- `'../data/interim/ae_pca_encoded_embed_test.csv'`\n",
    "\n",
    "\n",
    "**Tensorflow Keras Autoencoder saved models**\n",
    "- `'../models/ae_descr_embed_encode'`\n",
    "\n",
    "\n",
    "- `'../models/ae_descr_embed_decode'`\n",
    "\n",
    "\n",
    "- `'../models/ae_descr_embed_full_ae'`\n",
    "\n",
    "\n",
    "**Scikit-learn PCA model, saved via `pickle`**\n",
    "- `'../models/pca_descr_embed.pickle'`\n",
    "\n"
   ]
  },
  {
   "cell_type": "code",
   "execution_count": 1,
   "metadata": {},
   "outputs": [],
   "source": [
    "random_seed = 109\n",
    "\n",
    "from numpy.random import seed\n",
    "seed(random_seed)\n",
    "\n",
    "import tensorflow as tf\n",
    "tf.random.set_seed(random_seed)"
   ]
  },
  {
   "cell_type": "code",
   "execution_count": 2,
   "metadata": {},
   "outputs": [],
   "source": [
    "import os\n",
    "import pickle\n",
    "\n",
    "import numpy as np\n",
    "import pandas as pd\n",
    "import seaborn as sns\n",
    "\n",
    "from matplotlib import pyplot\n",
    "import matplotlib.pylab as plt \n",
    "%matplotlib inline\n",
    "\n",
    "from sklearn.decomposition import PCA\n",
    "from sklearn.metrics import mean_squared_error\n",
    "\n",
    "from tensorflow.keras import Input\n",
    "from tensorflow.keras.models import Sequential, Model\n",
    "from tensorflow.keras.layers import Dense, Dropout\n",
    "from tensorflow.keras.optimizers import Adam"
   ]
  },
  {
   "cell_type": "code",
   "execution_count": 3,
   "metadata": {},
   "outputs": [
    {
     "name": "stdout",
     "output_type": "stream",
     "text": [
      "OK - path points to file.\n"
     ]
    }
   ],
   "source": [
    "filepath_embed = '../data/processed/embeddings_uncased_L-2_H-128_A-2.csv'\n",
    "filepath_train = '../data/interim/NYC_capital_projects_3yr_train.csv'\n",
    "filepath_test = '../data/interim/NYC_capital_projects_3yr_test.csv'\n",
    "\n",
    "savedata_train = '../data/processed/ae_pca_encoded_embed_train.csv'\n",
    "savedata_test = '../data/processed/ae_pca_encoded_embed_test.csv'\n",
    "\n",
    "savemodel_ae_hist = '../models/ae_descr_embed_history.pickle'\n",
    "savemodel_ae_encode = '../models/ae_descr_embed_encode'\n",
    "savemodel_ae_decode = '../models/ae_descr_embed_decode'\n",
    "savemodel_ae = '../models/ae_descr_embed_full_ae'\n",
    "savemodel_pca = '../models/pca_descr_embed.pickle'\n",
    "\n",
    "if os.path.isfile(filepath_embed):\n",
    "    print(\"OK - path points to file.\")\n",
    "else:\n",
    "    print(\"ERROR - check the 'file_path' and ensure it points to the source file.\")"
   ]
  },
  {
   "cell_type": "code",
   "execution_count": 4,
   "metadata": {},
   "outputs": [],
   "source": [
    "data_embed = pd.read_csv(filepath_embed)\n",
    "data_train = pd.read_csv(filepath_train)\n",
    "data_test = pd.read_csv(filepath_test)"
   ]
  },
  {
   "cell_type": "code",
   "execution_count": 5,
   "metadata": {},
   "outputs": [
    {
     "name": "stdout",
     "output_type": "stream",
     "text": [
      "Number of dataset records: 355\n",
      "Number of unique projects in dataset: 355\n"
     ]
    }
   ],
   "source": [
    "# entries\n",
    "print(f\"Number of dataset records: {len(data_embed)}\")\n",
    "\n",
    "# num projects\n",
    "print(f\"Number of unique projects in dataset: {len(data_embed['PID'].unique())}\")"
   ]
  },
  {
   "cell_type": "code",
   "execution_count": 6,
   "metadata": {},
   "outputs": [
    {
     "name": "stdout",
     "output_type": "stream",
     "text": [
      "<class 'pandas.core.frame.DataFrame'>\n",
      "RangeIndex: 355 entries, 0 to 354\n",
      "Data columns (total 2 columns):\n",
      " #   Column     Non-Null Count  Dtype \n",
      "---  ------     --------------  ----- \n",
      " 0   PID        355 non-null    int64 \n",
      " 1   embedding  355 non-null    object\n",
      "dtypes: int64(1), object(1)\n",
      "memory usage: 5.7+ KB\n"
     ]
    },
    {
     "data": {
      "text/html": [
       "<div>\n",
       "<style scoped>\n",
       "    .dataframe tbody tr th:only-of-type {\n",
       "        vertical-align: middle;\n",
       "    }\n",
       "\n",
       "    .dataframe tbody tr th {\n",
       "        vertical-align: top;\n",
       "    }\n",
       "\n",
       "    .dataframe thead th {\n",
       "        text-align: right;\n",
       "    }\n",
       "</style>\n",
       "<table border=\"1\" class=\"dataframe\">\n",
       "  <thead>\n",
       "    <tr style=\"text-align: right;\">\n",
       "      <th></th>\n",
       "      <th>PID</th>\n",
       "      <th>embedding</th>\n",
       "    </tr>\n",
       "  </thead>\n",
       "  <tbody>\n",
       "    <tr>\n",
       "      <th>0</th>\n",
       "      <td>3</td>\n",
       "      <td>-0.13848001, 1.458583, -6.7887063, 0.06124614,...</td>\n",
       "    </tr>\n",
       "    <tr>\n",
       "      <th>1</th>\n",
       "      <td>7</td>\n",
       "      <td>-0.13122314, 1.1953795, -6.7208285, 0.06136746...</td>\n",
       "    </tr>\n",
       "    <tr>\n",
       "      <th>2</th>\n",
       "      <td>18</td>\n",
       "      <td>0.09881482, 1.6704048, -6.5728025, 0.0689784, ...</td>\n",
       "    </tr>\n",
       "  </tbody>\n",
       "</table>\n",
       "</div>"
      ],
      "text/plain": [
       "   PID                                          embedding\n",
       "0    3  -0.13848001, 1.458583, -6.7887063, 0.06124614,...\n",
       "1    7  -0.13122314, 1.1953795, -6.7208285, 0.06136746...\n",
       "2   18  0.09881482, 1.6704048, -6.5728025, 0.0689784, ..."
      ]
     },
     "execution_count": 6,
     "metadata": {},
     "output_type": "execute_result"
    }
   ],
   "source": [
    "data_embed.info()\n",
    "\n",
    "data_embed.head(3)"
   ]
  },
  {
   "cell_type": "code",
   "execution_count": 7,
   "metadata": {},
   "outputs": [],
   "source": [
    "# dedupe dataframe by keeping first occurance of each PID\n",
    "data_embed = data_embed.copy().drop_duplicates(subset='PID', keep='first')"
   ]
  },
  {
   "cell_type": "code",
   "execution_count": 8,
   "metadata": {},
   "outputs": [
    {
     "name": "stdout",
     "output_type": "stream",
     "text": [
      "Number of dataset records: 355\n",
      "Number of unique projects in dataset: 355\n"
     ]
    }
   ],
   "source": [
    "# entries\n",
    "print(f\"Number of dataset records: {len(data_embed)}\")\n",
    "\n",
    "# num projects\n",
    "print(f\"Number of unique projects in dataset: {len(data_embed['PID'].unique())}\")"
   ]
  },
  {
   "cell_type": "code",
   "execution_count": 9,
   "metadata": {},
   "outputs": [],
   "source": [
    "# split embedding data into train/test splits\n",
    "\n",
    "# identify PIDs in train and test sets\n",
    "train_pids = data_train['PID'].values\n",
    "test_pids = data_test['PID'].values\n",
    "\n",
    "# used those PIDs to create two subsetted versions of the embed data\n",
    "embed_train = data_embed.set_index('PID').copy().loc[train_pids]\n",
    "embed_test = data_embed.set_index('PID').copy().loc[test_pids]"
   ]
  },
  {
   "cell_type": "code",
   "execution_count": 10,
   "metadata": {},
   "outputs": [
    {
     "data": {
      "text/plain": [
       "((134,), (134, 1), (15,), (15, 1))"
      ]
     },
     "execution_count": 10,
     "metadata": {},
     "output_type": "execute_result"
    }
   ],
   "source": [
    "train_pids.shape, embed_train.shape, test_pids.shape, embed_test.shape"
   ]
  },
  {
   "cell_type": "code",
   "execution_count": 11,
   "metadata": {},
   "outputs": [
    {
     "data": {
      "text/plain": [
       "((134, 512), dtype('float64'), (15, 512), dtype('float64'))"
      ]
     },
     "execution_count": 11,
     "metadata": {},
     "output_type": "execute_result"
    }
   ],
   "source": [
    "# generate embeddings train and test embedding value arrays\n",
    "\n",
    "# save index keys for both embedding sets just in case\n",
    "pid_key_train = embed_train.index\n",
    "pid_key_test = embed_test.index\n",
    "\n",
    "# extract embedding values from comma separated strings and convert to matrix \n",
    "embed_array_train = np.vstack(\n",
    "    embed_train['embedding'].str.split(',').apply(\n",
    "        lambda x: np.array(x).astype(float)\n",
    "    ).values\n",
    ")\n",
    "\n",
    "embed_array_test = np.vstack(\n",
    "    embed_test['embedding'].str.split(',').apply(\n",
    "        lambda x: np.array(x).astype(float)\n",
    "    ).values\n",
    ")\n",
    "\n",
    "# check shapes and types of resulting arrays\n",
    "embed_array_train.shape, embed_array_train.dtype, embed_array_test.shape, embed_array_test.dtype"
   ]
  },
  {
   "cell_type": "markdown",
   "metadata": {},
   "source": [
    "# Define functions for plotting and keras architecture"
   ]
  },
  {
   "cell_type": "code",
   "execution_count": 12,
   "metadata": {},
   "outputs": [],
   "source": [
    "# define function for plotting train vs val loss history by epoch\n",
    "\n",
    "def plot_history(history, title, val_name='validation', loss_type='MSE'):\n",
    "    \"\"\"Plot training and validation loss using keras history object\n",
    "    \"\"\"\n",
    "    n_epochs = len(history.history['loss'])\n",
    "    x_vals = np.arange(1, n_epochs+1)\n",
    "    \n",
    "    # adjust interval of x_ticks based on n_epochs\n",
    "    if n_epochs<40:\n",
    "        x_ticks = x_vals\n",
    "    elif n_epochs<140:\n",
    "        x_ticks = np.arange(0, n_epochs+1, 5)\n",
    "    else:\n",
    "        x_ticks = np.arange(0, n_epochs+1, 10)\n",
    "    \n",
    "    fig, ax = plt.subplots(1, 1, figsize=(12, 5))\n",
    "\n",
    "    plt.suptitle('{}'.format(title), fontsize=18)\n",
    "        \n",
    "    ax.plot(x_vals, history.history['loss'], 'k--', label='training')\n",
    "    ax.plot(x_vals, history.history['val_loss'], 'k-', label=val_name)\n",
    "    ax.set_xlabel('epoch', fontsize=14)\n",
    "    ax.set_ylabel('loss ({})'.format(loss_type), fontsize=14)\n",
    "    ax.set_xticks(x_ticks)\n",
    "    ax.grid(':', alpha=0.4)\n",
    "    ax.tick_params(labelsize=12)        \n",
    "    \n",
    "    plt.legend(fontsize=14)\n",
    "    plt.tight_layout(rect=[0, 0.03, 1, .9])\n",
    "    plt.show()\n",
    "\n",
    "    \n",
    "def plot_2d_embed_scatter(data1, data2, title, xlabel, ylabel,\n",
    "                          data1_name='training obs', data2_name='TEST obs'):\n",
    "    \"\"\"\n",
    "    \"\"\"\n",
    "    fig, ax = plt.subplots(figsize=(12, 5))\n",
    "    plt.title(\n",
    "        title,\n",
    "        fontsize=18\n",
    "    )\n",
    "    plt.scatter(*data1.T,  color='silver', alpha=1, label=data1_name)\n",
    "    plt.scatter(*data2.T, color='k', alpha=1, label=data2_name)\n",
    "    plt.ylabel(ylabel, fontsize=14)\n",
    "    plt.xlabel(xlabel, fontsize=14)\n",
    "    plt.xticks(fontsize=12)\n",
    "    plt.yticks(fontsize=12)\n",
    "    plt.grid(':', alpha=0.4)\n",
    "    plt.legend(fontsize=12)\n",
    "    plt.tight_layout()\n",
    "    plt.show()\n",
    "    \n",
    "    \n",
    "def plot_1d_embed_hist(data1, data2, title, xlabel, logscale=True,\n",
    "                       data1_name='training obs', data2_name='TEST obs'):\n",
    "    \"\"\"\n",
    "    \"\"\"\n",
    "    fig, ax = plt.subplots(figsize=(12, 4.5))\n",
    "    plt.title(\n",
    "        title,\n",
    "        fontsize=18\n",
    "    )\n",
    "    plt.hist(*data1.T, color='silver', alpha=1, label=data1_name)\n",
    "    plt.hist(*data2.T, color='k', alpha=1, label=data2_name)\n",
    "    if logscale:\n",
    "        plt.yscale('log')\n",
    "        plt.ylabel('frequency (log scale)', fontsize=14)\n",
    "    else:\n",
    "        plt.ylabel('frequency', fontsize=14)\n",
    "    plt.xlabel(xlabel, fontsize=14)\n",
    "    plt.xticks(fontsize=12)\n",
    "    plt.grid(':', alpha=0.4)\n",
    "    plt.legend(fontsize=12)\n",
    "    plt.tight_layout()\n",
    "    plt.show()"
   ]
  },
  {
   "cell_type": "code",
   "execution_count": 13,
   "metadata": {},
   "outputs": [],
   "source": [
    "def build_dense_ae_architecture(input_dim, encoding_dim, droprate, learning_rate, name):\n",
    "    \"\"\"\n",
    "    \"\"\"\n",
    "    # define encoder model\n",
    "    input_layer = Input(shape=input_dim)\n",
    "    \n",
    "    encoded = Dense(encoding_dim*256, activation='relu', use_bias=True)(input_layer)\n",
    "    encoded = Dropout(rate=droprate)(encoded)\n",
    "    encoded = Dense(encoding_dim*64, activation='relu', use_bias=True)(encoded)\n",
    "    encoded = Dropout(rate=droprate)(encoded)\n",
    "    encoded = Dense(encoding_dim*16, activation='relu', use_bias=True)(encoded)\n",
    "    encoded = Dropout(rate=droprate)(encoded)\n",
    "    encoded = Dense(encoding_dim*4, activation='relu', use_bias=True)(encoded)\n",
    "    encoded = Dropout(rate=droprate)(encoded)\n",
    "    encoded = Dense(encoding_dim, activation='linear', use_bias=True)(encoded)\n",
    "    \n",
    "    encoder = Model(input_layer, encoded, name='{}_encoder'.format(name))\n",
    "\n",
    "    # define decoder model\n",
    "    latent_input = Input(shape=(encoding_dim,))\n",
    "    \n",
    "    decoded = Dense(encoding_dim*4, activation='relu', use_bias=True)(latent_input)\n",
    "    decoded = Dropout(rate=droprate)(decoded)\n",
    "    decoded = Dense(encoding_dim*16, activation='relu', use_bias=True)(decoded)\n",
    "    decoded = Dropout(rate=droprate)(decoded)\n",
    "    decoded = Dense(encoding_dim*64, activation='relu', use_bias=True)(decoded)\n",
    "    decoded = Dropout(rate=droprate)(decoded)\n",
    "    decoded = Dense(encoding_dim*256, activation='relu', use_bias=True)(decoded)\n",
    "    decoded = Dropout(rate=droprate)(decoded)\n",
    "    decoded = Dense(input_dim, activation='linear', use_bias=True)(decoded)\n",
    "    \n",
    "    decoder = Model(latent_input, decoded, name='{}_decoder'.format(name))\n",
    "\n",
    "    # define full non-linear autoencoder model\n",
    "    ae = Sequential(\n",
    "        [\n",
    "            encoder,\n",
    "            decoder,\n",
    "        ], name=name\n",
    "    )\n",
    "\n",
    "    # set loss, optimizer, and compile model\n",
    "    loss = tf.keras.losses.mean_squared_error\n",
    "    optimizer = Adam(lr=learning_rate)\n",
    "\n",
    "    ae.compile(\n",
    "        loss=loss,\n",
    "        optimizer=optimizer\n",
    "    )\n",
    "\n",
    "    return ae, encoder, decoder\n"
   ]
  },
  {
   "cell_type": "markdown",
   "metadata": {},
   "source": [
    "# Build and fit Dense Autoencoder with 2D bottleneck"
   ]
  },
  {
   "cell_type": "code",
   "execution_count": 14,
   "metadata": {
    "scrolled": false
   },
   "outputs": [
    {
     "name": "stdout",
     "output_type": "stream",
     "text": [
      "\n",
      "THE ENCODER MODEL:\n",
      "\n",
      "Model: \"ae_2dim_encoder\"\n",
      "_________________________________________________________________\n",
      "Layer (type)                 Output Shape              Param #   \n",
      "=================================================================\n",
      "input_1 (InputLayer)         [(None, 512)]             0         \n",
      "_________________________________________________________________\n",
      "dense (Dense)                (None, 512)               262656    \n",
      "_________________________________________________________________\n",
      "dropout (Dropout)            (None, 512)               0         \n",
      "_________________________________________________________________\n",
      "dense_1 (Dense)              (None, 128)               65664     \n",
      "_________________________________________________________________\n",
      "dropout_1 (Dropout)          (None, 128)               0         \n",
      "_________________________________________________________________\n",
      "dense_2 (Dense)              (None, 32)                4128      \n",
      "_________________________________________________________________\n",
      "dropout_2 (Dropout)          (None, 32)                0         \n",
      "_________________________________________________________________\n",
      "dense_3 (Dense)              (None, 8)                 264       \n",
      "_________________________________________________________________\n",
      "dropout_3 (Dropout)          (None, 8)                 0         \n",
      "_________________________________________________________________\n",
      "dense_4 (Dense)              (None, 2)                 18        \n",
      "=================================================================\n",
      "Total params: 332,730\n",
      "Trainable params: 332,730\n",
      "Non-trainable params: 0\n",
      "_________________________________________________________________\n",
      "\n",
      "\n",
      "THE DECODER MODEL:\n",
      "\n",
      "Model: \"ae_2dim_decoder\"\n",
      "_________________________________________________________________\n",
      "Layer (type)                 Output Shape              Param #   \n",
      "=================================================================\n",
      "input_2 (InputLayer)         [(None, 2)]               0         \n",
      "_________________________________________________________________\n",
      "dense_5 (Dense)              (None, 8)                 24        \n",
      "_________________________________________________________________\n",
      "dropout_4 (Dropout)          (None, 8)                 0         \n",
      "_________________________________________________________________\n",
      "dense_6 (Dense)              (None, 32)                288       \n",
      "_________________________________________________________________\n",
      "dropout_5 (Dropout)          (None, 32)                0         \n",
      "_________________________________________________________________\n",
      "dense_7 (Dense)              (None, 128)               4224      \n",
      "_________________________________________________________________\n",
      "dropout_6 (Dropout)          (None, 128)               0         \n",
      "_________________________________________________________________\n",
      "dense_8 (Dense)              (None, 512)               66048     \n",
      "_________________________________________________________________\n",
      "dropout_7 (Dropout)          (None, 512)               0         \n",
      "_________________________________________________________________\n",
      "dense_9 (Dense)              (None, 512)               262656    \n",
      "=================================================================\n",
      "Total params: 333,240\n",
      "Trainable params: 333,240\n",
      "Non-trainable params: 0\n",
      "_________________________________________________________________\n",
      "\n",
      "\n",
      "THE AUTOENCODER (AE) MODEL:\n",
      "\n",
      "Model: \"ae_2dim\"\n",
      "_________________________________________________________________\n",
      "Layer (type)                 Output Shape              Param #   \n",
      "=================================================================\n",
      "ae_2dim_encoder (Model)      (None, 2)                 332730    \n",
      "_________________________________________________________________\n",
      "ae_2dim_decoder (Model)      (None, 512)               333240    \n",
      "=================================================================\n",
      "Total params: 665,970\n",
      "Trainable params: 665,970\n",
      "Non-trainable params: 0\n",
      "_________________________________________________________________\n",
      "\n",
      "\n",
      "Restoring model weights from the end of the best epoch.\n",
      "Epoch 00022: early stopping\n"
     ]
    },
    {
     "data": {
      "image/png": "[encoded data removed]",
      "text/plain": [
       "<Figure size 864x360 with 1 Axes>"
      ]
     },
     "metadata": {
      "needs_background": "light"
     },
     "output_type": "display_data"
    },
    {
     "name": "stdout",
     "output_type": "stream",
     "text": [
      "CPU times: user 16.5 s, sys: 16.9 s, total: 33.4 s\n",
      "Wall time: 5.19 s\n"
     ]
    }
   ],
   "source": [
    "%%time\n",
    "\n",
    "seed(random_seed)\n",
    "tf.random.set_seed(random_seed)\n",
    "\n",
    "# set input and encoded latent dimensions\n",
    "input_dim = embed_array_train.shape[1]\n",
    "encoding_dim = 2\n",
    "droprate = 0.2\n",
    "learning_rate = 0.005\n",
    "name = 'ae_2dim'\n",
    "\n",
    "ae2, encoder2, decoder2 = build_dense_ae_architecture(\n",
    "    input_dim, encoding_dim, droprate, learning_rate, name\n",
    ")\n",
    "\n",
    "# print summaries of each model\n",
    "print('\\nTHE ENCODER MODEL:\\n')\n",
    "encoder2.summary()\n",
    "print('\\n\\nTHE DECODER MODEL:\\n')\n",
    "decoder2.summary()\n",
    "print('\\n\\nTHE AUTOENCODER (AE) MODEL:\\n')\n",
    "ae2.summary()\n",
    "print('\\n')\n",
    "\n",
    "\n",
    "# set my parameters for training the model\n",
    "verbose = 0\n",
    "epochs = 200 # note my use of early-stopping to end training at suitable epoch\n",
    "batch_size = 16\n",
    "\n",
    "# callback for early stopping when epochs fail to yield val_loss improvements\n",
    "callback = tf.keras.callbacks.EarlyStopping(\n",
    "    monitor='val_loss', min_delta=0.0001, patience=10, verbose=1,\n",
    "    restore_best_weights=True\n",
    ")\n",
    "\n",
    "\n",
    "# Fit model using x_test as validation data and self for measuring loss\n",
    "ae2_history = ae2.fit(\n",
    "    x=embed_array_train,\n",
    "    y=embed_array_train,\n",
    "    epochs=epochs,\n",
    "    batch_size=batch_size,\n",
    "    shuffle=True,\n",
    "    callbacks=[callback],\n",
    "    validation_data=(embed_array_train, embed_array_train),\n",
    "    verbose=verbose\n",
    ")\n",
    "\n",
    "# plot the training vs validation loss \n",
    "plot_history(\n",
    "    ae2_history,\n",
    "    'Dense autoencoder with 2D latent space, training vs. validation loss',\n",
    "    loss_type='MSE'\n",
    ")"
   ]
  },
  {
   "cell_type": "markdown",
   "metadata": {},
   "source": [
    "# Build and fit Dense Autoencoder with 1D bottleneck"
   ]
  },
  {
   "cell_type": "code",
   "execution_count": 15,
   "metadata": {
    "scrolled": false
   },
   "outputs": [
    {
     "name": "stdout",
     "output_type": "stream",
     "text": [
      "\n",
      "THE ENCODER MODEL:\n",
      "\n",
      "Model: \"ae_1dim_encoder\"\n",
      "_________________________________________________________________\n",
      "Layer (type)                 Output Shape              Param #   \n",
      "=================================================================\n",
      "input_3 (InputLayer)         [(None, 512)]             0         \n",
      "_________________________________________________________________\n",
      "dense_10 (Dense)             (None, 256)               131328    \n",
      "_________________________________________________________________\n",
      "dropout_8 (Dropout)          (None, 256)               0         \n",
      "_________________________________________________________________\n",
      "dense_11 (Dense)             (None, 64)                16448     \n",
      "_________________________________________________________________\n",
      "dropout_9 (Dropout)          (None, 64)                0         \n",
      "_________________________________________________________________\n",
      "dense_12 (Dense)             (None, 16)                1040      \n",
      "_________________________________________________________________\n",
      "dropout_10 (Dropout)         (None, 16)                0         \n",
      "_________________________________________________________________\n",
      "dense_13 (Dense)             (None, 4)                 68        \n",
      "_________________________________________________________________\n",
      "dropout_11 (Dropout)         (None, 4)                 0         \n",
      "_________________________________________________________________\n",
      "dense_14 (Dense)             (None, 1)                 5         \n",
      "=================================================================\n",
      "Total params: 148,889\n",
      "Trainable params: 148,889\n",
      "Non-trainable params: 0\n",
      "_________________________________________________________________\n",
      "\n",
      "\n",
      "THE DECODER MODEL:\n",
      "\n",
      "Model: \"ae_1dim_decoder\"\n",
      "_________________________________________________________________\n",
      "Layer (type)                 Output Shape              Param #   \n",
      "=================================================================\n",
      "input_4 (InputLayer)         [(None, 1)]               0         \n",
      "_________________________________________________________________\n",
      "dense_15 (Dense)             (None, 4)                 8         \n",
      "_________________________________________________________________\n",
      "dropout_12 (Dropout)         (None, 4)                 0         \n",
      "_________________________________________________________________\n",
      "dense_16 (Dense)             (None, 16)                80        \n",
      "_________________________________________________________________\n",
      "dropout_13 (Dropout)         (None, 16)                0         \n",
      "_________________________________________________________________\n",
      "dense_17 (Dense)             (None, 64)                1088      \n",
      "_________________________________________________________________\n",
      "dropout_14 (Dropout)         (None, 64)                0         \n",
      "_________________________________________________________________\n",
      "dense_18 (Dense)             (None, 256)               16640     \n",
      "_________________________________________________________________\n",
      "dropout_15 (Dropout)         (None, 256)               0         \n",
      "_________________________________________________________________\n",
      "dense_19 (Dense)             (None, 512)               131584    \n",
      "=================================================================\n",
      "Total params: 149,400\n",
      "Trainable params: 149,400\n",
      "Non-trainable params: 0\n",
      "_________________________________________________________________\n",
      "\n",
      "\n",
      "THE AUTOENCODER (AE) MODEL:\n",
      "\n",
      "Model: \"ae_1dim\"\n",
      "_________________________________________________________________\n",
      "Layer (type)                 Output Shape              Param #   \n",
      "=================================================================\n",
      "ae_1dim_encoder (Model)      (None, 1)                 148889    \n",
      "_________________________________________________________________\n",
      "ae_1dim_decoder (Model)      (None, 512)               149400    \n",
      "=================================================================\n",
      "Total params: 298,289\n",
      "Trainable params: 298,289\n",
      "Non-trainable params: 0\n",
      "_________________________________________________________________\n",
      "\n",
      "\n",
      "Restoring model weights from the end of the best epoch.\n",
      "Epoch 00075: early stopping\n"
     ]
    },
    {
     "data": {
      "image/png": "[encoded data removed]",
      "text/plain": [
       "<Figure size 864x360 with 1 Axes>"
      ]
     },
     "metadata": {
      "needs_background": "light"
     },
     "output_type": "display_data"
    },
    {
     "name": "stdout",
     "output_type": "stream",
     "text": [
      "CPU times: user 35.6 s, sys: 42.9 s, total: 1min 18s\n",
      "Wall time: 10.8 s\n"
     ]
    }
   ],
   "source": [
    "%%time\n",
    "\n",
    "seed(random_seed)\n",
    "tf.random.set_seed(random_seed)\n",
    "\n",
    "# set input and encoded latent dimensions\n",
    "input_dim = embed_array_train.shape[1]\n",
    "encoding_dim = 1\n",
    "droprate = 0.2\n",
    "learning_rate = 0.005\n",
    "name = 'ae_1dim'\n",
    "\n",
    "ae1, encoder1, decoder1 = build_dense_ae_architecture(\n",
    "    input_dim, encoding_dim, droprate, learning_rate, name\n",
    ")\n",
    "\n",
    "# print summaries of each model\n",
    "print('\\nTHE ENCODER MODEL:\\n')\n",
    "encoder1.summary()\n",
    "print('\\n\\nTHE DECODER MODEL:\\n')\n",
    "decoder1.summary()\n",
    "print('\\n\\nTHE AUTOENCODER (AE) MODEL:\\n')\n",
    "ae1.summary()\n",
    "print('\\n')\n",
    "\n",
    "# set my parameters for training the model\n",
    "verbose = 0\n",
    "epochs = 200 # note my use of early-stopping to end training at suitable epoch\n",
    "batch_size = 16\n",
    "\n",
    "# callback for early stopping when epochs fail to yield val_loss improvements\n",
    "callback = tf.keras.callbacks.EarlyStopping(\n",
    "    monitor='val_loss', min_delta=0.0001, patience=10, verbose=1,\n",
    "    restore_best_weights=True\n",
    ")\n",
    "\n",
    "\n",
    "# Fit model using x_test as validation data and self for measuring loss\n",
    "ae1_history = ae1.fit(\n",
    "    x=embed_array_train,\n",
    "    y=embed_array_train,\n",
    "    epochs=epochs,\n",
    "    batch_size=batch_size,\n",
    "    shuffle=True,\n",
    "    callbacks=[callback],\n",
    "    validation_data=(embed_array_train, embed_array_train),\n",
    "    verbose=verbose\n",
    ")\n",
    "\n",
    "# plot the training vs validation loss \n",
    "plot_history(\n",
    "    ae1_history,\n",
    "    'Dense autoencoder with 1D latent space, training vs. validation loss',\n",
    "    loss_type='MSE'\n",
    ")"
   ]
  },
  {
   "cell_type": "markdown",
   "metadata": {},
   "source": [
    "# Fit PCA decomposition with 2 components"
   ]
  },
  {
   "cell_type": "code",
   "execution_count": 16,
   "metadata": {},
   "outputs": [
    {
     "name": "stdout",
     "output_type": "stream",
     "text": [
      "PCA decomposition fitted on training data embeddings.\n",
      "\n",
      "Total variance explained by the first 2 PCA compoenents: 31.64%\n",
      "\n"
     ]
    }
   ],
   "source": [
    "# generate PCA reduction\n",
    "PCA_embed = PCA(\n",
    "    n_components=2, random_state=random_seed\n",
    ").fit(embed_array_train)\n",
    "\n",
    "pca_expvar = PCA_embed.explained_variance_ratio_\n",
    "total_expvar = pca_expvar.sum()\n",
    "\n",
    "print(\n",
    "    'PCA decomposition fitted on training data embeddings.\\n\\n'\\\n",
    "    'Total variance explained by the first 2 PCA compoenents: {:.2%}'\\\n",
    "    '\\n'.format(total_expvar)\n",
    ")"
   ]
  },
  {
   "cell_type": "markdown",
   "metadata": {},
   "source": [
    "## Generate encoded embeddings for Train and Test using each method"
   ]
  },
  {
   "cell_type": "code",
   "execution_count": 17,
   "metadata": {},
   "outputs": [],
   "source": [
    "# generate AE 2D latent embeddings\n",
    "ae2_latent_train = encoder2.predict(embed_array_train)\n",
    "ae2_latent_test = encoder2.predict(embed_array_test)\n",
    "\n",
    "# generate AE 1D latent embeddings\n",
    "ae1_latent_train = encoder1.predict(embed_array_train)\n",
    "ae1_latent_test = encoder1.predict(embed_array_test)\n",
    "\n",
    "# generate PCA latent embeddings\n",
    "pca_embed_train = PCA_embed.transform(embed_array_train)\n",
    "pca_embed_test = PCA_embed.transform(embed_array_test)\n"
   ]
  },
  {
   "cell_type": "markdown",
   "metadata": {},
   "source": [
    "# Plot resulting encoded embeddings for each method"
   ]
  },
  {
   "cell_type": "code",
   "execution_count": 18,
   "metadata": {},
   "outputs": [
    {
     "data": {
      "image/png": "[encoded data removed]",
      "text/plain": [
       "<Figure size 864x360 with 1 Axes>"
      ]
     },
     "metadata": {
      "needs_background": "light"
     },
     "output_type": "display_data"
    },
    {
     "data": {
      "image/png": "[encoded data removed]",
      "text/plain": [
       "<Figure size 864x360 with 1 Axes>"
      ]
     },
     "metadata": {
      "needs_background": "light"
     },
     "output_type": "display_data"
    },
    {
     "data": {
      "image/png": "[encoded data removed]",
      "text/plain": [
       "<Figure size 864x324 with 1 Axes>"
      ]
     },
     "metadata": {
      "needs_background": "light"
     },
     "output_type": "display_data"
    }
   ],
   "source": [
    "title = '2D encoded embeddings, generated with PCA '\\\n",
    "        '({:.0%} explained variance)'.format(total_expvar)\n",
    "xlabel = 'first component ({:.0%})'.format(pca_expvar[0])\n",
    "ylabel = 'second component ({:.0%})'.format(pca_expvar[1])\n",
    "\n",
    "plot_2d_embed_scatter(pca_embed_train, pca_embed_test, title, xlabel, ylabel)\n",
    "\n",
    "title = '2D encoded embeddings, generated with a dense autoencoder latent space'\n",
    "xlabel = 'endcoding first dimension'\n",
    "ylabel = 'endcoding second dimension'\n",
    "\n",
    "plot_2d_embed_scatter(ae2_latent_train, ae2_latent_test, title, xlabel, ylabel)\n",
    "\n",
    "title = '1D encoded embeddings, generated with a dense autoencoder latent space'\n",
    "xlabel = 'encoded embedding value'\n",
    "\n",
    "plot_1d_embed_hist(ae1_latent_train, ae1_latent_test, title, xlabel, logscale=True)"
   ]
  },
  {
   "cell_type": "markdown",
   "metadata": {},
   "source": [
    "# Save resulting autoencoder models and fitted PCA model "
   ]
  },
  {
   "cell_type": "code",
   "execution_count": 19,
   "metadata": {},
   "outputs": [],
   "source": [
    "# consolidate all encodings into a single train and test dataframe\n",
    "column_names = [\n",
    "    'ae_descr_embed_1',\n",
    "    'ae_descr_embed_2',\n",
    "    'pca_descr_embed_1',\n",
    "    'pca_descr_embed_2',\n",
    "]\n",
    "\n",
    "encodings_train = pd.DataFrame(\n",
    "    data=np.hstack(\n",
    "        [\n",
    "            ae2_latent_train,\n",
    "            pca_embed_train,\n",
    "        ]\n",
    "    ),\n",
    "    index=pid_key_train,\n",
    "    columns=column_names,\n",
    ")\n",
    "\n",
    "encodings_test = pd.DataFrame(\n",
    "    data=np.hstack(\n",
    "        [\n",
    "        ae2_latent_test,\n",
    "        pca_embed_test,            \n",
    "        ]\n",
    "    ),\n",
    "    index=pid_key_test,\n",
    "    columns=column_names,\n",
    ")\n"
   ]
  },
  {
   "cell_type": "code",
   "execution_count": 20,
   "metadata": {},
   "outputs": [
    {
     "name": "stdout",
     "output_type": "stream",
     "text": [
      "<class 'pandas.core.frame.DataFrame'>\n",
      "Int64Index: 134 entries, 204 to 113\n",
      "Data columns (total 4 columns):\n",
      " #   Column             Non-Null Count  Dtype  \n",
      "---  ------             --------------  -----  \n",
      " 0   ae_descr_embed_1   134 non-null    float64\n",
      " 1   ae_descr_embed_2   134 non-null    float64\n",
      " 2   pca_descr_embed_1  134 non-null    float64\n",
      " 3   pca_descr_embed_2  134 non-null    float64\n",
      "dtypes: float64(4)\n",
      "memory usage: 5.2 KB\n"
     ]
    },
    {
     "data": {
      "text/html": [
       "<div>\n",
       "<style scoped>\n",
       "    .dataframe tbody tr th:only-of-type {\n",
       "        vertical-align: middle;\n",
       "    }\n",
       "\n",
       "    .dataframe tbody tr th {\n",
       "        vertical-align: top;\n",
       "    }\n",
       "\n",
       "    .dataframe thead th {\n",
       "        text-align: right;\n",
       "    }\n",
       "</style>\n",
       "<table border=\"1\" class=\"dataframe\">\n",
       "  <thead>\n",
       "    <tr style=\"text-align: right;\">\n",
       "      <th></th>\n",
       "      <th>ae_descr_embed_1</th>\n",
       "      <th>ae_descr_embed_2</th>\n",
       "      <th>pca_descr_embed_1</th>\n",
       "      <th>pca_descr_embed_2</th>\n",
       "    </tr>\n",
       "    <tr>\n",
       "      <th>PID</th>\n",
       "      <th></th>\n",
       "      <th></th>\n",
       "      <th></th>\n",
       "      <th></th>\n",
       "    </tr>\n",
       "  </thead>\n",
       "  <tbody>\n",
       "    <tr>\n",
       "      <th>204</th>\n",
       "      <td>4.762263</td>\n",
       "      <td>5.655444</td>\n",
       "      <td>6.019993</td>\n",
       "      <td>3.007928</td>\n",
       "    </tr>\n",
       "    <tr>\n",
       "      <th>577</th>\n",
       "      <td>2.932724</td>\n",
       "      <td>3.426455</td>\n",
       "      <td>-11.316878</td>\n",
       "      <td>-2.939249</td>\n",
       "    </tr>\n",
       "    <tr>\n",
       "      <th>664</th>\n",
       "      <td>4.478033</td>\n",
       "      <td>5.309156</td>\n",
       "      <td>3.997189</td>\n",
       "      <td>0.820257</td>\n",
       "    </tr>\n",
       "    <tr>\n",
       "      <th>402</th>\n",
       "      <td>4.855317</td>\n",
       "      <td>5.768815</td>\n",
       "      <td>5.142135</td>\n",
       "      <td>-5.358808</td>\n",
       "    </tr>\n",
       "    <tr>\n",
       "      <th>760</th>\n",
       "      <td>4.684791</td>\n",
       "      <td>5.561058</td>\n",
       "      <td>3.568246</td>\n",
       "      <td>-1.227396</td>\n",
       "    </tr>\n",
       "  </tbody>\n",
       "</table>\n",
       "</div>"
      ],
      "text/plain": [
       "     ae_descr_embed_1  ae_descr_embed_2  pca_descr_embed_1  pca_descr_embed_2\n",
       "PID                                                                          \n",
       "204          4.762263          5.655444           6.019993           3.007928\n",
       "577          2.932724          3.426455         -11.316878          -2.939249\n",
       "664          4.478033          5.309156           3.997189           0.820257\n",
       "402          4.855317          5.768815           5.142135          -5.358808\n",
       "760          4.684791          5.561058           3.568246          -1.227396"
      ]
     },
     "execution_count": 20,
     "metadata": {},
     "output_type": "execute_result"
    }
   ],
   "source": [
    "encodings_train.info()\n",
    "encodings_train.head()"
   ]
  },
  {
   "cell_type": "code",
   "execution_count": 21,
   "metadata": {},
   "outputs": [
    {
     "name": "stdout",
     "output_type": "stream",
     "text": [
      "<class 'pandas.core.frame.DataFrame'>\n",
      "Int64Index: 15 entries, 927 to 394\n",
      "Data columns (total 4 columns):\n",
      " #   Column             Non-Null Count  Dtype  \n",
      "---  ------             --------------  -----  \n",
      " 0   ae_descr_embed_1   15 non-null     float64\n",
      " 1   ae_descr_embed_2   15 non-null     float64\n",
      " 2   pca_descr_embed_1  15 non-null     float64\n",
      " 3   pca_descr_embed_2  15 non-null     float64\n",
      "dtypes: float64(4)\n",
      "memory usage: 600.0 bytes\n"
     ]
    },
    {
     "data": {
      "text/html": [
       "<div>\n",
       "<style scoped>\n",
       "    .dataframe tbody tr th:only-of-type {\n",
       "        vertical-align: middle;\n",
       "    }\n",
       "\n",
       "    .dataframe tbody tr th {\n",
       "        vertical-align: top;\n",
       "    }\n",
       "\n",
       "    .dataframe thead th {\n",
       "        text-align: right;\n",
       "    }\n",
       "</style>\n",
       "<table border=\"1\" class=\"dataframe\">\n",
       "  <thead>\n",
       "    <tr style=\"text-align: right;\">\n",
       "      <th></th>\n",
       "      <th>ae_descr_embed_1</th>\n",
       "      <th>ae_descr_embed_2</th>\n",
       "      <th>pca_descr_embed_1</th>\n",
       "      <th>pca_descr_embed_2</th>\n",
       "    </tr>\n",
       "    <tr>\n",
       "      <th>PID</th>\n",
       "      <th></th>\n",
       "      <th></th>\n",
       "      <th></th>\n",
       "      <th></th>\n",
       "    </tr>\n",
       "  </thead>\n",
       "  <tbody>\n",
       "    <tr>\n",
       "      <th>927</th>\n",
       "      <td>3.927144</td>\n",
       "      <td>4.637989</td>\n",
       "      <td>0.357263</td>\n",
       "      <td>5.324196</td>\n",
       "    </tr>\n",
       "    <tr>\n",
       "      <th>535</th>\n",
       "      <td>4.046380</td>\n",
       "      <td>4.783258</td>\n",
       "      <td>0.870488</td>\n",
       "      <td>5.500483</td>\n",
       "    </tr>\n",
       "    <tr>\n",
       "      <th>833</th>\n",
       "      <td>4.651678</td>\n",
       "      <td>5.520715</td>\n",
       "      <td>3.542440</td>\n",
       "      <td>-2.789586</td>\n",
       "    </tr>\n",
       "    <tr>\n",
       "      <th>7</th>\n",
       "      <td>4.593890</td>\n",
       "      <td>5.450310</td>\n",
       "      <td>2.441100</td>\n",
       "      <td>-4.252567</td>\n",
       "    </tr>\n",
       "    <tr>\n",
       "      <th>966</th>\n",
       "      <td>5.190388</td>\n",
       "      <td>6.177044</td>\n",
       "      <td>6.042110</td>\n",
       "      <td>-6.757799</td>\n",
       "    </tr>\n",
       "  </tbody>\n",
       "</table>\n",
       "</div>"
      ],
      "text/plain": [
       "     ae_descr_embed_1  ae_descr_embed_2  pca_descr_embed_1  pca_descr_embed_2\n",
       "PID                                                                          \n",
       "927          3.927144          4.637989           0.357263           5.324196\n",
       "535          4.046380          4.783258           0.870488           5.500483\n",
       "833          4.651678          5.520715           3.542440          -2.789586\n",
       "7            4.593890          5.450310           2.441100          -4.252567\n",
       "966          5.190388          6.177044           6.042110          -6.757799"
      ]
     },
     "execution_count": 21,
     "metadata": {},
     "output_type": "execute_result"
    }
   ],
   "source": [
    "encodings_test.info()\n",
    "encodings_test.head()"
   ]
  },
  {
   "cell_type": "code",
   "execution_count": 22,
   "metadata": {},
   "outputs": [
    {
     "name": "stdout",
     "output_type": "stream",
     "text": [
      "WARNING:tensorflow:From /usr/share/anaconda3/lib/python3.7/site-packages/tensorflow_core/python/ops/resource_variable_ops.py:1781: calling BaseResourceVariable.__init__ (from tensorflow.python.ops.resource_variable_ops) with constraint is deprecated and will be removed in a future version.\n",
      "Instructions for updating:\n",
      "If using Keras pass *_constraint arguments to layers.\n",
      "INFO:tensorflow:Assets written to: ../models/ae_descr_embed_full_ae/assets\n",
      "INFO:tensorflow:Assets written to: ../models/ae_descr_embed_encode/assets\n",
      "INFO:tensorflow:Assets written to: ../models/ae_descr_embed_decode/assets\n"
     ]
    }
   ],
   "source": [
    "# save finalized encodings dataframes to .csv\n",
    "encodings_train.to_csv(savedata_train, index=True)\n",
    "encodings_test.to_csv(savedata_test, index=True)\n",
    "\n",
    "# save fitted sklearn PCA model using pickle\n",
    "pickle.dump(PCA_embed, open(savemodel_pca, 'wb'))\n",
    "\n",
    "# extract ae2 history object values to dict so they can be pickled\n",
    "ae2_history_dict = {\n",
    "    key: values for key, values in ae2_history.history.items()\n",
    "}\n",
    "# save fitted ae2 training history dict using pickle\n",
    "pickle.dump(ae2_history_dict, open(savemodel_ae_hist, 'wb'))\n",
    "\n",
    "# save fitten keras AE encoder using tf\n",
    "ae2.save(savemodel_ae)\n",
    "encoder2.save(savemodel_ae_encode)\n",
    "decoder2.save(savemodel_ae_decode)"
   ]
  },
  {
   "cell_type": "code",
   "execution_count": null,
   "metadata": {},
   "outputs": [],
   "source": []
  }
 ],
 "metadata": {
  "kernelspec": {
   "display_name": "Python 3",
   "language": "python",
   "name": "python3"
  },
  "language_info": {
   "codemirror_mode": {
    "name": "ipython",
    "version": 3
   },
   "file_extension": ".py",
   "mimetype": "text/x-python",
   "name": "python",
   "nbconvert_exporter": "python",
   "pygments_lexer": "ipython3",
   "version": "3.7.6"
  }
 },
 "nbformat": 4,
 "nbformat_minor": 4
}
